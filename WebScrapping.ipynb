{
 "cells": [
  {
   "cell_type": "markdown",
   "metadata": {},
   "source": [
    "# Code to scrap SKUs from URLs in excel"
   ]
  },
  {
   "cell_type": "code",
   "execution_count": null,
   "metadata": {},
   "outputs": [],
   "source": [
    "import pandas as pd\n",
    "import csv\n",
    "df = pd.read_excel(r\"C:\\Users\\DELL\\Downloads\\file.xlsx\")"
   ]
  },
  {
   "cell_type": "code",
   "execution_count": 8,
   "metadata": {},
   "outputs": [
    {
     "data": {
      "text/html": [
       "<div>\n",
       "<style scoped>\n",
       "    .dataframe tbody tr th:only-of-type {\n",
       "        vertical-align: middle;\n",
       "    }\n",
       "\n",
       "    .dataframe tbody tr th {\n",
       "        vertical-align: top;\n",
       "    }\n",
       "\n",
       "    .dataframe thead th {\n",
       "        text-align: right;\n",
       "    }\n",
       "</style>\n",
       "<table border=\"1\" class=\"dataframe\">\n",
       "  <thead>\n",
       "    <tr style=\"text-align: right;\">\n",
       "      <th></th>\n",
       "      <th>URL</th>\n",
       "      <th>SR</th>\n",
       "      <th>Unnamed: 2</th>\n",
       "      <th>CONVERSION</th>\n",
       "      <th>COST</th>\n",
       "      <th>DP</th>\n",
       "      <th>OP</th>\n",
       "      <th>CATEGORY</th>\n",
       "    </tr>\n",
       "  </thead>\n",
       "  <tbody>\n",
       "    <tr>\n",
       "      <th>0</th>\n",
       "      <td>https://ar.shein.com/Letter-Patched-Detail-Cha...</td>\n",
       "      <td>47.0</td>\n",
       "      <td>38.54</td>\n",
       "      <td>2890.5</td>\n",
       "      <td>3690.5</td>\n",
       "      <td>6150.833333</td>\n",
       "      <td>20502.777778</td>\n",
       "      <td>BAGS</td>\n",
       "    </tr>\n",
       "    <tr>\n",
       "      <th>1</th>\n",
       "      <td>https://ar.shein.com/Metal-Faux-Pearl-Decor-Ba...</td>\n",
       "      <td>18.0</td>\n",
       "      <td>14.76</td>\n",
       "      <td>1107.0</td>\n",
       "      <td>1907.0</td>\n",
       "      <td>3178.333333</td>\n",
       "      <td>10594.444444</td>\n",
       "      <td>BAGS</td>\n",
       "    </tr>\n",
       "    <tr>\n",
       "      <th>2</th>\n",
       "      <td>https://ar.shein.com/Geometric-Pattern-Metal-L...</td>\n",
       "      <td>16.0</td>\n",
       "      <td>13.12</td>\n",
       "      <td>984.0</td>\n",
       "      <td>1784.0</td>\n",
       "      <td>2973.333333</td>\n",
       "      <td>9911.111111</td>\n",
       "      <td>BAGS</td>\n",
       "    </tr>\n",
       "    <tr>\n",
       "      <th>3</th>\n",
       "      <td>https://ar.shein.com/Allover-Letter-Graphic-Ba...</td>\n",
       "      <td>48.0</td>\n",
       "      <td>39.36</td>\n",
       "      <td>2952.0</td>\n",
       "      <td>3752.0</td>\n",
       "      <td>6253.333333</td>\n",
       "      <td>20844.444444</td>\n",
       "      <td>BAGS</td>\n",
       "    </tr>\n",
       "    <tr>\n",
       "      <th>4</th>\n",
       "      <td>https://ar.shein.com/Women-Shoulder-Bags-p-118...</td>\n",
       "      <td>19.0</td>\n",
       "      <td>15.58</td>\n",
       "      <td>1168.5</td>\n",
       "      <td>1968.5</td>\n",
       "      <td>3280.833333</td>\n",
       "      <td>10936.111111</td>\n",
       "      <td>BAGS</td>\n",
       "    </tr>\n",
       "  </tbody>\n",
       "</table>\n",
       "</div>"
      ],
      "text/plain": [
       "                                                 URL    SR  Unnamed: 2  \\\n",
       "0  https://ar.shein.com/Letter-Patched-Detail-Cha...  47.0       38.54   \n",
       "1  https://ar.shein.com/Metal-Faux-Pearl-Decor-Ba...  18.0       14.76   \n",
       "2  https://ar.shein.com/Geometric-Pattern-Metal-L...  16.0       13.12   \n",
       "3  https://ar.shein.com/Allover-Letter-Graphic-Ba...  48.0       39.36   \n",
       "4  https://ar.shein.com/Women-Shoulder-Bags-p-118...  19.0       15.58   \n",
       "\n",
       "   CONVERSION    COST           DP            OP CATEGORY  \n",
       "0      2890.5  3690.5  6150.833333  20502.777778     BAGS  \n",
       "1      1107.0  1907.0  3178.333333  10594.444444     BAGS  \n",
       "2       984.0  1784.0  2973.333333   9911.111111     BAGS  \n",
       "3      2952.0  3752.0  6253.333333  20844.444444     BAGS  \n",
       "4      1168.5  1968.5  3280.833333  10936.111111     BAGS  "
      ]
     },
     "execution_count": 8,
     "metadata": {},
     "output_type": "execute_result"
    }
   ],
   "source": [
    "df.head()"
   ]
  },
  {
   "cell_type": "code",
   "execution_count": 9,
   "metadata": {},
   "outputs": [
    {
     "data": {
      "text/plain": [
       "(1017, 8)"
      ]
     },
     "execution_count": 9,
     "metadata": {},
     "output_type": "execute_result"
    }
   ],
   "source": [
    "df.shape"
   ]
  },
  {
   "cell_type": "code",
   "execution_count": 10,
   "metadata": {},
   "outputs": [],
   "source": [
    "df.dropna(subset = ['URL'], inplace=True)"
   ]
  },
  {
   "cell_type": "code",
   "execution_count": 11,
   "metadata": {},
   "outputs": [
    {
     "data": {
      "text/plain": [
       "1017"
      ]
     },
     "execution_count": 11,
     "metadata": {},
     "output_type": "execute_result"
    }
   ],
   "source": [
    "web = df['URL']\n",
    "len(web)"
   ]
  },
  {
   "cell_type": "code",
   "execution_count": 12,
   "metadata": {},
   "outputs": [],
   "source": [
    "import requests\n",
    "from bs4 import BeautifulSoup\n",
    "import re"
   ]
  },
  {
   "cell_type": "code",
   "execution_count": 13,
   "metadata": {},
   "outputs": [
    {
     "data": {
      "text/plain": [
       "34"
      ]
     },
     "execution_count": 13,
     "metadata": {},
     "output_type": "execute_result"
    }
   ],
   "source": [
    "def split(list_a, chunk_size):\n",
    "\n",
    "  for i in range(0, len(list_a), chunk_size):\n",
    "    yield list_a[i:i + chunk_size]\n",
    "\n",
    "chunk_size = 30\n",
    "my_list = [1,2,3,4,5,6,7,8,9]\n",
    "new= list(split(web, chunk_size))\n",
    "len(new)"
   ]
  },
  {
   "cell_type": "code",
   "execution_count": null,
   "metadata": {},
   "outputs": [],
   "source": [
    "#for one data\n",
    "\n",
    "# r = requests.get(new[20][603])\n",
    "# soup = BeautifulSoup(r.content, 'html5lib')\n",
    "# data = soup.find_all('script')\n",
    "        \n",
    "# data = data[12]\n",
    "# data = re.findall('\\\"skc\\\":\\\"\\w+\\\"', str(data))[0]\n",
    "# data = data[6:].strip('\\\"')\n",
    "# data"
   ]
  },
  {
   "cell_type": "code",
   "execution_count": 14,
   "metadata": {
    "scrolled": true
   },
   "outputs": [
    {
     "name": "stdout",
     "output_type": "stream",
     "text": [
      "iteration no. done  0\n",
      "iteration no. done  1\n",
      "iteration no. done  2\n",
      "iteration no. done  3\n",
      "iteration no. done  4\n",
      "iteration no. done  5\n",
      "iteration no. done  6\n",
      "iteration no. done  7\n",
      "iteration no. done  8\n",
      "iteration no. done  9\n",
      "iteration no. done  10\n",
      "iteration no. done  11\n",
      "iteration no. done  12\n",
      "iteration no. done  13\n",
      "iteration no. done  14\n",
      "error at index  461  j  15\n",
      "iteration no. done  15\n",
      "iteration no. done  16\n",
      "iteration no. done  17\n",
      "iteration no. done  18\n",
      "error at index  588  j  19\n",
      "iteration no. done  19\n",
      "error at index  603  j  20\n",
      "iteration no. done  20\n",
      "iteration no. done  21\n",
      "iteration no. done  22\n",
      "iteration no. done  23\n",
      "iteration no. done  24\n",
      "iteration no. done  25\n",
      "iteration no. done  26\n",
      "iteration no. done  27\n",
      "iteration no. done  28\n",
      "iteration no. done  29\n",
      "iteration no. done  30\n",
      "iteration no. done  31\n",
      "iteration no. done  32\n",
      "iteration no. done  33\n"
     ]
    }
   ],
   "source": [
    "sku_list = []\n",
    "\n",
    "for j in range(len(new)):\n",
    "    new1 = new[j]\n",
    "    for i in new1.index:\n",
    "        try:\n",
    "            r = requests.get(new1[i])\n",
    "            soup = BeautifulSoup(r.content, 'html5lib')\n",
    "            data = soup.find_all('script')\n",
    "        \n",
    "            data = data[12]\n",
    "            data = re.findall('\\\"skc\\\":\\\"\\w+\\\"', str(data))[0]\n",
    "            data = data[6:].strip('\\\"')\n",
    "            sku_list.append(data)\n",
    "            with open(r'C:\\Users\\DELL\\Downloads\\Book1.csv', 'a', newline='') as csvfile:\n",
    "                fieldnames = ['URL','SKU']\n",
    "                writer = csv.DictWriter(csvfile, fieldnames=fieldnames)\n",
    "\n",
    "                writer.writerow({'URL':new1[i], 'SKU':data})\n",
    "            \n",
    "            \n",
    "            \n",
    "        except:\n",
    "            print(\"error at index \",i, \" j \",j)\n",
    "    \n",
    "    print(\"iteration no. done \", j)"
   ]
  },
  {
   "cell_type": "code",
   "execution_count": null,
   "metadata": {},
   "outputs": [],
   "source": [
    "#saved to csv/excel "
   ]
  }
 ],
 "metadata": {
  "kernelspec": {
   "display_name": "Python 3",
   "language": "python",
   "name": "python3"
  },
  "language_info": {
   "codemirror_mode": {
    "name": "ipython",
    "version": 3
   },
   "file_extension": ".py",
   "mimetype": "text/x-python",
   "name": "python",
   "nbconvert_exporter": "python",
   "pygments_lexer": "ipython3",
   "version": "3.8.3"
  }
 },
 "nbformat": 4,
 "nbformat_minor": 5
}
