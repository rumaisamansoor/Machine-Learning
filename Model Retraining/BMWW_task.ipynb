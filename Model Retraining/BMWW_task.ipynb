{
 "cells": [
  {
   "cell_type": "markdown",
   "metadata": {},
   "source": [
    "# Decription - BMWW is to update the model\n",
    "\n",
    "#### Approach: In this scenario, i have divided my .csv file into 5 different subsets. One of them i have reserved for validation. I have created different functions to preprocess the data and perform EDA after every file that is read\n",
    "\n",
    "\n",
    "#### I would be training on one subset of the dataset using random forest and used different hyper paramters to judge the accuarcy of the model, with the least MSE i have progressed with those particular parameters.\n",
    "\n",
    "#### After retraining on every subset of the file, i performed testing on the unforeseen data to check the MSE and i concluded that after every retraining of the model, the accuracy to predict the better results on unforeseen has increased "
   ]
  },
  {
   "cell_type": "code",
   "execution_count": 128,
   "metadata": {},
   "outputs": [],
   "source": [
    "import pandas as pd\n",
    "import matplotlib.pyplot as plt\n",
    "import numpy as np\n",
    "#import matplotlib.pyplot as plt\n",
    "import seaborn as sns\n",
    "%matplotlib inline\n",
    "from sklearn.preprocessing import LabelEncoder\n",
    "import warnings\n",
    "warnings.filterwarnings(\"ignore\")"
   ]
  },
  {
   "cell_type": "code",
   "execution_count": 129,
   "metadata": {},
   "outputs": [],
   "source": [
    "names=['Item_Identifier', 'Item_Weight', 'Item_Fat_Content', 'Item_Visibility',\n",
    "       'Item_Type', 'Item_MRP', 'Outlet_Identifier',\n",
    "       'Outlet_Establishment_Year', 'Outlet_Size', 'Outlet_Location_Type',\n",
    "       'Outlet_Type', 'Item_Outlet_Sales']\n"
   ]
  },
  {
   "cell_type": "code",
   "execution_count": 130,
   "metadata": {},
   "outputs": [],
   "source": [
    "def read_files(x):   #to read the csv files\n",
    "    df = pd.read_csv(x,names=names)\n",
    "    \n",
    "    \n",
    "    return df"
   ]
  },
  {
   "cell_type": "code",
   "execution_count": 131,
   "metadata": {},
   "outputs": [],
   "source": [
    "def walkthrough(df):   #function to display the general information of the current file\n",
    "    print(\"Shape of the current file : \", df.shape,\"\\n\")  \n",
    "    print(\"describe function : \\n\",df.describe(),\"\\n\")  \n",
    "    uniqueValues = df.nunique(dropna=True)\n",
    "    print(\"unique values in each feature : \\n\",uniqueValues) "
   ]
  },
  {
   "cell_type": "code",
   "execution_count": 132,
   "metadata": {},
   "outputs": [],
   "source": [
    "def null_visual(df):\n",
    "    \n",
    "    #visualizing the null values count\n",
    "\n",
    "    missing_data=df.isnull().sum()\n",
    "    missing_data[missing_data>0].\\\n",
    "    sort_values(ascending=True).\\\n",
    "    plot(kind='barh',figsize=(10,4))\n",
    "    plt.title('missing value')\n",
    "    plt.show()  \n",
    "    missing_data=missing_data[missing_data>0]\n",
    "    print(missing_data)"
   ]
  },
  {
   "cell_type": "code",
   "execution_count": 133,
   "metadata": {},
   "outputs": [],
   "source": [
    "def cat_num(df):\n",
    "    #lets create a list of categorical feature.\n",
    "    numeric_data=df.select_dtypes(include = [np.number])\n",
    "    cat_data=df.select_dtypes(exclude = [np.number])\n",
    "\n",
    "    print('there are {0} numerical and {1} categorical columns'.\\\n",
    "    format(numeric_data.shape[1],cat_data.shape[1]))\n",
    "    \n",
    "    return numeric_data,cat_data"
   ]
  },
  {
   "cell_type": "code",
   "execution_count": 134,
   "metadata": {},
   "outputs": [],
   "source": [
    "def cat_analysis(df):\n",
    "    \n",
    "    for col in df:\n",
    "        print(col)\n",
    "        print(df[col].value_counts())\n",
    "        print()\n"
   ]
  },
  {
   "cell_type": "code",
   "execution_count": 135,
   "metadata": {},
   "outputs": [],
   "source": [
    "def na_fill(df):\n",
    "    #two attributes have missing na, one is numeric, other one is cat\n",
    "    #filling na with identifier mean \n",
    "    df['Item_Weight']=df.groupby('Item_Identifier')['Item_Weight'].apply(lambda x:x.fillna(x.mean()))\n",
    "    df['Item_Weight'].fillna(0,inplace=True)      #to fill remaining nan values, missed by grouping\n",
    "    df['Item_Weight'].isnull().sum()\n",
    "    \n",
    "    #categorical with mode\n",
    "    df['Outlet_Size']=df.groupby('Outlet_Type')['Outlet_Size'].apply(lambda x:x.fillna(x.mode()[0]))\n",
    "    df['Outlet_Size'].isnull().sum()\n",
    "    \n",
    "    \n",
    "    #replacing 0 with mean\n",
    "    df['Item_Visibility'].replace(0, df['Item_Visibility'].mean(), inplace=True)\n",
    "    \n",
    "    return df"
   ]
  },
  {
   "cell_type": "code",
   "execution_count": 136,
   "metadata": {},
   "outputs": [],
   "source": [
    "def feature_eng(df):\n",
    "    \n",
    "    # \"Item_Fat_Content\" has similar values with different names so combining them here\n",
    "\n",
    "    df[\"Item_Fat_Content\"].replace({'LF':'Low Fat', 'reg':'Regular', 'low fat':'Low Fat'}, inplace=True)\n",
    "    print(\"after combining similar fat content \\n\",df[\"Item_Fat_Content\"].value_counts())\n",
    "    \n",
    "    \n",
    "    \n",
    "    #new feature to store the item type => either food, drink or non consumable\n",
    "    df['Item_Cat'] = df['Item_Identifier'].apply(lambda x: x[0:2])\n",
    "    print(\"\\n\\nnew variable item_cat value counts \\n\", df['Item_Cat'].value_counts())\n",
    "    return df"
   ]
  },
  {
   "cell_type": "code",
   "execution_count": 137,
   "metadata": {},
   "outputs": [],
   "source": [
    "def feature_eng2(df):\n",
    "    #here i am making new category in item fat content, if the item cat == Non consumable then the corresponding\n",
    "    #fat content will be non edible\n",
    "\n",
    "    df.loc[df['Item_Cat']=='NC', 'Item_Fat_Content'] = 'Non-Edible'\n",
    "    \n",
    "    \n",
    "    # as outlet establishment year has a large number => impactful on machine training so reducing it\n",
    "    #2013 is the year of dataset\n",
    "\n",
    "    df['Outlet_Years'] = 2013 - df['Outlet_Establishment_Year']\n",
    "    \n",
    "    return df"
   ]
  },
  {
   "cell_type": "code",
   "execution_count": 138,
   "metadata": {},
   "outputs": [],
   "source": [
    "def EDA_1(df):\n",
    "    #checking distribution of numeric data\n",
    "    df['Item_Weight'].hist()\n",
    "\n",
    "def EDA_2(df):\n",
    "    df['Item_Visibility'].hist(color=\"red\")\n",
    "    \n",
    "    \n",
    "def EDA_3(df):\n",
    "     sns.distplot(df['Item_MRP']) \n",
    "        \n",
    "def EDA_4(df):\n",
    "    sns.distplot(df['Item_Outlet_Sales'])    \n",
    "    \n",
    "def EDA_5(df):\n",
    "    sns.countplot(df[\"Item_Fat_Content\"])            #the distribution is not biased \n",
    "    \n",
    "def EDA_6(df):\n",
    "    data=sns.countplot(df[\"Item_Type\"])\n",
    "    data.set_xticklabels(data.get_xticklabels(), rotation=90)\n",
    "    \n",
    "    \n",
    "def EDA_7(df):\n",
    "    #checking the correlation among features.\n",
    "    corr = df.corr()\n",
    "    print(sns.heatmap(corr, annot=True))\n"
   ]
  },
  {
   "cell_type": "code",
   "execution_count": 139,
   "metadata": {},
   "outputs": [],
   "source": [
    "def label_encod(df):\n",
    "    from sklearn.preprocessing import LabelEncoder\n",
    "    le = LabelEncoder()\n",
    "\n",
    "    new_df=df  #creating new df for storing the encoded variables\n",
    "\n",
    "    new_df.drop(columns=['Outlet_Establishment_Year', 'Item_Identifier', 'Outlet_Identifier'], inplace=True)\n",
    "\n",
    "    new_df['Item_Type'] = le.fit_transform(new_df['Item_Type'])\n",
    "    \n",
    "    new_df = pd.get_dummies(new_df, columns=['Item_Fat_Content', 'Outlet_Size', 'Outlet_Location_Type', 'Outlet_Type', 'Item_Cat'])\n",
    "   \n",
    "    return new_df"
   ]
  },
  {
   "cell_type": "markdown",
   "metadata": {},
   "source": [
    "## Reading the dataframe"
   ]
  },
  {
   "cell_type": "markdown",
   "metadata": {},
   "source": [
    "### dataset file 1"
   ]
  },
  {
   "cell_type": "code",
   "execution_count": 140,
   "metadata": {},
   "outputs": [
    {
     "data": {
      "text/html": [
       "<div>\n",
       "<style scoped>\n",
       "    .dataframe tbody tr th:only-of-type {\n",
       "        vertical-align: middle;\n",
       "    }\n",
       "\n",
       "    .dataframe tbody tr th {\n",
       "        vertical-align: top;\n",
       "    }\n",
       "\n",
       "    .dataframe thead th {\n",
       "        text-align: right;\n",
       "    }\n",
       "</style>\n",
       "<table border=\"1\" class=\"dataframe\">\n",
       "  <thead>\n",
       "    <tr style=\"text-align: right;\">\n",
       "      <th></th>\n",
       "      <th>Item_Identifier</th>\n",
       "      <th>Item_Weight</th>\n",
       "      <th>Item_Fat_Content</th>\n",
       "      <th>Item_Visibility</th>\n",
       "      <th>Item_Type</th>\n",
       "      <th>Item_MRP</th>\n",
       "      <th>Outlet_Identifier</th>\n",
       "      <th>Outlet_Establishment_Year</th>\n",
       "      <th>Outlet_Size</th>\n",
       "      <th>Outlet_Location_Type</th>\n",
       "      <th>Outlet_Type</th>\n",
       "      <th>Item_Outlet_Sales</th>\n",
       "    </tr>\n",
       "  </thead>\n",
       "  <tbody>\n",
       "    <tr>\n",
       "      <td>0</td>\n",
       "      <td>FDA15</td>\n",
       "      <td>9.30</td>\n",
       "      <td>Low Fat</td>\n",
       "      <td>0.016047</td>\n",
       "      <td>Dairy</td>\n",
       "      <td>249.8092</td>\n",
       "      <td>OUT049</td>\n",
       "      <td>1999</td>\n",
       "      <td>Medium</td>\n",
       "      <td>Tier 1</td>\n",
       "      <td>Supermarket Type1</td>\n",
       "      <td>3735.1380</td>\n",
       "    </tr>\n",
       "    <tr>\n",
       "      <td>1</td>\n",
       "      <td>DRC01</td>\n",
       "      <td>5.92</td>\n",
       "      <td>Regular</td>\n",
       "      <td>0.019278</td>\n",
       "      <td>Soft Drinks</td>\n",
       "      <td>48.2692</td>\n",
       "      <td>OUT018</td>\n",
       "      <td>2009</td>\n",
       "      <td>Medium</td>\n",
       "      <td>Tier 3</td>\n",
       "      <td>Supermarket Type2</td>\n",
       "      <td>443.4228</td>\n",
       "    </tr>\n",
       "    <tr>\n",
       "      <td>2</td>\n",
       "      <td>FDN15</td>\n",
       "      <td>17.50</td>\n",
       "      <td>Low Fat</td>\n",
       "      <td>0.016760</td>\n",
       "      <td>Meat</td>\n",
       "      <td>141.6180</td>\n",
       "      <td>OUT049</td>\n",
       "      <td>1999</td>\n",
       "      <td>Medium</td>\n",
       "      <td>Tier 1</td>\n",
       "      <td>Supermarket Type1</td>\n",
       "      <td>2097.2700</td>\n",
       "    </tr>\n",
       "    <tr>\n",
       "      <td>3</td>\n",
       "      <td>FDX07</td>\n",
       "      <td>19.20</td>\n",
       "      <td>Regular</td>\n",
       "      <td>0.000000</td>\n",
       "      <td>Fruits and Vegetables</td>\n",
       "      <td>182.0950</td>\n",
       "      <td>OUT010</td>\n",
       "      <td>1998</td>\n",
       "      <td>NaN</td>\n",
       "      <td>Tier 3</td>\n",
       "      <td>Grocery Store</td>\n",
       "      <td>732.3800</td>\n",
       "    </tr>\n",
       "    <tr>\n",
       "      <td>4</td>\n",
       "      <td>NCD19</td>\n",
       "      <td>8.93</td>\n",
       "      <td>Low Fat</td>\n",
       "      <td>0.000000</td>\n",
       "      <td>Household</td>\n",
       "      <td>53.8614</td>\n",
       "      <td>OUT013</td>\n",
       "      <td>1987</td>\n",
       "      <td>High</td>\n",
       "      <td>Tier 3</td>\n",
       "      <td>Supermarket Type1</td>\n",
       "      <td>994.7052</td>\n",
       "    </tr>\n",
       "  </tbody>\n",
       "</table>\n",
       "</div>"
      ],
      "text/plain": [
       "  Item_Identifier  Item_Weight Item_Fat_Content  Item_Visibility  \\\n",
       "0           FDA15         9.30          Low Fat         0.016047   \n",
       "1           DRC01         5.92          Regular         0.019278   \n",
       "2           FDN15        17.50          Low Fat         0.016760   \n",
       "3           FDX07        19.20          Regular         0.000000   \n",
       "4           NCD19         8.93          Low Fat         0.000000   \n",
       "\n",
       "               Item_Type  Item_MRP Outlet_Identifier  \\\n",
       "0                  Dairy  249.8092            OUT049   \n",
       "1            Soft Drinks   48.2692            OUT018   \n",
       "2                   Meat  141.6180            OUT049   \n",
       "3  Fruits and Vegetables  182.0950            OUT010   \n",
       "4              Household   53.8614            OUT013   \n",
       "\n",
       "   Outlet_Establishment_Year Outlet_Size Outlet_Location_Type  \\\n",
       "0                       1999      Medium               Tier 1   \n",
       "1                       2009      Medium               Tier 3   \n",
       "2                       1999      Medium               Tier 1   \n",
       "3                       1998         NaN               Tier 3   \n",
       "4                       1987        High               Tier 3   \n",
       "\n",
       "         Outlet_Type  Item_Outlet_Sales  \n",
       "0  Supermarket Type1          3735.1380  \n",
       "1  Supermarket Type2           443.4228  \n",
       "2  Supermarket Type1          2097.2700  \n",
       "3      Grocery Store           732.3800  \n",
       "4  Supermarket Type1           994.7052  "
      ]
     },
     "execution_count": 140,
     "metadata": {},
     "output_type": "execute_result"
    }
   ],
   "source": [
    "x='bigmartsalesprediction_0.csv'\n",
    "df0=pd.read_csv(x)\n",
    "df0.head()       #to read the files"
   ]
  },
  {
   "cell_type": "markdown",
   "metadata": {},
   "source": [
    "## General information regarding the file"
   ]
  },
  {
   "cell_type": "code",
   "execution_count": 141,
   "metadata": {},
   "outputs": [
    {
     "name": "stdout",
     "output_type": "stream",
     "text": [
      "Shape of the current file :  (2000, 12) \n",
      "\n",
      "describe function : \n",
      "        Item_Weight  Item_Visibility     Item_MRP  Outlet_Establishment_Year  \\\n",
      "count  1648.000000      2000.000000  2000.000000                2000.000000   \n",
      "mean     13.005434         0.066901   140.710172                1997.680000   \n",
      "std       4.615655         0.051923    62.499948                   8.386463   \n",
      "min       4.590000         0.000000    31.290000                1985.000000   \n",
      "25%       8.930000         0.026982    92.818600                1987.000000   \n",
      "50%      13.000000         0.056541   143.315400                1999.000000   \n",
      "75%      16.887500         0.094695   185.099000                2004.000000   \n",
      "max      21.350000         0.328391   265.222600                2009.000000   \n",
      "\n",
      "       Item_Outlet_Sales  \n",
      "count        2000.000000  \n",
      "mean         2217.211207  \n",
      "std          1756.097968  \n",
      "min            33.290000  \n",
      "25%           847.729850  \n",
      "50%          1785.342700  \n",
      "75%          3102.461550  \n",
      "max         11445.102000   \n",
      "\n",
      "unique values in each feature : \n",
      " Item_Identifier              1152\n",
      "Item_Weight                   335\n",
      "Item_Fat_Content                5\n",
      "Item_Visibility              1869\n",
      "Item_Type                      16\n",
      "Item_MRP                     1832\n",
      "Outlet_Identifier              10\n",
      "Outlet_Establishment_Year       9\n",
      "Outlet_Size                     3\n",
      "Outlet_Location_Type            3\n",
      "Outlet_Type                     4\n",
      "Item_Outlet_Sales            1466\n",
      "dtype: int64\n"
     ]
    }
   ],
   "source": [
    "walkthrough(df0)  #general information of the dataset\n"
   ]
  },
  {
   "cell_type": "code",
   "execution_count": 142,
   "metadata": {},
   "outputs": [
    {
     "data": {
      "image/png": "[encoded data removed]",
      "text/plain": [
       "<Figure size 720x288 with 1 Axes>"
      ]
     },
     "metadata": {
      "needs_background": "light"
     },
     "output_type": "display_data"
    },
    {
     "name": "stdout",
     "output_type": "stream",
     "text": [
      "Item_Weight    352\n",
      "Outlet_Size    571\n",
      "dtype: int64\n"
     ]
    }
   ],
   "source": [
    "null_visual(df0)  #to visualize the null values in the dataset"
   ]
  },
  {
   "cell_type": "code",
   "execution_count": 143,
   "metadata": {},
   "outputs": [
    {
     "name": "stdout",
     "output_type": "stream",
     "text": [
      "there are 5 numerical and 7 categorical columns\n",
      "Item_Identifier\n",
      "FDJ55    6\n",
      "FDQ56    6\n",
      "FDW49    6\n",
      "FDR43    6\n",
      "FDZ33    5\n",
      "        ..\n",
      "FDC56    1\n",
      "FDR19    1\n",
      "FDF57    1\n",
      "NCC43    1\n",
      "FDS47    1\n",
      "Name: Item_Identifier, Length: 1152, dtype: int64\n",
      "\n",
      "Item_Fat_Content\n",
      "Low Fat    1217\n",
      "Regular     657\n",
      "LF           67\n",
      "reg          30\n",
      "low fat      29\n",
      "Name: Item_Fat_Content, dtype: int64\n",
      "\n",
      "Item_Type\n",
      "Fruits and Vegetables    310\n",
      "Snack Foods              293\n",
      "Household                216\n",
      "Frozen Foods             206\n",
      "Dairy                    166\n",
      "Canned                   145\n",
      "Baking Goods             132\n",
      "Soft Drinks              109\n",
      "Health and Hygiene       103\n",
      "Meat                     100\n",
      "Breads                    51\n",
      "Hard Drinks               47\n",
      "Others                    43\n",
      "Starchy Foods             36\n",
      "Breakfast                 28\n",
      "Seafood                   15\n",
      "Name: Item_Type, dtype: int64\n",
      "\n",
      "Outlet_Identifier\n",
      "OUT045    235\n",
      "OUT027    227\n",
      "OUT013    225\n",
      "OUT046    223\n",
      "OUT035    220\n",
      "OUT017    215\n",
      "OUT049    206\n",
      "OUT018    203\n",
      "OUT019    125\n",
      "OUT010    121\n",
      "Name: Outlet_Identifier, dtype: int64\n",
      "\n",
      "Outlet_Size\n",
      "Medium    636\n",
      "Small     568\n",
      "High      225\n",
      "Name: Outlet_Size, dtype: int64\n",
      "\n",
      "Outlet_Location_Type\n",
      "Tier 3    776\n",
      "Tier 2    670\n",
      "Tier 1    554\n",
      "Name: Outlet_Location_Type, dtype: int64\n",
      "\n",
      "Outlet_Type\n",
      "Supermarket Type1    1324\n",
      "Grocery Store         246\n",
      "Supermarket Type3     227\n",
      "Supermarket Type2     203\n",
      "Name: Outlet_Type, dtype: int64\n",
      "\n"
     ]
    }
   ],
   "source": [
    "numeric_data,cat_data=cat_num(df0)   #to check on numeric and categorical features of the dataset\n",
    "cat_analysis(cat_data)              #to find the value counts of each categorical feature"
   ]
  },
  {
   "cell_type": "markdown",
   "metadata": {},
   "source": [
    "## Missing value replacement & feature engineering"
   ]
  },
  {
   "cell_type": "code",
   "execution_count": 144,
   "metadata": {},
   "outputs": [],
   "source": [
    "#two attributes have missing na, one is numeric, other one is cat\n",
    "#filling na with identifier mean \n",
    "\n",
    "df0=na_fill(df0)"
   ]
  },
  {
   "cell_type": "code",
   "execution_count": 145,
   "metadata": {},
   "outputs": [
    {
     "name": "stdout",
     "output_type": "stream",
     "text": [
      "after combining similar fat content \n",
      " Low Fat    1313\n",
      "Regular     687\n",
      "Name: Item_Fat_Content, dtype: int64\n",
      "\n",
      "\n",
      "new variable item_cat value counts \n",
      " FD    1447\n",
      "NC     362\n",
      "DR     191\n",
      "Name: Item_Cat, dtype: int64\n"
     ]
    },
    {
     "data": {
      "text/plain": [
       "(2000, 14)"
      ]
     },
     "execution_count": 145,
     "metadata": {},
     "output_type": "execute_result"
    }
   ],
   "source": [
    "df0=feature_eng(df0)\n",
    "df0=feature_eng2(df0)\n",
    "\n",
    "df0.shape   #2 new features are created"
   ]
  },
  {
   "cell_type": "markdown",
   "metadata": {},
   "source": [
    "## Exploratory Data Analysis"
   ]
  },
  {
   "cell_type": "code",
   "execution_count": 146,
   "metadata": {},
   "outputs": [
    {
     "data": {
      "image/png": "[encoded data removed]",
      "text/plain": [
       "<Figure size 432x288 with 1 Axes>"
      ]
     },
     "metadata": {
      "needs_background": "light"
     },
     "output_type": "display_data"
    }
   ],
   "source": [
    "EDA_1(df0)\n",
    "#Item_Weight analysis"
   ]
  },
  {
   "cell_type": "code",
   "execution_count": 147,
   "metadata": {},
   "outputs": [
    {
     "data": {
      "image/png": "[encoded data removed]",
      "text/plain": [
       "<Figure size 432x288 with 1 Axes>"
      ]
     },
     "metadata": {
      "needs_background": "light"
     },
     "output_type": "display_data"
    }
   ],
   "source": [
    "EDA_2(df0)  # Item_Visibility analysis\n",
    "#=>left skewed =>log transformation"
   ]
  },
  {
   "cell_type": "code",
   "execution_count": 148,
   "metadata": {},
   "outputs": [
    {
     "data": {
      "text/plain": [
       "<matplotlib.axes._subplots.AxesSubplot at 0x187474a87c8>"
      ]
     },
     "execution_count": 148,
     "metadata": {},
     "output_type": "execute_result"
    },
    {
     "data": {
      "image/png": "[encoded data removed]",
      "text/plain": [
       "<Figure size 432x288 with 1 Axes>"
      ]
     },
     "metadata": {
      "needs_background": "light"
     },
     "output_type": "display_data"
    }
   ],
   "source": [
    "# log transformation\n",
    "df0['Item_Visibility'] = np.log(1+df0['Item_Visibility'])\n",
    "df0['Item_Visibility'].hist(color=\"red\")             # somewhat a better distribution"
   ]
  },
  {
   "cell_type": "code",
   "execution_count": 149,
   "metadata": {},
   "outputs": [
    {
     "data": {
      "image/png": "[encoded data removed]",
      "text/plain": [
       "<Figure size 432x288 with 1 Axes>"
      ]
     },
     "metadata": {
      "needs_background": "light"
     },
     "output_type": "display_data"
    }
   ],
   "source": [
    "#Item_MRP analysis\n",
    "EDA_3(df0)   #4 distinguised categories can be seen here"
   ]
  },
  {
   "cell_type": "code",
   "execution_count": 150,
   "metadata": {},
   "outputs": [
    {
     "data": {
      "image/png": "[encoded data removed]",
      "text/plain": [
       "<Figure size 432x288 with 1 Axes>"
      ]
     },
     "metadata": {
      "needs_background": "light"
     },
     "output_type": "display_data"
    }
   ],
   "source": [
    "#Item_Outlet_Sales analysis\n",
    "\n",
    "EDA_4(df0)   #left skewed =>normalization using log transformation"
   ]
  },
  {
   "cell_type": "code",
   "execution_count": 151,
   "metadata": {},
   "outputs": [],
   "source": [
    "df0['Item_Outlet_Sales'] = np.log(1+df0['Item_Outlet_Sales'])"
   ]
  },
  {
   "cell_type": "code",
   "execution_count": 152,
   "metadata": {},
   "outputs": [
    {
     "data": {
      "image/png": "[encoded data removed]",
      "text/plain": [
       "<Figure size 432x288 with 1 Axes>"
      ]
     },
     "metadata": {
      "needs_background": "light"
     },
     "output_type": "display_data"
    }
   ],
   "source": [
    "#Item_Fat_Content analysis\n",
    "EDA_5(df0)    #the distribution is not biased "
   ]
  },
  {
   "cell_type": "code",
   "execution_count": 153,
   "metadata": {},
   "outputs": [
    {
     "data": {
      "image/png": "[encoded data removed]",
      "text/plain": [
       "<Figure size 432x288 with 1 Axes>"
      ]
     },
     "metadata": {
      "needs_background": "light"
     },
     "output_type": "display_data"
    }
   ],
   "source": [
    " #Item_Type analysis\n",
    "    \n",
    "EDA_6(df0)"
   ]
  },
  {
   "cell_type": "code",
   "execution_count": 154,
   "metadata": {},
   "outputs": [
    {
     "name": "stdout",
     "output_type": "stream",
     "text": [
      "AxesSubplot(0.125,0.125;0.62x0.755)\n"
     ]
    },
    {
     "data": {
      "image/png": "[encoded data removed]",
      "text/plain": [
       "<Figure size 432x288 with 2 Axes>"
      ]
     },
     "metadata": {
      "needs_background": "light"
     },
     "output_type": "display_data"
    }
   ],
   "source": [
    "EDA_7(df0)\n",
    "\n",
    "\n",
    "#highly negative corr can be seen( need to remove one of them as they are derived from existing)\n",
    "#it can be seen that sales shows some correlation with item marp"
   ]
  },
  {
   "cell_type": "markdown",
   "metadata": {},
   "source": [
    "## label encoding"
   ]
  },
  {
   "cell_type": "code",
   "execution_count": 155,
   "metadata": {},
   "outputs": [],
   "source": [
    "df0_new=label_encod(df0)"
   ]
  },
  {
   "cell_type": "code",
   "execution_count": 156,
   "metadata": {},
   "outputs": [
    {
     "data": {
      "text/html": [
       "<div>\n",
       "<style scoped>\n",
       "    .dataframe tbody tr th:only-of-type {\n",
       "        vertical-align: middle;\n",
       "    }\n",
       "\n",
       "    .dataframe tbody tr th {\n",
       "        vertical-align: top;\n",
       "    }\n",
       "\n",
       "    .dataframe thead th {\n",
       "        text-align: right;\n",
       "    }\n",
       "</style>\n",
       "<table border=\"1\" class=\"dataframe\">\n",
       "  <thead>\n",
       "    <tr style=\"text-align: right;\">\n",
       "      <th></th>\n",
       "      <th>Item_Weight</th>\n",
       "      <th>Item_Visibility</th>\n",
       "      <th>Item_Type</th>\n",
       "      <th>Item_MRP</th>\n",
       "      <th>Item_Outlet_Sales</th>\n",
       "      <th>Outlet_Years</th>\n",
       "      <th>Item_Fat_Content_Low Fat</th>\n",
       "      <th>Item_Fat_Content_Non-Edible</th>\n",
       "      <th>Item_Fat_Content_Regular</th>\n",
       "      <th>Outlet_Size_High</th>\n",
       "      <th>...</th>\n",
       "      <th>Outlet_Location_Type_Tier 1</th>\n",
       "      <th>Outlet_Location_Type_Tier 2</th>\n",
       "      <th>Outlet_Location_Type_Tier 3</th>\n",
       "      <th>Outlet_Type_Grocery Store</th>\n",
       "      <th>Outlet_Type_Supermarket Type1</th>\n",
       "      <th>Outlet_Type_Supermarket Type2</th>\n",
       "      <th>Outlet_Type_Supermarket Type3</th>\n",
       "      <th>Item_Cat_DR</th>\n",
       "      <th>Item_Cat_FD</th>\n",
       "      <th>Item_Cat_NC</th>\n",
       "    </tr>\n",
       "  </thead>\n",
       "  <tbody>\n",
       "    <tr>\n",
       "      <td>0</td>\n",
       "      <td>9.30</td>\n",
       "      <td>0.015920</td>\n",
       "      <td>4</td>\n",
       "      <td>249.8092</td>\n",
       "      <td>8.225808</td>\n",
       "      <td>14</td>\n",
       "      <td>1</td>\n",
       "      <td>0</td>\n",
       "      <td>0</td>\n",
       "      <td>0</td>\n",
       "      <td>...</td>\n",
       "      <td>1</td>\n",
       "      <td>0</td>\n",
       "      <td>0</td>\n",
       "      <td>0</td>\n",
       "      <td>1</td>\n",
       "      <td>0</td>\n",
       "      <td>0</td>\n",
       "      <td>0</td>\n",
       "      <td>1</td>\n",
       "      <td>0</td>\n",
       "    </tr>\n",
       "    <tr>\n",
       "      <td>1</td>\n",
       "      <td>5.92</td>\n",
       "      <td>0.019095</td>\n",
       "      <td>14</td>\n",
       "      <td>48.2692</td>\n",
       "      <td>6.096776</td>\n",
       "      <td>4</td>\n",
       "      <td>0</td>\n",
       "      <td>0</td>\n",
       "      <td>1</td>\n",
       "      <td>0</td>\n",
       "      <td>...</td>\n",
       "      <td>0</td>\n",
       "      <td>0</td>\n",
       "      <td>1</td>\n",
       "      <td>0</td>\n",
       "      <td>0</td>\n",
       "      <td>1</td>\n",
       "      <td>0</td>\n",
       "      <td>1</td>\n",
       "      <td>0</td>\n",
       "      <td>0</td>\n",
       "    </tr>\n",
       "    <tr>\n",
       "      <td>2</td>\n",
       "      <td>17.50</td>\n",
       "      <td>0.016621</td>\n",
       "      <td>10</td>\n",
       "      <td>141.6180</td>\n",
       "      <td>7.648868</td>\n",
       "      <td>14</td>\n",
       "      <td>1</td>\n",
       "      <td>0</td>\n",
       "      <td>0</td>\n",
       "      <td>0</td>\n",
       "      <td>...</td>\n",
       "      <td>1</td>\n",
       "      <td>0</td>\n",
       "      <td>0</td>\n",
       "      <td>0</td>\n",
       "      <td>1</td>\n",
       "      <td>0</td>\n",
       "      <td>0</td>\n",
       "      <td>0</td>\n",
       "      <td>1</td>\n",
       "      <td>0</td>\n",
       "    </tr>\n",
       "    <tr>\n",
       "      <td>3</td>\n",
       "      <td>19.20</td>\n",
       "      <td>0.064758</td>\n",
       "      <td>6</td>\n",
       "      <td>182.0950</td>\n",
       "      <td>6.597664</td>\n",
       "      <td>15</td>\n",
       "      <td>0</td>\n",
       "      <td>0</td>\n",
       "      <td>1</td>\n",
       "      <td>0</td>\n",
       "      <td>...</td>\n",
       "      <td>0</td>\n",
       "      <td>0</td>\n",
       "      <td>1</td>\n",
       "      <td>1</td>\n",
       "      <td>0</td>\n",
       "      <td>0</td>\n",
       "      <td>0</td>\n",
       "      <td>0</td>\n",
       "      <td>1</td>\n",
       "      <td>0</td>\n",
       "    </tr>\n",
       "    <tr>\n",
       "      <td>4</td>\n",
       "      <td>8.93</td>\n",
       "      <td>0.064758</td>\n",
       "      <td>9</td>\n",
       "      <td>53.8614</td>\n",
       "      <td>6.903451</td>\n",
       "      <td>26</td>\n",
       "      <td>0</td>\n",
       "      <td>1</td>\n",
       "      <td>0</td>\n",
       "      <td>1</td>\n",
       "      <td>...</td>\n",
       "      <td>0</td>\n",
       "      <td>0</td>\n",
       "      <td>1</td>\n",
       "      <td>0</td>\n",
       "      <td>1</td>\n",
       "      <td>0</td>\n",
       "      <td>0</td>\n",
       "      <td>0</td>\n",
       "      <td>0</td>\n",
       "      <td>1</td>\n",
       "    </tr>\n",
       "  </tbody>\n",
       "</table>\n",
       "<p>5 rows × 22 columns</p>\n",
       "</div>"
      ],
      "text/plain": [
       "   Item_Weight  Item_Visibility  Item_Type  Item_MRP  Item_Outlet_Sales  \\\n",
       "0         9.30         0.015920          4  249.8092           8.225808   \n",
       "1         5.92         0.019095         14   48.2692           6.096776   \n",
       "2        17.50         0.016621         10  141.6180           7.648868   \n",
       "3        19.20         0.064758          6  182.0950           6.597664   \n",
       "4         8.93         0.064758          9   53.8614           6.903451   \n",
       "\n",
       "   Outlet_Years  Item_Fat_Content_Low Fat  Item_Fat_Content_Non-Edible  \\\n",
       "0            14                         1                            0   \n",
       "1             4                         0                            0   \n",
       "2            14                         1                            0   \n",
       "3            15                         0                            0   \n",
       "4            26                         0                            1   \n",
       "\n",
       "   Item_Fat_Content_Regular  Outlet_Size_High  ...  \\\n",
       "0                         0                 0  ...   \n",
       "1                         1                 0  ...   \n",
       "2                         0                 0  ...   \n",
       "3                         1                 0  ...   \n",
       "4                         0                 1  ...   \n",
       "\n",
       "   Outlet_Location_Type_Tier 1  Outlet_Location_Type_Tier 2  \\\n",
       "0                            1                            0   \n",
       "1                            0                            0   \n",
       "2                            1                            0   \n",
       "3                            0                            0   \n",
       "4                            0                            0   \n",
       "\n",
       "   Outlet_Location_Type_Tier 3  Outlet_Type_Grocery Store  \\\n",
       "0                            0                          0   \n",
       "1                            1                          0   \n",
       "2                            0                          0   \n",
       "3                            1                          1   \n",
       "4                            1                          0   \n",
       "\n",
       "   Outlet_Type_Supermarket Type1  Outlet_Type_Supermarket Type2  \\\n",
       "0                              1                              0   \n",
       "1                              0                              1   \n",
       "2                              1                              0   \n",
       "3                              0                              0   \n",
       "4                              1                              0   \n",
       "\n",
       "   Outlet_Type_Supermarket Type3  Item_Cat_DR  Item_Cat_FD  Item_Cat_NC  \n",
       "0                              0            0            1            0  \n",
       "1                              0            1            0            0  \n",
       "2                              0            0            1            0  \n",
       "3                              0            0            1            0  \n",
       "4                              0            0            0            1  \n",
       "\n",
       "[5 rows x 22 columns]"
      ]
     },
     "execution_count": 156,
     "metadata": {},
     "output_type": "execute_result"
    }
   ],
   "source": [
    "df0_new.head()"
   ]
  },
  {
   "cell_type": "markdown",
   "metadata": {},
   "source": [
    "## Model training on file 1"
   ]
  },
  {
   "cell_type": "code",
   "execution_count": 157,
   "metadata": {},
   "outputs": [],
   "source": [
    "from sklearn.model_selection import train_test_split\n",
    "\n",
    "#X_0 indicates X(independent features) and 0 (0th file)\n",
    "\n",
    "X_0= df0_new\n",
    "X_0=X_0.drop(columns=['Item_Outlet_Sales'],axis=1)\n",
    "Y_0=df0_new['Item_Outlet_Sales']"
   ]
  },
  {
   "cell_type": "code",
   "execution_count": 158,
   "metadata": {},
   "outputs": [],
   "source": [
    "from sklearn.model_selection import cross_val_score\n",
    "from sklearn.metrics import mean_squared_error\n",
    "\n",
    "\n",
    "def train(model, X, y):\n",
    "    model.fit(X, y)\n",
    "    \n",
    "    # perform cross-validation\n",
    "    cross_val_score(model, X, y, cv=5)"
   ]
  },
  {
   "cell_type": "code",
   "execution_count": 159,
   "metadata": {},
   "outputs": [
    {
     "name": "stdout",
     "output_type": "stream",
     "text": [
      "Model Report\n",
      "MSE: 0.04310063098424958\n"
     ]
    }
   ],
   "source": [
    "from sklearn.ensemble import RandomForestRegressor\n",
    "\n",
    "# Instantiate model # criterion = 'mse' as the problem is regression \n",
    "\n",
    "#model = RandomForestRegressor(n_estimators = 500, criterion = 'mse', max_depth = 5, random_state=192)  #=> mse = 0.25\n",
    "\n",
    "#model = RandomForestRegressor(n_estimators = 100, criterion = 'mse', max_depth = None, random_state=42)  # => mse = 0.044\n",
    "\n",
    "model = RandomForestRegressor(n_estimators = 500, criterion = 'mse', max_depth = None, random_state=42)  #=> mse = 0.043\n",
    "\n",
    "train(model, X_0, Y_0)\n",
    "\n",
    "# predict the training set\n",
    "pred = model.predict(X_0)\n",
    "    \n",
    "print(\"Model Report\")\n",
    "print(\"MSE:\",mean_squared_error(Y_0,pred)) "
   ]
  },
  {
   "cell_type": "code",
   "execution_count": 161,
   "metadata": {},
   "outputs": [
    {
     "data": {
      "image/png": "[encoded data removed]",
      "text/plain": [
       "<Figure size 432x288 with 1 Axes>"
      ]
     },
     "metadata": {
      "needs_background": "light"
     },
     "output_type": "display_data"
    }
   ],
   "source": [
    "importances = model.feature_importances_\n",
    "\n",
    "features=X_0.columns\n",
    "indices = np.argsort(importances)\n",
    "plt.title('Feature Importances')\n",
    "plt.barh(range(len(indices)), importances[indices], color='#3776ab', align='center')\n",
    "plt.yticks(range(len(indices)), [features[i] for i in indices])\n",
    "plt.xlabel('Relative Importance')\n",
    "plt.show()"
   ]
  },
  {
   "cell_type": "code",
   "execution_count": 162,
   "metadata": {},
   "outputs": [],
   "source": [
    "#training with important features only\n",
    "\n",
    "X_01=X_0[['Outlet_Type_Grocery Store', 'Item_MRP', 'Item_Visibility','Item_Type','Outlet_Years','Item_Weight' ]]"
   ]
  },
  {
   "cell_type": "code",
   "execution_count": 181,
   "metadata": {},
   "outputs": [
    {
     "name": "stdout",
     "output_type": "stream",
     "text": [
      "Model Report\n",
      "MSE: 0.04331891054919498\n"
     ]
    }
   ],
   "source": [
    "train(model, X_01, Y_0)  #accuracy is almost the same, to make it generalized(avoid overfiiting) i will be progressing\n",
    "                         #with this.\n",
    "    \n",
    "pred = model.predict(X_01)\n",
    "    \n",
    "print(\"Model Report\")\n",
    "print(\"MSE:\",mean_squared_error(Y_0,pred))     "
   ]
  },
  {
   "cell_type": "code",
   "execution_count": 182,
   "metadata": {},
   "outputs": [],
   "source": [
    "import pickle\n",
    "\n",
    "# save the model to disk\n",
    "filename_1 = 'model_1.sav'\n",
    "pickle.dump(model, open(filename_1, 'wb'))"
   ]
  },
  {
   "cell_type": "markdown",
   "metadata": {},
   "source": [
    "### i have taken 1 (rows=500) file dataset as validation dataset, so checking the accuracy on the unforeseen data after each retraining \n"
   ]
  },
  {
   "cell_type": "code",
   "execution_count": 36,
   "metadata": {},
   "outputs": [
    {
     "data": {
      "text/html": [
       "<div>\n",
       "<style scoped>\n",
       "    .dataframe tbody tr th:only-of-type {\n",
       "        vertical-align: middle;\n",
       "    }\n",
       "\n",
       "    .dataframe tbody tr th {\n",
       "        vertical-align: top;\n",
       "    }\n",
       "\n",
       "    .dataframe thead th {\n",
       "        text-align: right;\n",
       "    }\n",
       "</style>\n",
       "<table border=\"1\" class=\"dataframe\">\n",
       "  <thead>\n",
       "    <tr style=\"text-align: right;\">\n",
       "      <th></th>\n",
       "      <th>Item_Identifier</th>\n",
       "      <th>Item_Weight</th>\n",
       "      <th>Item_Fat_Content</th>\n",
       "      <th>Item_Visibility</th>\n",
       "      <th>Item_Type</th>\n",
       "      <th>Item_MRP</th>\n",
       "      <th>Outlet_Identifier</th>\n",
       "      <th>Outlet_Establishment_Year</th>\n",
       "      <th>Outlet_Size</th>\n",
       "      <th>Outlet_Location_Type</th>\n",
       "      <th>Outlet_Type</th>\n",
       "      <th>Item_Outlet_Sales</th>\n",
       "    </tr>\n",
       "  </thead>\n",
       "  <tbody>\n",
       "    <tr>\n",
       "      <td>0</td>\n",
       "      <td>FDR59</td>\n",
       "      <td>14.50</td>\n",
       "      <td>Regular</td>\n",
       "      <td>0.063810</td>\n",
       "      <td>Breads</td>\n",
       "      <td>263.2594</td>\n",
       "      <td>OUT013</td>\n",
       "      <td>1987</td>\n",
       "      <td>High</td>\n",
       "      <td>Tier 3</td>\n",
       "      <td>Supermarket Type1</td>\n",
       "      <td>2878.2534</td>\n",
       "    </tr>\n",
       "    <tr>\n",
       "      <td>1</td>\n",
       "      <td>FDS55</td>\n",
       "      <td>7.02</td>\n",
       "      <td>Low Fat</td>\n",
       "      <td>0.081329</td>\n",
       "      <td>Fruits and Vegetables</td>\n",
       "      <td>150.0734</td>\n",
       "      <td>OUT045</td>\n",
       "      <td>2002</td>\n",
       "      <td>NaN</td>\n",
       "      <td>Tier 2</td>\n",
       "      <td>Supermarket Type1</td>\n",
       "      <td>4454.2020</td>\n",
       "    </tr>\n",
       "    <tr>\n",
       "      <td>2</td>\n",
       "      <td>FDT21</td>\n",
       "      <td>7.42</td>\n",
       "      <td>Low Fat</td>\n",
       "      <td>0.020388</td>\n",
       "      <td>Snack Foods</td>\n",
       "      <td>247.1092</td>\n",
       "      <td>OUT035</td>\n",
       "      <td>2004</td>\n",
       "      <td>Small</td>\n",
       "      <td>Tier 2</td>\n",
       "      <td>Supermarket Type1</td>\n",
       "      <td>4233.1564</td>\n",
       "    </tr>\n",
       "    <tr>\n",
       "      <td>3</td>\n",
       "      <td>NCR38</td>\n",
       "      <td>17.25</td>\n",
       "      <td>Low Fat</td>\n",
       "      <td>0.113518</td>\n",
       "      <td>Household</td>\n",
       "      <td>253.5724</td>\n",
       "      <td>OUT046</td>\n",
       "      <td>1997</td>\n",
       "      <td>Small</td>\n",
       "      <td>Tier 1</td>\n",
       "      <td>Supermarket Type1</td>\n",
       "      <td>5033.4480</td>\n",
       "    </tr>\n",
       "    <tr>\n",
       "      <td>4</td>\n",
       "      <td>FDJ22</td>\n",
       "      <td>18.75</td>\n",
       "      <td>Low Fat</td>\n",
       "      <td>0.052917</td>\n",
       "      <td>Snack Foods</td>\n",
       "      <td>190.6504</td>\n",
       "      <td>OUT045</td>\n",
       "      <td>2002</td>\n",
       "      <td>NaN</td>\n",
       "      <td>Tier 2</td>\n",
       "      <td>Supermarket Type1</td>\n",
       "      <td>1342.2528</td>\n",
       "    </tr>\n",
       "  </tbody>\n",
       "</table>\n",
       "</div>"
      ],
      "text/plain": [
       "  Item_Identifier  Item_Weight Item_Fat_Content  Item_Visibility  \\\n",
       "0           FDR59        14.50          Regular         0.063810   \n",
       "1           FDS55         7.02          Low Fat         0.081329   \n",
       "2           FDT21         7.42          Low Fat         0.020388   \n",
       "3           NCR38        17.25          Low Fat         0.113518   \n",
       "4           FDJ22        18.75          Low Fat         0.052917   \n",
       "\n",
       "               Item_Type  Item_MRP Outlet_Identifier  \\\n",
       "0                 Breads  263.2594            OUT013   \n",
       "1  Fruits and Vegetables  150.0734            OUT045   \n",
       "2            Snack Foods  247.1092            OUT035   \n",
       "3              Household  253.5724            OUT046   \n",
       "4            Snack Foods  190.6504            OUT045   \n",
       "\n",
       "   Outlet_Establishment_Year Outlet_Size Outlet_Location_Type  \\\n",
       "0                       1987        High               Tier 3   \n",
       "1                       2002         NaN               Tier 2   \n",
       "2                       2004       Small               Tier 2   \n",
       "3                       1997       Small               Tier 1   \n",
       "4                       2002         NaN               Tier 2   \n",
       "\n",
       "         Outlet_Type  Item_Outlet_Sales  \n",
       "0  Supermarket Type1          2878.2534  \n",
       "1  Supermarket Type1          4454.2020  \n",
       "2  Supermarket Type1          4233.1564  \n",
       "3  Supermarket Type1          5033.4480  \n",
       "4  Supermarket Type1          1342.2528  "
      ]
     },
     "execution_count": 36,
     "metadata": {},
     "output_type": "execute_result"
    }
   ],
   "source": [
    "#dataset validation\n",
    "\n",
    "x='bigmartsalesprediction_4.csv'\n",
    "df_train=read_files(x)\n",
    "df_train.head()"
   ]
  },
  {
   "cell_type": "code",
   "execution_count": 37,
   "metadata": {},
   "outputs": [
    {
     "name": "stdout",
     "output_type": "stream",
     "text": [
      "Shape of the current file :  (524, 12) \n",
      "\n",
      "describe function : \n",
      "        Item_Weight  Item_Visibility   Item_MRP  Outlet_Establishment_Year  \\\n",
      "count   436.000000       524.000000  524.00000                 524.000000   \n",
      "mean     12.609622         0.062216  141.65570                1998.545802   \n",
      "std       4.544865         0.049397   62.67918                   8.363389   \n",
      "min       5.030000         0.000000   32.09000                1985.000000   \n",
      "25%       8.395000         0.026238   97.16275                1987.000000   \n",
      "50%      12.300000         0.049182  144.76280                1999.000000   \n",
      "75%      16.350000         0.089920  185.19370                2004.000000   \n",
      "max      21.250000         0.299098  266.02260                2009.000000   \n",
      "\n",
      "       Item_Outlet_Sales  \n",
      "count         524.000000  \n",
      "mean         2155.621525  \n",
      "std          1624.096742  \n",
      "min            38.616400  \n",
      "25%           772.161550  \n",
      "50%          1870.898000  \n",
      "75%          3147.569500  \n",
      "max          9390.443200   \n",
      "\n",
      "unique values in each feature : \n",
      " Item_Identifier              457\n",
      "Item_Weight                  205\n",
      "Item_Fat_Content               5\n",
      "Item_Visibility              490\n",
      "Item_Type                     16\n",
      "Item_MRP                     510\n",
      "Outlet_Identifier             10\n",
      "Outlet_Establishment_Year      9\n",
      "Outlet_Size                    3\n",
      "Outlet_Location_Type           3\n",
      "Outlet_Type                    4\n",
      "Item_Outlet_Sales            478\n",
      "dtype: int64\n"
     ]
    }
   ],
   "source": [
    "walkthrough(df_train)"
   ]
  },
  {
   "cell_type": "code",
   "execution_count": 38,
   "metadata": {},
   "outputs": [
    {
     "data": {
      "image/png": "[encoded data removed]",
      "text/plain": [
       "<Figure size 720x288 with 1 Axes>"
      ]
     },
     "metadata": {
      "needs_background": "light"
     },
     "output_type": "display_data"
    },
    {
     "name": "stdout",
     "output_type": "stream",
     "text": [
      "Item_Weight     88\n",
      "Outlet_Size    149\n",
      "dtype: int64\n"
     ]
    }
   ],
   "source": [
    "null_visual(df_train)"
   ]
  },
  {
   "cell_type": "code",
   "execution_count": 39,
   "metadata": {},
   "outputs": [
    {
     "name": "stdout",
     "output_type": "stream",
     "text": [
      "there are 5 numerical and 7 categorical columns\n",
      "Item_Identifier\n",
      "FDQ58    3\n",
      "FDV48    3\n",
      "FDL10    3\n",
      "FDR59    2\n",
      "FDE34    2\n",
      "        ..\n",
      "FDO37    1\n",
      "FDW60    1\n",
      "FDG16    1\n",
      "FDW26    1\n",
      "FDL13    1\n",
      "Name: Item_Identifier, Length: 457, dtype: int64\n",
      "\n",
      "Item_Fat_Content\n",
      "Low Fat    327\n",
      "Regular    169\n",
      "LF          18\n",
      "reg          6\n",
      "low fat      4\n",
      "Name: Item_Fat_Content, dtype: int64\n",
      "\n",
      "Item_Type\n",
      "Fruits and Vegetables    77\n",
      "Snack Foods              76\n",
      "Household                58\n",
      "Frozen Foods             52\n",
      "Canned                   42\n",
      "Health and Hygiene       37\n",
      "Dairy                    36\n",
      "Baking Goods             35\n",
      "Soft Drinks              29\n",
      "Meat                     27\n",
      "Hard Drinks              14\n",
      "Others                   11\n",
      "Breads                    9\n",
      "Starchy Foods             9\n",
      "Seafood                   6\n",
      "Breakfast                 6\n",
      "Name: Item_Type, dtype: int64\n",
      "\n",
      "Outlet_Identifier\n",
      "OUT018    68\n",
      "OUT035    63\n",
      "OUT017    62\n",
      "OUT049    57\n",
      "OUT045    57\n",
      "OUT027    56\n",
      "OUT046    55\n",
      "OUT013    44\n",
      "OUT019    32\n",
      "OUT010    30\n",
      "Name: Outlet_Identifier, dtype: int64\n",
      "\n",
      "Outlet_Size\n",
      "Medium    181\n",
      "Small     150\n",
      "High       44\n",
      "Name: Outlet_Size, dtype: int64\n",
      "\n",
      "Outlet_Location_Type\n",
      "Tier 3    198\n",
      "Tier 2    182\n",
      "Tier 1    144\n",
      "Name: Outlet_Location_Type, dtype: int64\n",
      "\n",
      "Outlet_Type\n",
      "Supermarket Type1    338\n",
      "Supermarket Type2     68\n",
      "Grocery Store         62\n",
      "Supermarket Type3     56\n",
      "Name: Outlet_Type, dtype: int64\n",
      "\n"
     ]
    }
   ],
   "source": [
    "numeric_data,cat_data=cat_num(df_train)   #to check on numeric and categorical features of the dataset\n",
    "cat_analysis(cat_data)              #to find the value counts of each categorical feature"
   ]
  },
  {
   "cell_type": "code",
   "execution_count": 40,
   "metadata": {},
   "outputs": [],
   "source": [
    "#two attributes have missing na, one is numeric, other one is cat\n",
    "#filling na with identifier mean \n",
    "\n",
    "df_train=na_fill(df_train)"
   ]
  },
  {
   "cell_type": "code",
   "execution_count": 41,
   "metadata": {},
   "outputs": [
    {
     "data": {
      "text/plain": [
       "<matplotlib.axes._subplots.AxesSubplot at 0x1873cc43548>"
      ]
     },
     "execution_count": 41,
     "metadata": {},
     "output_type": "execute_result"
    },
    {
     "data": {
      "image/png": "[encoded data removed]",
      "text/plain": [
       "<Figure size 432x288 with 1 Axes>"
      ]
     },
     "metadata": {
      "needs_background": "light"
     },
     "output_type": "display_data"
    }
   ],
   "source": [
    "df_train['Item_Visibility'] = np.log(1+df_train['Item_Visibility'])\n",
    "df_train['Item_Visibility'].hist(color=\"red\") "
   ]
  },
  {
   "cell_type": "code",
   "execution_count": 42,
   "metadata": {},
   "outputs": [],
   "source": [
    "df_train['Item_Outlet_Sales'] = np.log(1+df_train['Item_Outlet_Sales'])"
   ]
  },
  {
   "cell_type": "code",
   "execution_count": 43,
   "metadata": {},
   "outputs": [
    {
     "name": "stdout",
     "output_type": "stream",
     "text": [
      "after combining similar fat content \n",
      " Low Fat    349\n",
      "Regular    175\n",
      "Name: Item_Fat_Content, dtype: int64\n",
      "\n",
      "\n",
      "new variable item_cat value counts \n",
      " FD    370\n",
      "NC    106\n",
      "DR     48\n",
      "Name: Item_Cat, dtype: int64\n"
     ]
    },
    {
     "data": {
      "text/plain": [
       "(524, 14)"
      ]
     },
     "execution_count": 43,
     "metadata": {},
     "output_type": "execute_result"
    }
   ],
   "source": [
    "df_train=feature_eng(df_train)\n",
    "df_train=feature_eng2(df_train)\n",
    "\n",
    "df_train.shape   #2 new features are created"
   ]
  },
  {
   "cell_type": "code",
   "execution_count": 44,
   "metadata": {},
   "outputs": [
    {
     "data": {
      "text/plain": [
       "(524, 14)"
      ]
     },
     "execution_count": 44,
     "metadata": {},
     "output_type": "execute_result"
    }
   ],
   "source": [
    "df_train.shape"
   ]
  },
  {
   "cell_type": "code",
   "execution_count": 45,
   "metadata": {},
   "outputs": [],
   "source": [
    "df_train_new=label_encod(df_train)"
   ]
  },
  {
   "cell_type": "code",
   "execution_count": 46,
   "metadata": {},
   "outputs": [
    {
     "data": {
      "text/html": [
       "<div>\n",
       "<style scoped>\n",
       "    .dataframe tbody tr th:only-of-type {\n",
       "        vertical-align: middle;\n",
       "    }\n",
       "\n",
       "    .dataframe tbody tr th {\n",
       "        vertical-align: top;\n",
       "    }\n",
       "\n",
       "    .dataframe thead th {\n",
       "        text-align: right;\n",
       "    }\n",
       "</style>\n",
       "<table border=\"1\" class=\"dataframe\">\n",
       "  <thead>\n",
       "    <tr style=\"text-align: right;\">\n",
       "      <th></th>\n",
       "      <th>Item_Weight</th>\n",
       "      <th>Item_Visibility</th>\n",
       "      <th>Item_Type</th>\n",
       "      <th>Item_MRP</th>\n",
       "      <th>Item_Outlet_Sales</th>\n",
       "      <th>Outlet_Years</th>\n",
       "      <th>Item_Fat_Content_Low Fat</th>\n",
       "      <th>Item_Fat_Content_Non-Edible</th>\n",
       "      <th>Item_Fat_Content_Regular</th>\n",
       "      <th>Outlet_Size_High</th>\n",
       "      <th>...</th>\n",
       "      <th>Outlet_Location_Type_Tier 1</th>\n",
       "      <th>Outlet_Location_Type_Tier 2</th>\n",
       "      <th>Outlet_Location_Type_Tier 3</th>\n",
       "      <th>Outlet_Type_Grocery Store</th>\n",
       "      <th>Outlet_Type_Supermarket Type1</th>\n",
       "      <th>Outlet_Type_Supermarket Type2</th>\n",
       "      <th>Outlet_Type_Supermarket Type3</th>\n",
       "      <th>Item_Cat_DR</th>\n",
       "      <th>Item_Cat_FD</th>\n",
       "      <th>Item_Cat_NC</th>\n",
       "    </tr>\n",
       "  </thead>\n",
       "  <tbody>\n",
       "    <tr>\n",
       "      <td>0</td>\n",
       "      <td>14.50</td>\n",
       "      <td>0.061857</td>\n",
       "      <td>1</td>\n",
       "      <td>263.2594</td>\n",
       "      <td>7.965286</td>\n",
       "      <td>26</td>\n",
       "      <td>0</td>\n",
       "      <td>0</td>\n",
       "      <td>1</td>\n",
       "      <td>1</td>\n",
       "      <td>...</td>\n",
       "      <td>0</td>\n",
       "      <td>0</td>\n",
       "      <td>1</td>\n",
       "      <td>0</td>\n",
       "      <td>1</td>\n",
       "      <td>0</td>\n",
       "      <td>0</td>\n",
       "      <td>0</td>\n",
       "      <td>1</td>\n",
       "      <td>0</td>\n",
       "    </tr>\n",
       "    <tr>\n",
       "      <td>1</td>\n",
       "      <td>7.02</td>\n",
       "      <td>0.078191</td>\n",
       "      <td>6</td>\n",
       "      <td>150.0734</td>\n",
       "      <td>8.401828</td>\n",
       "      <td>11</td>\n",
       "      <td>1</td>\n",
       "      <td>0</td>\n",
       "      <td>0</td>\n",
       "      <td>0</td>\n",
       "      <td>...</td>\n",
       "      <td>0</td>\n",
       "      <td>1</td>\n",
       "      <td>0</td>\n",
       "      <td>0</td>\n",
       "      <td>1</td>\n",
       "      <td>0</td>\n",
       "      <td>0</td>\n",
       "      <td>0</td>\n",
       "      <td>1</td>\n",
       "      <td>0</td>\n",
       "    </tr>\n",
       "    <tr>\n",
       "      <td>2</td>\n",
       "      <td>7.42</td>\n",
       "      <td>0.020183</td>\n",
       "      <td>13</td>\n",
       "      <td>247.1092</td>\n",
       "      <td>8.350939</td>\n",
       "      <td>9</td>\n",
       "      <td>1</td>\n",
       "      <td>0</td>\n",
       "      <td>0</td>\n",
       "      <td>0</td>\n",
       "      <td>...</td>\n",
       "      <td>0</td>\n",
       "      <td>1</td>\n",
       "      <td>0</td>\n",
       "      <td>0</td>\n",
       "      <td>1</td>\n",
       "      <td>0</td>\n",
       "      <td>0</td>\n",
       "      <td>0</td>\n",
       "      <td>1</td>\n",
       "      <td>0</td>\n",
       "    </tr>\n",
       "  </tbody>\n",
       "</table>\n",
       "<p>3 rows × 22 columns</p>\n",
       "</div>"
      ],
      "text/plain": [
       "   Item_Weight  Item_Visibility  Item_Type  Item_MRP  Item_Outlet_Sales  \\\n",
       "0        14.50         0.061857          1  263.2594           7.965286   \n",
       "1         7.02         0.078191          6  150.0734           8.401828   \n",
       "2         7.42         0.020183         13  247.1092           8.350939   \n",
       "\n",
       "   Outlet_Years  Item_Fat_Content_Low Fat  Item_Fat_Content_Non-Edible  \\\n",
       "0            26                         0                            0   \n",
       "1            11                         1                            0   \n",
       "2             9                         1                            0   \n",
       "\n",
       "   Item_Fat_Content_Regular  Outlet_Size_High  ...  \\\n",
       "0                         1                 1  ...   \n",
       "1                         0                 0  ...   \n",
       "2                         0                 0  ...   \n",
       "\n",
       "   Outlet_Location_Type_Tier 1  Outlet_Location_Type_Tier 2  \\\n",
       "0                            0                            0   \n",
       "1                            0                            1   \n",
       "2                            0                            1   \n",
       "\n",
       "   Outlet_Location_Type_Tier 3  Outlet_Type_Grocery Store  \\\n",
       "0                            1                          0   \n",
       "1                            0                          0   \n",
       "2                            0                          0   \n",
       "\n",
       "   Outlet_Type_Supermarket Type1  Outlet_Type_Supermarket Type2  \\\n",
       "0                              1                              0   \n",
       "1                              1                              0   \n",
       "2                              1                              0   \n",
       "\n",
       "   Outlet_Type_Supermarket Type3  Item_Cat_DR  Item_Cat_FD  Item_Cat_NC  \n",
       "0                              0            0            1            0  \n",
       "1                              0            0            1            0  \n",
       "2                              0            0            1            0  \n",
       "\n",
       "[3 rows x 22 columns]"
      ]
     },
     "execution_count": 46,
     "metadata": {},
     "output_type": "execute_result"
    }
   ],
   "source": [
    "df_train_new.head(n=3)"
   ]
  },
  {
   "cell_type": "code",
   "execution_count": 47,
   "metadata": {},
   "outputs": [],
   "source": [
    "df_train_X=df_train_new[['Outlet_Type_Grocery Store', 'Item_MRP', 'Item_Visibility','Item_Type','Outlet_Years','Item_Weight' ]]\n",
    "df_train_Y= df_train_new['Item_Outlet_Sales']"
   ]
  },
  {
   "cell_type": "markdown",
   "metadata": {},
   "source": [
    "### predicting on unforeseen"
   ]
  },
  {
   "cell_type": "code",
   "execution_count": 199,
   "metadata": {},
   "outputs": [
    {
     "data": {
      "text/plain": [
       "0.33001073021282434"
      ]
     },
     "execution_count": 199,
     "metadata": {},
     "output_type": "execute_result"
    }
   ],
   "source": [
    "#predicting on unforeseen\n",
    "\n",
    "loaded_model_1 = pickle.load(open(filename_1, 'rb'))\n",
    "pred = loaded_model_1.predict(df_train_X)\n",
    "\n",
    "phase_1 = mean_squared_error(df_train_Y,pred)\n",
    "phase_1\n",
    "#predicting by model version 1\n"
   ]
  },
  {
   "cell_type": "markdown",
   "metadata": {},
   "source": [
    "### dataset file 2 and its preprocessing"
   ]
  },
  {
   "cell_type": "code",
   "execution_count": 55,
   "metadata": {},
   "outputs": [
    {
     "data": {
      "text/html": [
       "<div>\n",
       "<style scoped>\n",
       "    .dataframe tbody tr th:only-of-type {\n",
       "        vertical-align: middle;\n",
       "    }\n",
       "\n",
       "    .dataframe tbody tr th {\n",
       "        vertical-align: top;\n",
       "    }\n",
       "\n",
       "    .dataframe thead th {\n",
       "        text-align: right;\n",
       "    }\n",
       "</style>\n",
       "<table border=\"1\" class=\"dataframe\">\n",
       "  <thead>\n",
       "    <tr style=\"text-align: right;\">\n",
       "      <th></th>\n",
       "      <th>Item_Identifier</th>\n",
       "      <th>Item_Weight</th>\n",
       "      <th>Item_Fat_Content</th>\n",
       "      <th>Item_Visibility</th>\n",
       "      <th>Item_Type</th>\n",
       "      <th>Item_MRP</th>\n",
       "      <th>Outlet_Identifier</th>\n",
       "      <th>Outlet_Establishment_Year</th>\n",
       "      <th>Outlet_Size</th>\n",
       "      <th>Outlet_Location_Type</th>\n",
       "      <th>Outlet_Type</th>\n",
       "      <th>Item_Outlet_Sales</th>\n",
       "    </tr>\n",
       "  </thead>\n",
       "  <tbody>\n",
       "    <tr>\n",
       "      <td>0</td>\n",
       "      <td>FDZ21</td>\n",
       "      <td>17.600</td>\n",
       "      <td>Regular</td>\n",
       "      <td>0.039222</td>\n",
       "      <td>Snack Foods</td>\n",
       "      <td>97.2410</td>\n",
       "      <td>OUT046</td>\n",
       "      <td>1997</td>\n",
       "      <td>Small</td>\n",
       "      <td>Tier 1</td>\n",
       "      <td>Supermarket Type1</td>\n",
       "      <td>193.0820</td>\n",
       "    </tr>\n",
       "    <tr>\n",
       "      <td>1</td>\n",
       "      <td>FDJ50</td>\n",
       "      <td>8.645</td>\n",
       "      <td>Low Fat</td>\n",
       "      <td>0.021582</td>\n",
       "      <td>Canned</td>\n",
       "      <td>53.3982</td>\n",
       "      <td>OUT035</td>\n",
       "      <td>2004</td>\n",
       "      <td>Small</td>\n",
       "      <td>Tier 2</td>\n",
       "      <td>Supermarket Type1</td>\n",
       "      <td>1209.7586</td>\n",
       "    </tr>\n",
       "    <tr>\n",
       "      <td>2</td>\n",
       "      <td>FDV35</td>\n",
       "      <td>19.500</td>\n",
       "      <td>Low Fat</td>\n",
       "      <td>0.128206</td>\n",
       "      <td>Breads</td>\n",
       "      <td>155.9314</td>\n",
       "      <td>OUT046</td>\n",
       "      <td>1997</td>\n",
       "      <td>Small</td>\n",
       "      <td>Tier 1</td>\n",
       "      <td>Supermarket Type1</td>\n",
       "      <td>3878.2850</td>\n",
       "    </tr>\n",
       "    <tr>\n",
       "      <td>3</td>\n",
       "      <td>FDW56</td>\n",
       "      <td>7.680</td>\n",
       "      <td>Low Fat</td>\n",
       "      <td>0.071301</td>\n",
       "      <td>Fruits and Vegetables</td>\n",
       "      <td>190.8162</td>\n",
       "      <td>OUT017</td>\n",
       "      <td>2007</td>\n",
       "      <td>NaN</td>\n",
       "      <td>Tier 2</td>\n",
       "      <td>Supermarket Type1</td>\n",
       "      <td>2693.8268</td>\n",
       "    </tr>\n",
       "    <tr>\n",
       "      <td>4</td>\n",
       "      <td>DRL35</td>\n",
       "      <td>15.700</td>\n",
       "      <td>Low Fat</td>\n",
       "      <td>0.030766</td>\n",
       "      <td>Hard Drinks</td>\n",
       "      <td>43.2770</td>\n",
       "      <td>OUT045</td>\n",
       "      <td>2002</td>\n",
       "      <td>NaN</td>\n",
       "      <td>Tier 2</td>\n",
       "      <td>Supermarket Type1</td>\n",
       "      <td>649.1550</td>\n",
       "    </tr>\n",
       "  </tbody>\n",
       "</table>\n",
       "</div>"
      ],
      "text/plain": [
       "  Item_Identifier  Item_Weight Item_Fat_Content  Item_Visibility  \\\n",
       "0           FDZ21       17.600          Regular         0.039222   \n",
       "1           FDJ50        8.645          Low Fat         0.021582   \n",
       "2           FDV35       19.500          Low Fat         0.128206   \n",
       "3           FDW56        7.680          Low Fat         0.071301   \n",
       "4           DRL35       15.700          Low Fat         0.030766   \n",
       "\n",
       "               Item_Type  Item_MRP Outlet_Identifier  \\\n",
       "0            Snack Foods   97.2410            OUT046   \n",
       "1                 Canned   53.3982            OUT035   \n",
       "2                 Breads  155.9314            OUT046   \n",
       "3  Fruits and Vegetables  190.8162            OUT017   \n",
       "4            Hard Drinks   43.2770            OUT045   \n",
       "\n",
       "   Outlet_Establishment_Year Outlet_Size Outlet_Location_Type  \\\n",
       "0                       1997       Small               Tier 1   \n",
       "1                       2004       Small               Tier 2   \n",
       "2                       1997       Small               Tier 1   \n",
       "3                       2007         NaN               Tier 2   \n",
       "4                       2002         NaN               Tier 2   \n",
       "\n",
       "         Outlet_Type  Item_Outlet_Sales  \n",
       "0  Supermarket Type1           193.0820  \n",
       "1  Supermarket Type1          1209.7586  \n",
       "2  Supermarket Type1          3878.2850  \n",
       "3  Supermarket Type1          2693.8268  \n",
       "4  Supermarket Type1           649.1550  "
      ]
     },
     "execution_count": 55,
     "metadata": {},
     "output_type": "execute_result"
    }
   ],
   "source": [
    "#dataset 2   =>file2\n",
    "\n",
    "x='bigmartsalesprediction_1.csv'\n",
    "df1=read_files(x)\n",
    "df1.head()"
   ]
  },
  {
   "cell_type": "code",
   "execution_count": 56,
   "metadata": {},
   "outputs": [
    {
     "name": "stdout",
     "output_type": "stream",
     "text": [
      "Shape of the current file :  (2001, 12) \n",
      "\n",
      "describe function : \n",
      "        Item_Weight  Item_Visibility     Item_MRP  Outlet_Establishment_Year  \\\n",
      "count  1700.000000      2001.000000  2001.000000                2001.000000   \n",
      "mean     12.870544         0.064789   140.961209                1998.130935   \n",
      "std       4.675504         0.050763    62.634736                   8.181922   \n",
      "min       4.555000         0.000000    31.890000                1985.000000   \n",
      "25%       8.778750         0.026940    93.846200                1987.000000   \n",
      "50%      12.600000         0.052312   142.015400                1999.000000   \n",
      "75%      17.100000         0.092576   188.753000                2004.000000   \n",
      "max      21.350000         0.325781   266.188400                2009.000000   \n",
      "\n",
      "       Item_Outlet_Sales  \n",
      "count        2001.000000  \n",
      "mean         2154.207379  \n",
      "std          1660.771545  \n",
      "min            33.955800  \n",
      "25%           810.944400  \n",
      "50%          1780.349200  \n",
      "75%          3075.996000  \n",
      "max          9467.676000   \n",
      "\n",
      "unique values in each feature : \n",
      " Item_Identifier              1162\n",
      "Item_Weight                   355\n",
      "Item_Fat_Content                5\n",
      "Item_Visibility              1883\n",
      "Item_Type                      16\n",
      "Item_MRP                     1824\n",
      "Outlet_Identifier              10\n",
      "Outlet_Establishment_Year       9\n",
      "Outlet_Size                     3\n",
      "Outlet_Location_Type            3\n",
      "Outlet_Type                     4\n",
      "Item_Outlet_Sales            1479\n",
      "dtype: int64\n"
     ]
    }
   ],
   "source": [
    "walkthrough(df1)  #general information of the dataset"
   ]
  },
  {
   "cell_type": "code",
   "execution_count": 57,
   "metadata": {},
   "outputs": [
    {
     "data": {
      "image/png": "[encoded data removed]",
      "text/plain": [
       "<Figure size 720x288 with 1 Axes>"
      ]
     },
     "metadata": {
      "needs_background": "light"
     },
     "output_type": "display_data"
    },
    {
     "name": "stdout",
     "output_type": "stream",
     "text": [
      "Item_Weight    301\n",
      "Outlet_Size    578\n",
      "dtype: int64\n"
     ]
    }
   ],
   "source": [
    "null_visual(df1)  #to visualize the null values in the dataset"
   ]
  },
  {
   "cell_type": "code",
   "execution_count": 58,
   "metadata": {},
   "outputs": [
    {
     "name": "stdout",
     "output_type": "stream",
     "text": [
      "there are 5 numerical and 7 categorical columns\n",
      "Item_Identifier\n",
      "FDQ40    6\n",
      "NCC07    5\n",
      "FDY47    5\n",
      "FDH10    5\n",
      "NCV41    5\n",
      "        ..\n",
      "NCL19    1\n",
      "FDV15    1\n",
      "NCQ38    1\n",
      "FDP52    1\n",
      "FDS47    1\n",
      "Name: Item_Identifier, Length: 1162, dtype: int64\n",
      "\n",
      "Item_Fat_Content\n",
      "Low Fat    1196\n",
      "Regular     682\n",
      "LF           77\n",
      "reg          28\n",
      "low fat      18\n",
      "Name: Item_Fat_Content, dtype: int64\n",
      "\n",
      "Item_Type\n",
      "Fruits and Vegetables    283\n",
      "Snack Foods              269\n",
      "Frozen Foods             212\n",
      "Household                211\n",
      "Baking Goods             167\n",
      "Canned                   163\n",
      "Dairy                    153\n",
      "Health and Hygiene       114\n",
      "Soft Drinks              109\n",
      "Meat                     100\n",
      "Breads                    62\n",
      "Hard Drinks               52\n",
      "Others                    35\n",
      "Starchy Foods             33\n",
      "Breakfast                 24\n",
      "Seafood                   14\n",
      "Name: Item_Type, dtype: int64\n",
      "\n",
      "Outlet_Identifier\n",
      "OUT035    229\n",
      "OUT049    229\n",
      "OUT046    226\n",
      "OUT013    222\n",
      "OUT045    221\n",
      "OUT017    220\n",
      "OUT018    216\n",
      "OUT027    198\n",
      "OUT010    137\n",
      "OUT019    103\n",
      "Name: Outlet_Identifier, dtype: int64\n",
      "\n",
      "Outlet_Size\n",
      "Medium    643\n",
      "Small     558\n",
      "High      222\n",
      "Name: Outlet_Size, dtype: int64\n",
      "\n",
      "Outlet_Location_Type\n",
      "Tier 3    773\n",
      "Tier 2    670\n",
      "Tier 1    558\n",
      "Name: Outlet_Location_Type, dtype: int64\n",
      "\n",
      "Outlet_Type\n",
      "Supermarket Type1    1347\n",
      "Grocery Store         240\n",
      "Supermarket Type2     216\n",
      "Supermarket Type3     198\n",
      "Name: Outlet_Type, dtype: int64\n",
      "\n"
     ]
    }
   ],
   "source": [
    "numeric_data,cat_data=cat_num(df1)   #to check on numeric and categorical features of the dataset\n",
    "cat_analysis(cat_data)              #to find the value counts of each categorical feature"
   ]
  },
  {
   "cell_type": "code",
   "execution_count": 59,
   "metadata": {},
   "outputs": [],
   "source": [
    "#two attributes have missing na, one is numeric, other one is cat\n",
    "#filling na with identifier mean \n",
    "\n",
    "df1=na_fill(df1)"
   ]
  },
  {
   "cell_type": "markdown",
   "metadata": {},
   "source": [
    "### dataset file 2 feature engineering & EDA"
   ]
  },
  {
   "cell_type": "code",
   "execution_count": 60,
   "metadata": {},
   "outputs": [
    {
     "name": "stdout",
     "output_type": "stream",
     "text": [
      "after combining similar fat content \n",
      " Low Fat    1291\n",
      "Regular     710\n",
      "Name: Item_Fat_Content, dtype: int64\n",
      "\n",
      "\n",
      "new variable item_cat value counts \n",
      " FD    1447\n",
      "NC     360\n",
      "DR     194\n",
      "Name: Item_Cat, dtype: int64\n"
     ]
    },
    {
     "data": {
      "text/plain": [
       "(2001, 14)"
      ]
     },
     "execution_count": 60,
     "metadata": {},
     "output_type": "execute_result"
    }
   ],
   "source": [
    "df1=feature_eng(df1)\n",
    "df1=feature_eng2(df1)\n",
    "\n",
    "df1.shape   #2 new features are created"
   ]
  },
  {
   "cell_type": "code",
   "execution_count": 61,
   "metadata": {},
   "outputs": [
    {
     "data": {
      "image/png": "[encoded data removed]",
      "text/plain": [
       "<Figure size 432x288 with 1 Axes>"
      ]
     },
     "metadata": {
      "needs_background": "light"
     },
     "output_type": "display_data"
    }
   ],
   "source": [
    "EDA_1(df0)\n",
    "#Item_Weight analysis"
   ]
  },
  {
   "cell_type": "code",
   "execution_count": 62,
   "metadata": {},
   "outputs": [
    {
     "data": {
      "image/png": "[encoded data removed]",
      "text/plain": [
       "<Figure size 432x288 with 1 Axes>"
      ]
     },
     "metadata": {
      "needs_background": "light"
     },
     "output_type": "display_data"
    }
   ],
   "source": [
    "EDA_2(df0)  # Item_Visibility analysis\n",
    "#=>left skewed =>log transformation"
   ]
  },
  {
   "cell_type": "code",
   "execution_count": 63,
   "metadata": {},
   "outputs": [
    {
     "data": {
      "text/plain": [
       "<matplotlib.axes._subplots.AxesSubplot at 0x1873f271d08>"
      ]
     },
     "execution_count": 63,
     "metadata": {},
     "output_type": "execute_result"
    },
    {
     "data": {
      "image/png": "[encoded data removed]",
      "text/plain": [
       "<Figure size 432x288 with 1 Axes>"
      ]
     },
     "metadata": {
      "needs_background": "light"
     },
     "output_type": "display_data"
    }
   ],
   "source": [
    "# log transformation\n",
    "df0['Item_Visibility'] = np.log(1+df0['Item_Visibility'])\n",
    "df0['Item_Visibility'].hist(color=\"red\")             # somewhat a better distribution"
   ]
  },
  {
   "cell_type": "code",
   "execution_count": 64,
   "metadata": {},
   "outputs": [
    {
     "data": {
      "image/png": "[encoded data removed]",
      "text/plain": [
       "<Figure size 432x288 with 1 Axes>"
      ]
     },
     "metadata": {
      "needs_background": "light"
     },
     "output_type": "display_data"
    }
   ],
   "source": [
    "#Item_MRP analysis\n",
    "EDA_3(df0)   #4 distinguised categories can be seen here"
   ]
  },
  {
   "cell_type": "code",
   "execution_count": 65,
   "metadata": {},
   "outputs": [
    {
     "data": {
      "image/png": "[encoded data removed]",
      "text/plain": [
       "<Figure size 432x288 with 1 Axes>"
      ]
     },
     "metadata": {
      "needs_background": "light"
     },
     "output_type": "display_data"
    }
   ],
   "source": [
    "#Item_Outlet_Sales analysis\n",
    "\n",
    "EDA_4(df1)   #left skewed =>normalization using log transformation"
   ]
  },
  {
   "cell_type": "code",
   "execution_count": 66,
   "metadata": {},
   "outputs": [],
   "source": [
    "df1['Item_Outlet_Sales'] = np.log(1+df1['Item_Outlet_Sales'])"
   ]
  },
  {
   "cell_type": "code",
   "execution_count": 67,
   "metadata": {},
   "outputs": [
    {
     "data": {
      "image/png": "[encoded data removed]",
      "text/plain": [
       "<Figure size 432x288 with 1 Axes>"
      ]
     },
     "metadata": {
      "needs_background": "light"
     },
     "output_type": "display_data"
    }
   ],
   "source": [
    "#Item_Fat_Content analysis\n",
    "EDA_5(df1)    #the distribution is not biased "
   ]
  },
  {
   "cell_type": "code",
   "execution_count": 68,
   "metadata": {},
   "outputs": [
    {
     "data": {
      "image/png": "[encoded data removed]",
      "text/plain": [
       "<Figure size 432x288 with 1 Axes>"
      ]
     },
     "metadata": {
      "needs_background": "light"
     },
     "output_type": "display_data"
    }
   ],
   "source": [
    "#Item_Type analysis\n",
    "    \n",
    "EDA_6(df1)"
   ]
  },
  {
   "cell_type": "code",
   "execution_count": 69,
   "metadata": {},
   "outputs": [],
   "source": [
    "df1_new=label_encod(df1)"
   ]
  },
  {
   "cell_type": "code",
   "execution_count": 70,
   "metadata": {},
   "outputs": [
    {
     "data": {
      "text/html": [
       "<div>\n",
       "<style scoped>\n",
       "    .dataframe tbody tr th:only-of-type {\n",
       "        vertical-align: middle;\n",
       "    }\n",
       "\n",
       "    .dataframe tbody tr th {\n",
       "        vertical-align: top;\n",
       "    }\n",
       "\n",
       "    .dataframe thead th {\n",
       "        text-align: right;\n",
       "    }\n",
       "</style>\n",
       "<table border=\"1\" class=\"dataframe\">\n",
       "  <thead>\n",
       "    <tr style=\"text-align: right;\">\n",
       "      <th></th>\n",
       "      <th>Item_Weight</th>\n",
       "      <th>Item_Visibility</th>\n",
       "      <th>Item_Type</th>\n",
       "      <th>Item_MRP</th>\n",
       "      <th>Item_Outlet_Sales</th>\n",
       "      <th>Outlet_Years</th>\n",
       "      <th>Item_Fat_Content_Low Fat</th>\n",
       "      <th>Item_Fat_Content_Non-Edible</th>\n",
       "      <th>Item_Fat_Content_Regular</th>\n",
       "      <th>Outlet_Size_High</th>\n",
       "      <th>...</th>\n",
       "      <th>Outlet_Location_Type_Tier 1</th>\n",
       "      <th>Outlet_Location_Type_Tier 2</th>\n",
       "      <th>Outlet_Location_Type_Tier 3</th>\n",
       "      <th>Outlet_Type_Grocery Store</th>\n",
       "      <th>Outlet_Type_Supermarket Type1</th>\n",
       "      <th>Outlet_Type_Supermarket Type2</th>\n",
       "      <th>Outlet_Type_Supermarket Type3</th>\n",
       "      <th>Item_Cat_DR</th>\n",
       "      <th>Item_Cat_FD</th>\n",
       "      <th>Item_Cat_NC</th>\n",
       "    </tr>\n",
       "  </thead>\n",
       "  <tbody>\n",
       "    <tr>\n",
       "      <td>0</td>\n",
       "      <td>17.600</td>\n",
       "      <td>0.039222</td>\n",
       "      <td>13</td>\n",
       "      <td>97.2410</td>\n",
       "      <td>5.268281</td>\n",
       "      <td>16</td>\n",
       "      <td>0</td>\n",
       "      <td>0</td>\n",
       "      <td>1</td>\n",
       "      <td>0</td>\n",
       "      <td>...</td>\n",
       "      <td>1</td>\n",
       "      <td>0</td>\n",
       "      <td>0</td>\n",
       "      <td>0</td>\n",
       "      <td>1</td>\n",
       "      <td>0</td>\n",
       "      <td>0</td>\n",
       "      <td>0</td>\n",
       "      <td>1</td>\n",
       "      <td>0</td>\n",
       "    </tr>\n",
       "    <tr>\n",
       "      <td>1</td>\n",
       "      <td>8.645</td>\n",
       "      <td>0.021582</td>\n",
       "      <td>3</td>\n",
       "      <td>53.3982</td>\n",
       "      <td>7.099002</td>\n",
       "      <td>9</td>\n",
       "      <td>1</td>\n",
       "      <td>0</td>\n",
       "      <td>0</td>\n",
       "      <td>0</td>\n",
       "      <td>...</td>\n",
       "      <td>0</td>\n",
       "      <td>1</td>\n",
       "      <td>0</td>\n",
       "      <td>0</td>\n",
       "      <td>1</td>\n",
       "      <td>0</td>\n",
       "      <td>0</td>\n",
       "      <td>0</td>\n",
       "      <td>1</td>\n",
       "      <td>0</td>\n",
       "    </tr>\n",
       "    <tr>\n",
       "      <td>2</td>\n",
       "      <td>19.500</td>\n",
       "      <td>0.128206</td>\n",
       "      <td>1</td>\n",
       "      <td>155.9314</td>\n",
       "      <td>8.263406</td>\n",
       "      <td>16</td>\n",
       "      <td>1</td>\n",
       "      <td>0</td>\n",
       "      <td>0</td>\n",
       "      <td>0</td>\n",
       "      <td>...</td>\n",
       "      <td>1</td>\n",
       "      <td>0</td>\n",
       "      <td>0</td>\n",
       "      <td>0</td>\n",
       "      <td>1</td>\n",
       "      <td>0</td>\n",
       "      <td>0</td>\n",
       "      <td>0</td>\n",
       "      <td>1</td>\n",
       "      <td>0</td>\n",
       "    </tr>\n",
       "  </tbody>\n",
       "</table>\n",
       "<p>3 rows × 22 columns</p>\n",
       "</div>"
      ],
      "text/plain": [
       "   Item_Weight  Item_Visibility  Item_Type  Item_MRP  Item_Outlet_Sales  \\\n",
       "0       17.600         0.039222         13   97.2410           5.268281   \n",
       "1        8.645         0.021582          3   53.3982           7.099002   \n",
       "2       19.500         0.128206          1  155.9314           8.263406   \n",
       "\n",
       "   Outlet_Years  Item_Fat_Content_Low Fat  Item_Fat_Content_Non-Edible  \\\n",
       "0            16                         0                            0   \n",
       "1             9                         1                            0   \n",
       "2            16                         1                            0   \n",
       "\n",
       "   Item_Fat_Content_Regular  Outlet_Size_High  ...  \\\n",
       "0                         1                 0  ...   \n",
       "1                         0                 0  ...   \n",
       "2                         0                 0  ...   \n",
       "\n",
       "   Outlet_Location_Type_Tier 1  Outlet_Location_Type_Tier 2  \\\n",
       "0                            1                            0   \n",
       "1                            0                            1   \n",
       "2                            1                            0   \n",
       "\n",
       "   Outlet_Location_Type_Tier 3  Outlet_Type_Grocery Store  \\\n",
       "0                            0                          0   \n",
       "1                            0                          0   \n",
       "2                            0                          0   \n",
       "\n",
       "   Outlet_Type_Supermarket Type1  Outlet_Type_Supermarket Type2  \\\n",
       "0                              1                              0   \n",
       "1                              1                              0   \n",
       "2                              1                              0   \n",
       "\n",
       "   Outlet_Type_Supermarket Type3  Item_Cat_DR  Item_Cat_FD  Item_Cat_NC  \n",
       "0                              0            0            1            0  \n",
       "1                              0            0            1            0  \n",
       "2                              0            0            1            0  \n",
       "\n",
       "[3 rows x 22 columns]"
      ]
     },
     "execution_count": 70,
     "metadata": {},
     "output_type": "execute_result"
    }
   ],
   "source": [
    "df1_new.head(n=3)"
   ]
  },
  {
   "cell_type": "code",
   "execution_count": 71,
   "metadata": {},
   "outputs": [],
   "source": [
    "X_1= df1_new\n",
    "X_1=X_1.drop(columns=['Item_Outlet_Sales'],axis=1)\n",
    "Y_1=df1_new['Item_Outlet_Sales']"
   ]
  },
  {
   "cell_type": "code",
   "execution_count": 72,
   "metadata": {},
   "outputs": [
    {
     "name": "stdout",
     "output_type": "stream",
     "text": [
      "Model Report\n",
      "MSE: 0.3129045432459298\n"
     ]
    }
   ],
   "source": [
    "X_11=X_1[['Outlet_Type_Grocery Store', 'Item_MRP', 'Item_Visibility','Item_Type','Outlet_Years','Item_Weight' ]]\n",
    "pred = model.predict(X_11)\n",
    "    \n",
    "print(\"Model Report\")\n",
    "print(\"MSE:\",mean_squared_error(Y_1,pred))     #here the model is not trained on unforeseen so the error is 0.31"
   ]
  },
  {
   "cell_type": "markdown",
   "metadata": {},
   "source": [
    "## Model retraining using dataset file 2"
   ]
  },
  {
   "cell_type": "code",
   "execution_count": 184,
   "metadata": {},
   "outputs": [
    {
     "name": "stdout",
     "output_type": "stream",
     "text": [
      "Model Report\n",
      "MSE: 0.04292750725737745\n"
     ]
    }
   ],
   "source": [
    "train(model, X_11, Y_1)  #accuracy is almost the same, to make it generalized(avoid overfiiting) i will be progressing\n",
    "                         #with this.\n",
    "    \n",
    "pred = model.predict(X_11)\n",
    "    \n",
    "print(\"Model Report\")\n",
    "print(\"MSE:\",mean_squared_error(Y_1,pred))     #now the huge difference is seen on accuracy as the model is retrained\n",
    "                                               #on new file"
   ]
  },
  {
   "cell_type": "code",
   "execution_count": 185,
   "metadata": {},
   "outputs": [],
   "source": [
    "\n",
    "# save the model to disk\n",
    "filename_2 = 'model_2.sav'\n",
    "pickle.dump(model, open(filename_2, 'wb'))"
   ]
  },
  {
   "cell_type": "markdown",
   "metadata": {},
   "source": [
    "### checking the updated model on unforeseen"
   ]
  },
  {
   "cell_type": "code",
   "execution_count": 198,
   "metadata": {},
   "outputs": [
    {
     "data": {
      "text/plain": [
       "0.31603564355673247"
      ]
     },
     "execution_count": 198,
     "metadata": {},
     "output_type": "execute_result"
    }
   ],
   "source": [
    "#predicting on unforeseen\n",
    "\n",
    "loaded_model_2 = pickle.load(open(filename_2, 'rb'))\n",
    "pred = loaded_model_2.predict(df_train_X)\n",
    "\n",
    "phase_2= mean_squared_error(df_train_Y,pred)\n",
    "phase_2\n",
    "#predicting by model version 2"
   ]
  },
  {
   "cell_type": "markdown",
   "metadata": {},
   "source": [
    "## dataset file 3 reading and walking through"
   ]
  },
  {
   "cell_type": "code",
   "execution_count": 82,
   "metadata": {},
   "outputs": [
    {
     "data": {
      "text/html": [
       "<div>\n",
       "<style scoped>\n",
       "    .dataframe tbody tr th:only-of-type {\n",
       "        vertical-align: middle;\n",
       "    }\n",
       "\n",
       "    .dataframe tbody tr th {\n",
       "        vertical-align: top;\n",
       "    }\n",
       "\n",
       "    .dataframe thead th {\n",
       "        text-align: right;\n",
       "    }\n",
       "</style>\n",
       "<table border=\"1\" class=\"dataframe\">\n",
       "  <thead>\n",
       "    <tr style=\"text-align: right;\">\n",
       "      <th></th>\n",
       "      <th>Item_Identifier</th>\n",
       "      <th>Item_Weight</th>\n",
       "      <th>Item_Fat_Content</th>\n",
       "      <th>Item_Visibility</th>\n",
       "      <th>Item_Type</th>\n",
       "      <th>Item_MRP</th>\n",
       "      <th>Outlet_Identifier</th>\n",
       "      <th>Outlet_Establishment_Year</th>\n",
       "      <th>Outlet_Size</th>\n",
       "      <th>Outlet_Location_Type</th>\n",
       "      <th>Outlet_Type</th>\n",
       "      <th>Item_Outlet_Sales</th>\n",
       "    </tr>\n",
       "  </thead>\n",
       "  <tbody>\n",
       "    <tr>\n",
       "      <td>0</td>\n",
       "      <td>FDI20</td>\n",
       "      <td>19.100</td>\n",
       "      <td>Low Fat</td>\n",
       "      <td>0.038721</td>\n",
       "      <td>Fruits and Vegetables</td>\n",
       "      <td>210.8586</td>\n",
       "      <td>OUT018</td>\n",
       "      <td>2009</td>\n",
       "      <td>Medium</td>\n",
       "      <td>Tier 3</td>\n",
       "      <td>Supermarket Type2</td>\n",
       "      <td>6331.7580</td>\n",
       "    </tr>\n",
       "    <tr>\n",
       "      <td>1</td>\n",
       "      <td>FDH33</td>\n",
       "      <td>12.850</td>\n",
       "      <td>Low Fat</td>\n",
       "      <td>0.122414</td>\n",
       "      <td>Snack Foods</td>\n",
       "      <td>42.9428</td>\n",
       "      <td>OUT017</td>\n",
       "      <td>2007</td>\n",
       "      <td>NaN</td>\n",
       "      <td>Tier 2</td>\n",
       "      <td>Supermarket Type1</td>\n",
       "      <td>703.0848</td>\n",
       "    </tr>\n",
       "    <tr>\n",
       "      <td>2</td>\n",
       "      <td>NCO29</td>\n",
       "      <td>11.150</td>\n",
       "      <td>Low Fat</td>\n",
       "      <td>0.032322</td>\n",
       "      <td>Health and Hygiene</td>\n",
       "      <td>165.6526</td>\n",
       "      <td>OUT045</td>\n",
       "      <td>2002</td>\n",
       "      <td>NaN</td>\n",
       "      <td>Tier 2</td>\n",
       "      <td>Supermarket Type1</td>\n",
       "      <td>1315.6208</td>\n",
       "    </tr>\n",
       "    <tr>\n",
       "      <td>3</td>\n",
       "      <td>FDK22</td>\n",
       "      <td>9.800</td>\n",
       "      <td>Low Fat</td>\n",
       "      <td>0.026139</td>\n",
       "      <td>Snack Foods</td>\n",
       "      <td>216.7850</td>\n",
       "      <td>OUT045</td>\n",
       "      <td>2002</td>\n",
       "      <td>NaN</td>\n",
       "      <td>Tier 2</td>\n",
       "      <td>Supermarket Type1</td>\n",
       "      <td>1947.4650</td>\n",
       "    </tr>\n",
       "    <tr>\n",
       "      <td>4</td>\n",
       "      <td>DRO47</td>\n",
       "      <td>10.195</td>\n",
       "      <td>Low Fat</td>\n",
       "      <td>0.000000</td>\n",
       "      <td>Hard Drinks</td>\n",
       "      <td>114.0860</td>\n",
       "      <td>OUT046</td>\n",
       "      <td>1997</td>\n",
       "      <td>Small</td>\n",
       "      <td>Tier 1</td>\n",
       "      <td>Supermarket Type1</td>\n",
       "      <td>1810.9760</td>\n",
       "    </tr>\n",
       "  </tbody>\n",
       "</table>\n",
       "</div>"
      ],
      "text/plain": [
       "  Item_Identifier  Item_Weight Item_Fat_Content  Item_Visibility  \\\n",
       "0           FDI20       19.100          Low Fat         0.038721   \n",
       "1           FDH33       12.850          Low Fat         0.122414   \n",
       "2           NCO29       11.150          Low Fat         0.032322   \n",
       "3           FDK22        9.800          Low Fat         0.026139   \n",
       "4           DRO47       10.195          Low Fat         0.000000   \n",
       "\n",
       "               Item_Type  Item_MRP Outlet_Identifier  \\\n",
       "0  Fruits and Vegetables  210.8586            OUT018   \n",
       "1            Snack Foods   42.9428            OUT017   \n",
       "2     Health and Hygiene  165.6526            OUT045   \n",
       "3            Snack Foods  216.7850            OUT045   \n",
       "4            Hard Drinks  114.0860            OUT046   \n",
       "\n",
       "   Outlet_Establishment_Year Outlet_Size Outlet_Location_Type  \\\n",
       "0                       2009      Medium               Tier 3   \n",
       "1                       2007         NaN               Tier 2   \n",
       "2                       2002         NaN               Tier 2   \n",
       "3                       2002         NaN               Tier 2   \n",
       "4                       1997       Small               Tier 1   \n",
       "\n",
       "         Outlet_Type  Item_Outlet_Sales  \n",
       "0  Supermarket Type2          6331.7580  \n",
       "1  Supermarket Type1           703.0848  \n",
       "2  Supermarket Type1          1315.6208  \n",
       "3  Supermarket Type1          1947.4650  \n",
       "4  Supermarket Type1          1810.9760  "
      ]
     },
     "execution_count": 82,
     "metadata": {},
     "output_type": "execute_result"
    }
   ],
   "source": [
    "#dataset file 3\n",
    "\n",
    "x='bigmartsalesprediction_2.csv'\n",
    "df_2=read_files(x)\n",
    "df_2.head()"
   ]
  },
  {
   "cell_type": "code",
   "execution_count": 83,
   "metadata": {},
   "outputs": [
    {
     "name": "stdout",
     "output_type": "stream",
     "text": [
      "Shape of the current file :  (2001, 12) \n",
      "\n",
      "describe function : \n",
      "        Item_Weight  Item_Visibility     Item_MRP  Outlet_Establishment_Year  \\\n",
      "count  1648.000000      2001.000000  2001.000000                2001.000000   \n",
      "mean     13.002888         0.067284   142.025776                1997.715142   \n",
      "std       4.687110         0.051756    62.506220                   8.428987   \n",
      "min       4.555000         0.000000    32.055800                1985.000000   \n",
      "25%       8.895000         0.027324    95.075200                1987.000000   \n",
      "50%      12.850000         0.056031   143.781200                1999.000000   \n",
      "75%      17.250000         0.097368   185.755600                2004.000000   \n",
      "max      21.350000         0.308145   266.888400                2009.000000   \n",
      "\n",
      "       Item_Outlet_Sales  \n",
      "count        2001.000000  \n",
      "mean         2196.656538  \n",
      "std          1689.366579  \n",
      "min            36.619000  \n",
      "25%           885.514000  \n",
      "50%          1837.608000  \n",
      "75%          3131.923200  \n",
      "max         12117.560000   \n",
      "\n",
      "unique values in each feature : \n",
      " Item_Identifier              1177\n",
      "Item_Weight                   351\n",
      "Item_Fat_Content                5\n",
      "Item_Visibility              1876\n",
      "Item_Type                      16\n",
      "Item_MRP                     1830\n",
      "Outlet_Identifier              10\n",
      "Outlet_Establishment_Year       9\n",
      "Outlet_Size                     3\n",
      "Outlet_Location_Type            3\n",
      "Outlet_Type                     4\n",
      "Item_Outlet_Sales            1461\n",
      "dtype: int64\n"
     ]
    }
   ],
   "source": [
    "walkthrough(df_2)"
   ]
  },
  {
   "cell_type": "code",
   "execution_count": 84,
   "metadata": {},
   "outputs": [
    {
     "data": {
      "image/png": "[encoded data removed]",
      "text/plain": [
       "<Figure size 720x288 with 1 Axes>"
      ]
     },
     "metadata": {
      "needs_background": "light"
     },
     "output_type": "display_data"
    },
    {
     "name": "stdout",
     "output_type": "stream",
     "text": [
      "Item_Weight    353\n",
      "Outlet_Size    562\n",
      "dtype: int64\n"
     ]
    }
   ],
   "source": [
    "null_visual(df_2)"
   ]
  },
  {
   "cell_type": "code",
   "execution_count": 85,
   "metadata": {},
   "outputs": [
    {
     "name": "stdout",
     "output_type": "stream",
     "text": [
      "there are 5 numerical and 7 categorical columns\n",
      "Item_Identifier\n",
      "FDH56    6\n",
      "DRD12    6\n",
      "NCS29    5\n",
      "NCH55    5\n",
      "NCQ43    5\n",
      "        ..\n",
      "NCP06    1\n",
      "FDB29    1\n",
      "FDR25    1\n",
      "DRG01    1\n",
      "DRC24    1\n",
      "Name: Item_Identifier, Length: 1177, dtype: int64\n",
      "\n",
      "Item_Fat_Content\n",
      "Low Fat    1183\n",
      "Regular     692\n",
      "LF           76\n",
      "low fat      27\n",
      "reg          23\n",
      "Name: Item_Fat_Content, dtype: int64\n",
      "\n",
      "Item_Type\n",
      "Fruits and Vegetables    283\n",
      "Snack Foods              279\n",
      "Household                216\n",
      "Frozen Foods             203\n",
      "Dairy                    168\n",
      "Baking Goods             155\n",
      "Canned                   147\n",
      "Health and Hygiene       125\n",
      "Meat                      94\n",
      "Soft Drinks               93\n",
      "Breads                    69\n",
      "Hard Drinks               51\n",
      "Starchy Foods             39\n",
      "Others                    39\n",
      "Breakfast                 23\n",
      "Seafood                   17\n",
      "Name: Item_Type, dtype: int64\n",
      "\n",
      "Outlet_Identifier\n",
      "OUT027    234\n",
      "OUT013    225\n",
      "OUT035    222\n",
      "OUT045    221\n",
      "OUT018    219\n",
      "OUT046    216\n",
      "OUT017    209\n",
      "OUT049    204\n",
      "OUT010    132\n",
      "OUT019    119\n",
      "Name: Outlet_Identifier, dtype: int64\n",
      "\n",
      "Outlet_Size\n",
      "Medium    657\n",
      "Small     557\n",
      "High      225\n",
      "Name: Outlet_Size, dtype: int64\n",
      "\n",
      "Outlet_Location_Type\n",
      "Tier 3    810\n",
      "Tier 2    652\n",
      "Tier 1    539\n",
      "Name: Outlet_Location_Type, dtype: int64\n",
      "\n",
      "Outlet_Type\n",
      "Supermarket Type1    1297\n",
      "Grocery Store         251\n",
      "Supermarket Type3     234\n",
      "Supermarket Type2     219\n",
      "Name: Outlet_Type, dtype: int64\n",
      "\n"
     ]
    }
   ],
   "source": [
    "numeric_data,cat_data=cat_num(df_2)   #to check on numeric and categorical features of the dataset\n",
    "cat_analysis(cat_data)              #to find the value counts of each categorical feature"
   ]
  },
  {
   "cell_type": "code",
   "execution_count": 86,
   "metadata": {},
   "outputs": [],
   "source": [
    "#two attributes have missing na, one is numeric, other one is cat\n",
    "#filling na with identifier mean \n",
    "\n",
    "df_2=na_fill(df_2)"
   ]
  },
  {
   "cell_type": "code",
   "execution_count": 87,
   "metadata": {},
   "outputs": [
    {
     "data": {
      "text/plain": [
       "<matplotlib.axes._subplots.AxesSubplot at 0x187471d6d08>"
      ]
     },
     "execution_count": 87,
     "metadata": {},
     "output_type": "execute_result"
    },
    {
     "data": {
      "image/png": "[encoded data removed]",
      "text/plain": [
       "<Figure size 432x288 with 1 Axes>"
      ]
     },
     "metadata": {
      "needs_background": "light"
     },
     "output_type": "display_data"
    }
   ],
   "source": [
    "df_2['Item_Visibility'] = np.log(1+df_2['Item_Visibility'])\n",
    "df_2['Item_Visibility'].hist(color=\"red\") "
   ]
  },
  {
   "cell_type": "code",
   "execution_count": 90,
   "metadata": {},
   "outputs": [],
   "source": [
    "df_2['Item_Outlet_Sales'] = np.log(1+df_2['Item_Outlet_Sales'])"
   ]
  },
  {
   "cell_type": "markdown",
   "metadata": {},
   "source": [
    "### Feature Engineering and EDA"
   ]
  },
  {
   "cell_type": "code",
   "execution_count": 91,
   "metadata": {},
   "outputs": [
    {
     "name": "stdout",
     "output_type": "stream",
     "text": [
      "after combining similar fat content \n",
      " Low Fat    1286\n",
      "Regular     715\n",
      "Name: Item_Fat_Content, dtype: int64\n",
      "\n",
      "\n",
      "new variable item_cat value counts \n",
      " FD    1443\n",
      "NC     380\n",
      "DR     178\n",
      "Name: Item_Cat, dtype: int64\n"
     ]
    },
    {
     "data": {
      "text/plain": [
       "(2001, 14)"
      ]
     },
     "execution_count": 91,
     "metadata": {},
     "output_type": "execute_result"
    }
   ],
   "source": [
    "df_2=feature_eng(df_2)\n",
    "df_2=feature_eng2(df_2)\n",
    "\n",
    "df_2.shape   #2 new features are created"
   ]
  },
  {
   "cell_type": "code",
   "execution_count": 92,
   "metadata": {},
   "outputs": [
    {
     "data": {
      "text/plain": [
       "(2001, 22)"
      ]
     },
     "execution_count": 92,
     "metadata": {},
     "output_type": "execute_result"
    }
   ],
   "source": [
    "df_2_new=label_encod(df_2)\n",
    "df_2_new.shape"
   ]
  },
  {
   "cell_type": "code",
   "execution_count": 93,
   "metadata": {},
   "outputs": [],
   "source": [
    "df_2_X=df_2_new[['Outlet_Type_Grocery Store', 'Item_MRP', 'Item_Visibility','Item_Type','Outlet_Years','Item_Weight' ]]\n",
    "df_2_Y= df_2_new['Item_Outlet_Sales']"
   ]
  },
  {
   "cell_type": "markdown",
   "metadata": {},
   "source": [
    "## Model retraining on dataset file 3"
   ]
  },
  {
   "cell_type": "code",
   "execution_count": 188,
   "metadata": {},
   "outputs": [
    {
     "name": "stdout",
     "output_type": "stream",
     "text": [
      "Model Report\n",
      "MSE: 0.04019193609636639\n"
     ]
    }
   ],
   "source": [
    "train(model, df_2_X, df_2_Y)  #retraining\n",
    "\n",
    "pred = model.predict(df_2_X)\n",
    "    \n",
    "print(\"Model Report\")\n",
    "print(\"MSE:\",mean_squared_error(df_2_Y,pred))     "
   ]
  },
  {
   "cell_type": "code",
   "execution_count": 189,
   "metadata": {},
   "outputs": [],
   "source": [
    "# save the model to disk  => third retraining\n",
    "\n",
    "filename_3 = 'model_3.sav'\n",
    "pickle.dump(model, open(filename_3, 'wb'))"
   ]
  },
  {
   "cell_type": "markdown",
   "metadata": {},
   "source": [
    "### #predicting on unforeseen\n"
   ]
  },
  {
   "cell_type": "code",
   "execution_count": 197,
   "metadata": {},
   "outputs": [
    {
     "data": {
      "text/plain": [
       "0.31032012479353444"
      ]
     },
     "execution_count": 197,
     "metadata": {},
     "output_type": "execute_result"
    }
   ],
   "source": [
    "#predicting on unforeseen\n",
    "\n",
    "loaded_model_3 = pickle.load(open(filename_3, 'rb'))\n",
    "pred = loaded_model_3.predict(df_train_X)\n",
    "\n",
    "phase_3= mean_squared_error(df_train_Y,pred)\n",
    "phase_3\n",
    "#predicting by model version 3"
   ]
  },
  {
   "cell_type": "markdown",
   "metadata": {},
   "source": [
    "## Dataset file 4 "
   ]
  },
  {
   "cell_type": "code",
   "execution_count": 110,
   "metadata": {},
   "outputs": [
    {
     "data": {
      "text/html": [
       "<div>\n",
       "<style scoped>\n",
       "    .dataframe tbody tr th:only-of-type {\n",
       "        vertical-align: middle;\n",
       "    }\n",
       "\n",
       "    .dataframe tbody tr th {\n",
       "        vertical-align: top;\n",
       "    }\n",
       "\n",
       "    .dataframe thead th {\n",
       "        text-align: right;\n",
       "    }\n",
       "</style>\n",
       "<table border=\"1\" class=\"dataframe\">\n",
       "  <thead>\n",
       "    <tr style=\"text-align: right;\">\n",
       "      <th></th>\n",
       "      <th>Item_Identifier</th>\n",
       "      <th>Item_Weight</th>\n",
       "      <th>Item_Fat_Content</th>\n",
       "      <th>Item_Visibility</th>\n",
       "      <th>Item_Type</th>\n",
       "      <th>Item_MRP</th>\n",
       "      <th>Outlet_Identifier</th>\n",
       "      <th>Outlet_Establishment_Year</th>\n",
       "      <th>Outlet_Size</th>\n",
       "      <th>Outlet_Location_Type</th>\n",
       "      <th>Outlet_Type</th>\n",
       "      <th>Item_Outlet_Sales</th>\n",
       "    </tr>\n",
       "  </thead>\n",
       "  <tbody>\n",
       "    <tr>\n",
       "      <td>0</td>\n",
       "      <td>NCB18</td>\n",
       "      <td>19.60</td>\n",
       "      <td>Low Fat</td>\n",
       "      <td>0.041291</td>\n",
       "      <td>Household</td>\n",
       "      <td>86.9514</td>\n",
       "      <td>OUT046</td>\n",
       "      <td>1997</td>\n",
       "      <td>Small</td>\n",
       "      <td>Tier 1</td>\n",
       "      <td>Supermarket Type1</td>\n",
       "      <td>1416.8224</td>\n",
       "    </tr>\n",
       "    <tr>\n",
       "      <td>1</td>\n",
       "      <td>FDO37</td>\n",
       "      <td>NaN</td>\n",
       "      <td>Low Fat</td>\n",
       "      <td>0.021273</td>\n",
       "      <td>Breakfast</td>\n",
       "      <td>229.1326</td>\n",
       "      <td>OUT027</td>\n",
       "      <td>1985</td>\n",
       "      <td>Medium</td>\n",
       "      <td>Tier 3</td>\n",
       "      <td>Supermarket Type3</td>\n",
       "      <td>7393.0432</td>\n",
       "    </tr>\n",
       "    <tr>\n",
       "      <td>2</td>\n",
       "      <td>FDV13</td>\n",
       "      <td>17.35</td>\n",
       "      <td>Regular</td>\n",
       "      <td>0.027588</td>\n",
       "      <td>Canned</td>\n",
       "      <td>86.1856</td>\n",
       "      <td>OUT013</td>\n",
       "      <td>1987</td>\n",
       "      <td>High</td>\n",
       "      <td>Tier 3</td>\n",
       "      <td>Supermarket Type1</td>\n",
       "      <td>703.0848</td>\n",
       "    </tr>\n",
       "    <tr>\n",
       "      <td>3</td>\n",
       "      <td>FDF52</td>\n",
       "      <td>9.30</td>\n",
       "      <td>Low Fat</td>\n",
       "      <td>0.111782</td>\n",
       "      <td>Frozen Foods</td>\n",
       "      <td>182.3292</td>\n",
       "      <td>OUT010</td>\n",
       "      <td>1998</td>\n",
       "      <td>NaN</td>\n",
       "      <td>Tier 3</td>\n",
       "      <td>Grocery Store</td>\n",
       "      <td>182.4292</td>\n",
       "    </tr>\n",
       "    <tr>\n",
       "      <td>4</td>\n",
       "      <td>FDY11</td>\n",
       "      <td>6.71</td>\n",
       "      <td>Regular</td>\n",
       "      <td>0.029606</td>\n",
       "      <td>Baking Goods</td>\n",
       "      <td>65.4142</td>\n",
       "      <td>OUT049</td>\n",
       "      <td>1999</td>\n",
       "      <td>Medium</td>\n",
       "      <td>Tier 1</td>\n",
       "      <td>Supermarket Type1</td>\n",
       "      <td>1516.0266</td>\n",
       "    </tr>\n",
       "  </tbody>\n",
       "</table>\n",
       "</div>"
      ],
      "text/plain": [
       "  Item_Identifier  Item_Weight Item_Fat_Content  Item_Visibility  \\\n",
       "0           NCB18        19.60          Low Fat         0.041291   \n",
       "1           FDO37          NaN          Low Fat         0.021273   \n",
       "2           FDV13        17.35          Regular         0.027588   \n",
       "3           FDF52         9.30          Low Fat         0.111782   \n",
       "4           FDY11         6.71          Regular         0.029606   \n",
       "\n",
       "      Item_Type  Item_MRP Outlet_Identifier  Outlet_Establishment_Year  \\\n",
       "0     Household   86.9514            OUT046                       1997   \n",
       "1     Breakfast  229.1326            OUT027                       1985   \n",
       "2        Canned   86.1856            OUT013                       1987   \n",
       "3  Frozen Foods  182.3292            OUT010                       1998   \n",
       "4  Baking Goods   65.4142            OUT049                       1999   \n",
       "\n",
       "  Outlet_Size Outlet_Location_Type        Outlet_Type  Item_Outlet_Sales  \n",
       "0       Small               Tier 1  Supermarket Type1          1416.8224  \n",
       "1      Medium               Tier 3  Supermarket Type3          7393.0432  \n",
       "2        High               Tier 3  Supermarket Type1           703.0848  \n",
       "3         NaN               Tier 3      Grocery Store           182.4292  \n",
       "4      Medium               Tier 1  Supermarket Type1          1516.0266  "
      ]
     },
     "execution_count": 110,
     "metadata": {},
     "output_type": "execute_result"
    }
   ],
   "source": [
    "#dataset file 4\n",
    "\n",
    "x='bigmartsalesprediction_3.csv'\n",
    "df_3=read_files(x)\n",
    "df_3.head()"
   ]
  },
  {
   "cell_type": "code",
   "execution_count": 111,
   "metadata": {},
   "outputs": [
    {
     "name": "stdout",
     "output_type": "stream",
     "text": [
      "Shape of the current file :  (2001, 12) \n",
      "\n",
      "describe function : \n",
      "        Item_Weight  Item_Visibility     Item_MRP  Outlet_Establishment_Year  \\\n",
      "count  1632.000000      2001.000000  2001.000000                2001.000000   \n",
      "mean     12.626434         0.066540   140.147378                1997.613693   \n",
      "std       4.614601         0.052432    61.428965                   8.477747   \n",
      "min       4.555000         0.000000    31.490000                1985.000000   \n",
      "25%       8.600000         0.027114    92.712000                1987.000000   \n",
      "50%      12.350000         0.052836   142.047000                1999.000000   \n",
      "75%      16.600000         0.095331   183.826600                2004.000000   \n",
      "max      21.350000         0.311090   265.556800                2009.000000   \n",
      "\n",
      "       Item_Outlet_Sales  \n",
      "count        2001.000000  \n",
      "mean         2164.866834  \n",
      "std          1741.504727  \n",
      "min            33.290000  \n",
      "25%           820.265600  \n",
      "50%          1725.753600  \n",
      "75%          3094.638400  \n",
      "max         13086.964800   \n",
      "\n",
      "unique values in each feature : \n",
      " Item_Identifier              1172\n",
      "Item_Weight                   352\n",
      "Item_Fat_Content                5\n",
      "Item_Visibility              1866\n",
      "Item_Type                      16\n",
      "Item_MRP                     1823\n",
      "Outlet_Identifier              10\n",
      "Outlet_Establishment_Year       9\n",
      "Outlet_Size                     3\n",
      "Outlet_Location_Type            3\n",
      "Outlet_Type                     4\n",
      "Item_Outlet_Sales            1465\n",
      "dtype: int64\n"
     ]
    }
   ],
   "source": [
    "walkthrough(df_3)"
   ]
  },
  {
   "cell_type": "code",
   "execution_count": 112,
   "metadata": {},
   "outputs": [
    {
     "data": {
      "image/png": "[encoded data removed]",
      "text/plain": [
       "<Figure size 720x288 with 1 Axes>"
      ]
     },
     "metadata": {
      "needs_background": "light"
     },
     "output_type": "display_data"
    },
    {
     "name": "stdout",
     "output_type": "stream",
     "text": [
      "Item_Weight    369\n",
      "Outlet_Size    550\n",
      "dtype: int64\n"
     ]
    }
   ],
   "source": [
    "null_visual(df_3)"
   ]
  },
  {
   "cell_type": "code",
   "execution_count": 113,
   "metadata": {},
   "outputs": [
    {
     "name": "stdout",
     "output_type": "stream",
     "text": [
      "there are 5 numerical and 7 categorical columns\n",
      "Item_Identifier\n",
      "FDT49    6\n",
      "FDI22    5\n",
      "NCF30    5\n",
      "FDM58    5\n",
      "NCM07    5\n",
      "        ..\n",
      "DRE48    1\n",
      "FDA01    1\n",
      "FDL44    1\n",
      "NCJ43    1\n",
      "DRE03    1\n",
      "Name: Item_Identifier, Length: 1172, dtype: int64\n",
      "\n",
      "Item_Fat_Content\n",
      "Low Fat    1168\n",
      "Regular     691\n",
      "LF           78\n",
      "low fat      34\n",
      "reg          30\n",
      "Name: Item_Fat_Content, dtype: int64\n",
      "\n",
      "Item_Type\n",
      "Snack Foods              284\n",
      "Fruits and Vegetables    280\n",
      "Household                210\n",
      "Frozen Foods             183\n",
      "Baking Goods             159\n",
      "Dairy                    159\n",
      "Canned                   152\n",
      "Health and Hygiene       141\n",
      "Soft Drinks              105\n",
      "Meat                     104\n",
      "Breads                    61\n",
      "Hard Drinks               50\n",
      "Others                    41\n",
      "Starchy Foods             31\n",
      "Breakfast                 29\n",
      "Seafood                   12\n",
      "Name: Item_Type, dtype: int64\n",
      "\n",
      "Outlet_Identifier\n",
      "OUT049    234\n",
      "OUT018    223\n",
      "OUT017    220\n",
      "OUT027    220\n",
      "OUT013    217\n",
      "OUT046    212\n",
      "OUT035    196\n",
      "OUT045    195\n",
      "OUT019    149\n",
      "OUT010    135\n",
      "Name: Outlet_Identifier, dtype: int64\n",
      "\n",
      "Outlet_Size\n",
      "Medium    677\n",
      "Small     557\n",
      "High      217\n",
      "Name: Outlet_Size, dtype: int64\n",
      "\n",
      "Outlet_Location_Type\n",
      "Tier 3    795\n",
      "Tier 2    611\n",
      "Tier 1    595\n",
      "Name: Outlet_Location_Type, dtype: int64\n",
      "\n",
      "Outlet_Type\n",
      "Supermarket Type1    1274\n",
      "Grocery Store         284\n",
      "Supermarket Type2     223\n",
      "Supermarket Type3     220\n",
      "Name: Outlet_Type, dtype: int64\n",
      "\n"
     ]
    }
   ],
   "source": [
    "numeric_data,cat_data=cat_num(df_3)   #to check on numeric and categorical features of the dataset\n",
    "cat_analysis(cat_data)              #to find the value counts of each categorical feature"
   ]
  },
  {
   "cell_type": "code",
   "execution_count": 114,
   "metadata": {},
   "outputs": [],
   "source": [
    "#two attributes have missing na, one is numeric, other one is cat\n",
    "#filling na with identifier mean \n",
    "\n",
    "df_3=na_fill(df_3)"
   ]
  },
  {
   "cell_type": "code",
   "execution_count": 116,
   "metadata": {},
   "outputs": [],
   "source": [
    "df_3['Item_Visibility'] = np.log(1+df_3['Item_Visibility'])\n",
    "df_3['Item_Outlet_Sales'] = np.log(1+df_3['Item_Outlet_Sales'])"
   ]
  },
  {
   "cell_type": "markdown",
   "metadata": {},
   "source": [
    "## feature engineering  & EDA"
   ]
  },
  {
   "cell_type": "code",
   "execution_count": 117,
   "metadata": {},
   "outputs": [
    {
     "name": "stdout",
     "output_type": "stream",
     "text": [
      "after combining similar fat content \n",
      " Low Fat    1280\n",
      "Regular     721\n",
      "Name: Item_Fat_Content, dtype: int64\n",
      "\n",
      "\n",
      "new variable item_cat value counts \n",
      " FD    1421\n",
      "NC     392\n",
      "DR     188\n",
      "Name: Item_Cat, dtype: int64\n"
     ]
    },
    {
     "data": {
      "text/plain": [
       "(2001, 14)"
      ]
     },
     "execution_count": 117,
     "metadata": {},
     "output_type": "execute_result"
    }
   ],
   "source": [
    "df_3=feature_eng(df_3)\n",
    "df_3=feature_eng2(df_3)\n",
    "\n",
    "df_3.shape   #2 new features are created"
   ]
  },
  {
   "cell_type": "code",
   "execution_count": 118,
   "metadata": {},
   "outputs": [
    {
     "data": {
      "text/plain": [
       "(2001, 22)"
      ]
     },
     "execution_count": 118,
     "metadata": {},
     "output_type": "execute_result"
    }
   ],
   "source": [
    "df_3_new=label_encod(df_3)\n",
    "df_3_new.shape"
   ]
  },
  {
   "cell_type": "code",
   "execution_count": 119,
   "metadata": {},
   "outputs": [
    {
     "data": {
      "text/html": [
       "<div>\n",
       "<style scoped>\n",
       "    .dataframe tbody tr th:only-of-type {\n",
       "        vertical-align: middle;\n",
       "    }\n",
       "\n",
       "    .dataframe tbody tr th {\n",
       "        vertical-align: top;\n",
       "    }\n",
       "\n",
       "    .dataframe thead th {\n",
       "        text-align: right;\n",
       "    }\n",
       "</style>\n",
       "<table border=\"1\" class=\"dataframe\">\n",
       "  <thead>\n",
       "    <tr style=\"text-align: right;\">\n",
       "      <th></th>\n",
       "      <th>Item_Weight</th>\n",
       "      <th>Item_Visibility</th>\n",
       "      <th>Item_Type</th>\n",
       "      <th>Item_MRP</th>\n",
       "      <th>Item_Outlet_Sales</th>\n",
       "      <th>Outlet_Years</th>\n",
       "      <th>Item_Fat_Content_Low Fat</th>\n",
       "      <th>Item_Fat_Content_Non-Edible</th>\n",
       "      <th>Item_Fat_Content_Regular</th>\n",
       "      <th>Outlet_Size_High</th>\n",
       "      <th>...</th>\n",
       "      <th>Outlet_Location_Type_Tier 1</th>\n",
       "      <th>Outlet_Location_Type_Tier 2</th>\n",
       "      <th>Outlet_Location_Type_Tier 3</th>\n",
       "      <th>Outlet_Type_Grocery Store</th>\n",
       "      <th>Outlet_Type_Supermarket Type1</th>\n",
       "      <th>Outlet_Type_Supermarket Type2</th>\n",
       "      <th>Outlet_Type_Supermarket Type3</th>\n",
       "      <th>Item_Cat_DR</th>\n",
       "      <th>Item_Cat_FD</th>\n",
       "      <th>Item_Cat_NC</th>\n",
       "    </tr>\n",
       "  </thead>\n",
       "  <tbody>\n",
       "    <tr>\n",
       "      <td>0</td>\n",
       "      <td>19.60</td>\n",
       "      <td>0.040461</td>\n",
       "      <td>9</td>\n",
       "      <td>86.9514</td>\n",
       "      <td>7.256877</td>\n",
       "      <td>16</td>\n",
       "      <td>0</td>\n",
       "      <td>1</td>\n",
       "      <td>0</td>\n",
       "      <td>0</td>\n",
       "      <td>...</td>\n",
       "      <td>1</td>\n",
       "      <td>0</td>\n",
       "      <td>0</td>\n",
       "      <td>0</td>\n",
       "      <td>1</td>\n",
       "      <td>0</td>\n",
       "      <td>0</td>\n",
       "      <td>0</td>\n",
       "      <td>0</td>\n",
       "      <td>1</td>\n",
       "    </tr>\n",
       "    <tr>\n",
       "      <td>1</td>\n",
       "      <td>8.06</td>\n",
       "      <td>0.021050</td>\n",
       "      <td>2</td>\n",
       "      <td>229.1326</td>\n",
       "      <td>8.908430</td>\n",
       "      <td>28</td>\n",
       "      <td>1</td>\n",
       "      <td>0</td>\n",
       "      <td>0</td>\n",
       "      <td>0</td>\n",
       "      <td>...</td>\n",
       "      <td>0</td>\n",
       "      <td>0</td>\n",
       "      <td>1</td>\n",
       "      <td>0</td>\n",
       "      <td>0</td>\n",
       "      <td>0</td>\n",
       "      <td>1</td>\n",
       "      <td>0</td>\n",
       "      <td>1</td>\n",
       "      <td>0</td>\n",
       "    </tr>\n",
       "    <tr>\n",
       "      <td>2</td>\n",
       "      <td>17.35</td>\n",
       "      <td>0.027214</td>\n",
       "      <td>3</td>\n",
       "      <td>86.1856</td>\n",
       "      <td>6.556899</td>\n",
       "      <td>26</td>\n",
       "      <td>0</td>\n",
       "      <td>0</td>\n",
       "      <td>1</td>\n",
       "      <td>1</td>\n",
       "      <td>...</td>\n",
       "      <td>0</td>\n",
       "      <td>0</td>\n",
       "      <td>1</td>\n",
       "      <td>0</td>\n",
       "      <td>1</td>\n",
       "      <td>0</td>\n",
       "      <td>0</td>\n",
       "      <td>0</td>\n",
       "      <td>1</td>\n",
       "      <td>0</td>\n",
       "    </tr>\n",
       "    <tr>\n",
       "      <td>3</td>\n",
       "      <td>9.30</td>\n",
       "      <td>0.105964</td>\n",
       "      <td>5</td>\n",
       "      <td>182.3292</td>\n",
       "      <td>5.211829</td>\n",
       "      <td>15</td>\n",
       "      <td>1</td>\n",
       "      <td>0</td>\n",
       "      <td>0</td>\n",
       "      <td>0</td>\n",
       "      <td>...</td>\n",
       "      <td>0</td>\n",
       "      <td>0</td>\n",
       "      <td>1</td>\n",
       "      <td>1</td>\n",
       "      <td>0</td>\n",
       "      <td>0</td>\n",
       "      <td>0</td>\n",
       "      <td>0</td>\n",
       "      <td>1</td>\n",
       "      <td>0</td>\n",
       "    </tr>\n",
       "    <tr>\n",
       "      <td>4</td>\n",
       "      <td>6.71</td>\n",
       "      <td>0.029177</td>\n",
       "      <td>0</td>\n",
       "      <td>65.4142</td>\n",
       "      <td>7.324508</td>\n",
       "      <td>14</td>\n",
       "      <td>0</td>\n",
       "      <td>0</td>\n",
       "      <td>1</td>\n",
       "      <td>0</td>\n",
       "      <td>...</td>\n",
       "      <td>1</td>\n",
       "      <td>0</td>\n",
       "      <td>0</td>\n",
       "      <td>0</td>\n",
       "      <td>1</td>\n",
       "      <td>0</td>\n",
       "      <td>0</td>\n",
       "      <td>0</td>\n",
       "      <td>1</td>\n",
       "      <td>0</td>\n",
       "    </tr>\n",
       "  </tbody>\n",
       "</table>\n",
       "<p>5 rows × 22 columns</p>\n",
       "</div>"
      ],
      "text/plain": [
       "   Item_Weight  Item_Visibility  Item_Type  Item_MRP  Item_Outlet_Sales  \\\n",
       "0        19.60         0.040461          9   86.9514           7.256877   \n",
       "1         8.06         0.021050          2  229.1326           8.908430   \n",
       "2        17.35         0.027214          3   86.1856           6.556899   \n",
       "3         9.30         0.105964          5  182.3292           5.211829   \n",
       "4         6.71         0.029177          0   65.4142           7.324508   \n",
       "\n",
       "   Outlet_Years  Item_Fat_Content_Low Fat  Item_Fat_Content_Non-Edible  \\\n",
       "0            16                         0                            1   \n",
       "1            28                         1                            0   \n",
       "2            26                         0                            0   \n",
       "3            15                         1                            0   \n",
       "4            14                         0                            0   \n",
       "\n",
       "   Item_Fat_Content_Regular  Outlet_Size_High  ...  \\\n",
       "0                         0                 0  ...   \n",
       "1                         0                 0  ...   \n",
       "2                         1                 1  ...   \n",
       "3                         0                 0  ...   \n",
       "4                         1                 0  ...   \n",
       "\n",
       "   Outlet_Location_Type_Tier 1  Outlet_Location_Type_Tier 2  \\\n",
       "0                            1                            0   \n",
       "1                            0                            0   \n",
       "2                            0                            0   \n",
       "3                            0                            0   \n",
       "4                            1                            0   \n",
       "\n",
       "   Outlet_Location_Type_Tier 3  Outlet_Type_Grocery Store  \\\n",
       "0                            0                          0   \n",
       "1                            1                          0   \n",
       "2                            1                          0   \n",
       "3                            1                          1   \n",
       "4                            0                          0   \n",
       "\n",
       "   Outlet_Type_Supermarket Type1  Outlet_Type_Supermarket Type2  \\\n",
       "0                              1                              0   \n",
       "1                              0                              0   \n",
       "2                              1                              0   \n",
       "3                              0                              0   \n",
       "4                              1                              0   \n",
       "\n",
       "   Outlet_Type_Supermarket Type3  Item_Cat_DR  Item_Cat_FD  Item_Cat_NC  \n",
       "0                              0            0            0            1  \n",
       "1                              1            0            1            0  \n",
       "2                              0            0            1            0  \n",
       "3                              0            0            1            0  \n",
       "4                              0            0            1            0  \n",
       "\n",
       "[5 rows x 22 columns]"
      ]
     },
     "execution_count": 119,
     "metadata": {},
     "output_type": "execute_result"
    }
   ],
   "source": [
    "df_3_new.head()"
   ]
  },
  {
   "cell_type": "code",
   "execution_count": 120,
   "metadata": {},
   "outputs": [],
   "source": [
    "df_3_X=df_3_new[['Outlet_Type_Grocery Store', 'Item_MRP', 'Item_Visibility','Item_Type','Outlet_Years','Item_Weight' ]]\n",
    "df_3_Y= df_3_new['Item_Outlet_Sales']"
   ]
  },
  {
   "cell_type": "markdown",
   "metadata": {},
   "source": [
    "## Model retraining phase 4"
   ]
  },
  {
   "cell_type": "code",
   "execution_count": 191,
   "metadata": {},
   "outputs": [
    {
     "name": "stdout",
     "output_type": "stream",
     "text": [
      "Model Report\n",
      "MSE: 0.04000993334932515\n"
     ]
    }
   ],
   "source": [
    "train(model, df_3_X, df_3_Y)  #retraining\n",
    "\n",
    "pred = model.predict(df_3_X)\n",
    "    \n",
    "print(\"Model Report\")\n",
    "print(\"MSE:\",mean_squared_error(df_3_Y,pred))     "
   ]
  },
  {
   "cell_type": "code",
   "execution_count": 194,
   "metadata": {},
   "outputs": [],
   "source": [
    "# save the model to disk  => forth retraining\n",
    "\n",
    "filename_4 = 'model_4.sav'\n",
    "pickle.dump(model, open(filename_4, 'wb'))"
   ]
  },
  {
   "cell_type": "code",
   "execution_count": 196,
   "metadata": {},
   "outputs": [
    {
     "data": {
      "text/plain": [
       "0.30431871631398544"
      ]
     },
     "execution_count": 196,
     "metadata": {},
     "output_type": "execute_result"
    }
   ],
   "source": [
    "#predicting on unforeseen\n",
    "\n",
    "loaded_model_4 = pickle.load(open(filename_4, 'rb'))\n",
    "pred = loaded_model_4.predict(df_train_X)\n",
    "\n",
    "phase_4=mean_squared_error(df_train_Y,pred)\n",
    "phase_4\n",
    "#predicting by model version 4"
   ]
  },
  {
   "cell_type": "code",
   "execution_count": 200,
   "metadata": {},
   "outputs": [
    {
     "name": "stdout",
     "output_type": "stream",
     "text": [
      "Prediction on unforeseen after first training :  0.33001073021282434\n",
      "Prediction on unforeseen after second training :  0.31603564355673247\n",
      "Prediction on unforeseen after third training :  0.31032012479353444\n",
      "Prediction on unforeseen after forth training :  0.30431871631398544\n"
     ]
    }
   ],
   "source": [
    "print(\"Prediction on unforeseen after first training : \",phase_1)\n",
    "print(\"Prediction on unforeseen after second training : \",phase_2)\n",
    "print(\"Prediction on unforeseen after third training : \",phase_3)\n",
    "print(\"Prediction on unforeseen after forth training : \",phase_4)"
   ]
  },
  {
   "cell_type": "markdown",
   "metadata": {},
   "source": [
    "## Conclusion : After every model retraining, the prediction on unforeseen data file is improved "
   ]
  },
  {
   "cell_type": "code",
   "execution_count": null,
   "metadata": {},
   "outputs": [],
   "source": []
  }
 ],
 "metadata": {
  "kernelspec": {
   "display_name": "Python 3",
   "language": "python",
   "name": "python3"
  },
  "language_info": {
   "codemirror_mode": {
    "name": "ipython",
    "version": 3
   },
   "file_extension": ".py",
   "mimetype": "text/x-python",
   "name": "python",
   "nbconvert_exporter": "python",
   "pygments_lexer": "ipython3",
   "version": "3.7.4"
  }
 },
 "nbformat": 4,
 "nbformat_minor": 2
}
