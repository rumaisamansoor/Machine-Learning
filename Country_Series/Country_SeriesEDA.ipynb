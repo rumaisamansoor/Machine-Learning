{
 "cells": [
  {
   "cell_type": "code",
   "execution_count": 4,
   "metadata": {
    "colab": {},
    "colab_type": "code",
    "id": "HRuqsH3k37x8"
   },
   "outputs": [],
   "source": [
    "import pandas as pd               #importing all important libraries\n",
    "import matplotlib.pyplot as plt\n",
    "import seaborn as sns\n",
    "import numpy as np\n",
    "pd.options.mode.chained_assignment = None  # default='warn'"
   ]
  },
  {
   "cell_type": "code",
   "execution_count": 5,
   "metadata": {
    "colab": {
     "base_uri": "https://localhost:8080/",
     "height": 173
    },
    "colab_type": "code",
    "id": "ltz8Qwso4Rdk",
    "outputId": "5f1366f8-0681-49d9-f5fb-1f081acd7091"
   },
   "outputs": [
    {
     "data": {
      "text/html": [
       "<div>\n",
       "<style scoped>\n",
       "    .dataframe tbody tr th:only-of-type {\n",
       "        vertical-align: middle;\n",
       "    }\n",
       "\n",
       "    .dataframe tbody tr th {\n",
       "        vertical-align: top;\n",
       "    }\n",
       "\n",
       "    .dataframe thead th {\n",
       "        text-align: right;\n",
       "    }\n",
       "</style>\n",
       "<table border=\"1\" class=\"dataframe\">\n",
       "  <thead>\n",
       "    <tr style=\"text-align: right;\">\n",
       "      <th></th>\n",
       "      <th>Country Name</th>\n",
       "      <th>Country Code</th>\n",
       "      <th>Series Name</th>\n",
       "      <th>Series Code</th>\n",
       "      <th>2005 [YR2005]</th>\n",
       "      <th>2006 [YR2006]</th>\n",
       "      <th>2007 [YR2007]</th>\n",
       "      <th>2008 [YR2008]</th>\n",
       "      <th>2009 [YR2009]</th>\n",
       "      <th>2010 [YR2010]</th>\n",
       "      <th>2011 [YR2011]</th>\n",
       "      <th>2012 [YR2012]</th>\n",
       "      <th>2013 [YR2013]</th>\n",
       "      <th>2014 [YR2014]</th>\n",
       "      <th>2015 [YR2015]</th>\n",
       "      <th>2016 [YR2016]</th>\n",
       "      <th>2017 [YR2017]</th>\n",
       "      <th>2018 [YR2018]</th>\n",
       "      <th>2019 [YR2019]</th>\n",
       "    </tr>\n",
       "  </thead>\n",
       "  <tbody>\n",
       "    <tr>\n",
       "      <td>0</td>\n",
       "      <td>Afghanistan</td>\n",
       "      <td>AFG</td>\n",
       "      <td>A woman can apply for a passport in the same w...</td>\n",
       "      <td>SG.APL.PSPT.EQ</td>\n",
       "      <td>0</td>\n",
       "      <td>0</td>\n",
       "      <td>0</td>\n",
       "      <td>0</td>\n",
       "      <td>0</td>\n",
       "      <td>0</td>\n",
       "      <td>0</td>\n",
       "      <td>0</td>\n",
       "      <td>0</td>\n",
       "      <td>0</td>\n",
       "      <td>0</td>\n",
       "      <td>1</td>\n",
       "      <td>1</td>\n",
       "      <td>1</td>\n",
       "      <td>1</td>\n",
       "    </tr>\n",
       "    <tr>\n",
       "      <td>1</td>\n",
       "      <td>Afghanistan</td>\n",
       "      <td>AFG</td>\n",
       "      <td>A woman can be head of household in the same w...</td>\n",
       "      <td>SG.HLD.HEAD.EQ</td>\n",
       "      <td>1</td>\n",
       "      <td>1</td>\n",
       "      <td>1</td>\n",
       "      <td>1</td>\n",
       "      <td>1</td>\n",
       "      <td>1</td>\n",
       "      <td>1</td>\n",
       "      <td>1</td>\n",
       "      <td>1</td>\n",
       "      <td>1</td>\n",
       "      <td>1</td>\n",
       "      <td>1</td>\n",
       "      <td>1</td>\n",
       "      <td>1</td>\n",
       "      <td>1</td>\n",
       "    </tr>\n",
       "    <tr>\n",
       "      <td>2</td>\n",
       "      <td>Afghanistan</td>\n",
       "      <td>AFG</td>\n",
       "      <td>A woman can choose where to live in the same w...</td>\n",
       "      <td>SG.LOC.LIVE.EQ</td>\n",
       "      <td>0</td>\n",
       "      <td>0</td>\n",
       "      <td>0</td>\n",
       "      <td>0</td>\n",
       "      <td>0</td>\n",
       "      <td>0</td>\n",
       "      <td>0</td>\n",
       "      <td>0</td>\n",
       "      <td>0</td>\n",
       "      <td>0</td>\n",
       "      <td>0</td>\n",
       "      <td>0</td>\n",
       "      <td>0</td>\n",
       "      <td>0</td>\n",
       "      <td>0</td>\n",
       "    </tr>\n",
       "    <tr>\n",
       "      <td>3</td>\n",
       "      <td>Afghanistan</td>\n",
       "      <td>AFG</td>\n",
       "      <td>A woman can get a job in the same way as a man...</td>\n",
       "      <td>SG.GET.JOBS.EQ</td>\n",
       "      <td>1</td>\n",
       "      <td>1</td>\n",
       "      <td>1</td>\n",
       "      <td>1</td>\n",
       "      <td>1</td>\n",
       "      <td>1</td>\n",
       "      <td>1</td>\n",
       "      <td>1</td>\n",
       "      <td>1</td>\n",
       "      <td>1</td>\n",
       "      <td>1</td>\n",
       "      <td>1</td>\n",
       "      <td>1</td>\n",
       "      <td>1</td>\n",
       "      <td>1</td>\n",
       "    </tr>\n",
       "    <tr>\n",
       "      <td>4</td>\n",
       "      <td>Afghanistan</td>\n",
       "      <td>AFG</td>\n",
       "      <td>A woman can obtain a judgment of divorce in th...</td>\n",
       "      <td>SG.OBT.DVRC.EQ</td>\n",
       "      <td>0</td>\n",
       "      <td>0</td>\n",
       "      <td>0</td>\n",
       "      <td>0</td>\n",
       "      <td>0</td>\n",
       "      <td>0</td>\n",
       "      <td>0</td>\n",
       "      <td>0</td>\n",
       "      <td>0</td>\n",
       "      <td>0</td>\n",
       "      <td>0</td>\n",
       "      <td>0</td>\n",
       "      <td>0</td>\n",
       "      <td>0</td>\n",
       "      <td>0</td>\n",
       "    </tr>\n",
       "  </tbody>\n",
       "</table>\n",
       "</div>"
      ],
      "text/plain": [
       "  Country Name Country Code  \\\n",
       "0  Afghanistan          AFG   \n",
       "1  Afghanistan          AFG   \n",
       "2  Afghanistan          AFG   \n",
       "3  Afghanistan          AFG   \n",
       "4  Afghanistan          AFG   \n",
       "\n",
       "                                         Series Name     Series Code  \\\n",
       "0  A woman can apply for a passport in the same w...  SG.APL.PSPT.EQ   \n",
       "1  A woman can be head of household in the same w...  SG.HLD.HEAD.EQ   \n",
       "2  A woman can choose where to live in the same w...  SG.LOC.LIVE.EQ   \n",
       "3  A woman can get a job in the same way as a man...  SG.GET.JOBS.EQ   \n",
       "4  A woman can obtain a judgment of divorce in th...  SG.OBT.DVRC.EQ   \n",
       "\n",
       "  2005 [YR2005] 2006 [YR2006] 2007 [YR2007] 2008 [YR2008] 2009 [YR2009]  \\\n",
       "0             0             0             0             0             0   \n",
       "1             1             1             1             1             1   \n",
       "2             0             0             0             0             0   \n",
       "3             1             1             1             1             1   \n",
       "4             0             0             0             0             0   \n",
       "\n",
       "  2010 [YR2010] 2011 [YR2011] 2012 [YR2012] 2013 [YR2013] 2014 [YR2014]  \\\n",
       "0             0             0             0             0             0   \n",
       "1             1             1             1             1             1   \n",
       "2             0             0             0             0             0   \n",
       "3             1             1             1             1             1   \n",
       "4             0             0             0             0             0   \n",
       "\n",
       "  2015 [YR2015] 2016 [YR2016] 2017 [YR2017] 2018 [YR2018] 2019 [YR2019]  \n",
       "0             0             1             1             1             1  \n",
       "1             1             1             1             1             1  \n",
       "2             0             0             0             0             0  \n",
       "3             1             1             1             1             1  \n",
       "4             0             0             0             0             0  "
      ]
     },
     "execution_count": 5,
     "metadata": {},
     "output_type": "execute_result"
    }
   ],
   "source": [
    "train = pd.read_csv('b7828361-bec8-4da6-9c5d-befcd063e634_Data.csv')  #printing the dataset\n",
    "train.head()"
   ]
  },
  {
   "cell_type": "markdown",
   "metadata": {
    "colab_type": "text",
    "id": "2AQN9KDP4Zds"
   },
   "source": [
    "## slicing the dataframe"
   ]
  },
  {
   "cell_type": "code",
   "execution_count": 6,
   "metadata": {
    "colab": {},
    "colab_type": "code",
    "id": "1owQBv-X4jpi"
   },
   "outputs": [],
   "source": [
    "df=train.head(n=10000)    #dealing with first 10,000 entries"
   ]
  },
  {
   "cell_type": "code",
   "execution_count": 7,
   "metadata": {
    "colab": {
     "base_uri": "https://localhost:8080/",
     "height": 364
    },
    "colab_type": "code",
    "id": "8JdGvZac4raU",
    "outputId": "410f2464-0000-47e9-83ad-1b223e4df6eb"
   },
   "outputs": [
    {
     "data": {
      "text/plain": [
       "Country Name     object\n",
       "Country Code     object\n",
       "Series Name      object\n",
       "Series Code      object\n",
       "2005 [YR2005]    object\n",
       "2006 [YR2006]    object\n",
       "2007 [YR2007]    object\n",
       "2008 [YR2008]    object\n",
       "2009 [YR2009]    object\n",
       "2010 [YR2010]    object\n",
       "2011 [YR2011]    object\n",
       "2012 [YR2012]    object\n",
       "2013 [YR2013]    object\n",
       "2014 [YR2014]    object\n",
       "2015 [YR2015]    object\n",
       "2016 [YR2016]    object\n",
       "2017 [YR2017]    object\n",
       "2018 [YR2018]    object\n",
       "2019 [YR2019]    object\n",
       "dtype: object"
      ]
     },
     "execution_count": 7,
     "metadata": {},
     "output_type": "execute_result"
    }
   ],
   "source": [
    "df.dtypes      #to check datatype of each column."
   ]
  },
  {
   "cell_type": "code",
   "execution_count": 8,
   "metadata": {
    "colab": {
     "base_uri": "https://localhost:8080/",
     "height": 35
    },
    "colab_type": "code",
    "id": "HgI3TvfQ4xH0",
    "outputId": "e5198ff1-3f46-498d-a531-65993436be9e"
   },
   "outputs": [
    {
     "data": {
      "text/plain": [
       "(10000, 19)"
      ]
     },
     "execution_count": 8,
     "metadata": {},
     "output_type": "execute_result"
    }
   ],
   "source": [
    "df.shape"
   ]
  },
  {
   "cell_type": "markdown",
   "metadata": {
    "colab_type": "text",
    "id": "z2NX82Y95fo0"
   },
   "source": [
    "## NAn handling"
   ]
  },
  {
   "cell_type": "code",
   "execution_count": 9,
   "metadata": {
    "colab": {
     "base_uri": "https://localhost:8080/",
     "height": 1000
    },
    "colab_type": "code",
    "id": "vNYsTNbx5TK8",
    "outputId": "ddecd8fc-3552-4d94-e479-503043b6dfa5"
   },
   "outputs": [
    {
     "data": {
      "text/html": [
       "<div>\n",
       "<style scoped>\n",
       "    .dataframe tbody tr th:only-of-type {\n",
       "        vertical-align: middle;\n",
       "    }\n",
       "\n",
       "    .dataframe tbody tr th {\n",
       "        vertical-align: top;\n",
       "    }\n",
       "\n",
       "    .dataframe thead th {\n",
       "        text-align: right;\n",
       "    }\n",
       "</style>\n",
       "<table border=\"1\" class=\"dataframe\">\n",
       "  <thead>\n",
       "    <tr style=\"text-align: right;\">\n",
       "      <th></th>\n",
       "      <th>Country Name</th>\n",
       "      <th>Country Code</th>\n",
       "      <th>Series Name</th>\n",
       "      <th>Series Code</th>\n",
       "      <th>2005 [YR2005]</th>\n",
       "      <th>2006 [YR2006]</th>\n",
       "      <th>2007 [YR2007]</th>\n",
       "      <th>2008 [YR2008]</th>\n",
       "      <th>2009 [YR2009]</th>\n",
       "      <th>2010 [YR2010]</th>\n",
       "      <th>2011 [YR2011]</th>\n",
       "      <th>2012 [YR2012]</th>\n",
       "      <th>2013 [YR2013]</th>\n",
       "      <th>2014 [YR2014]</th>\n",
       "      <th>2015 [YR2015]</th>\n",
       "      <th>2016 [YR2016]</th>\n",
       "      <th>2017 [YR2017]</th>\n",
       "      <th>2018 [YR2018]</th>\n",
       "      <th>2019 [YR2019]</th>\n",
       "    </tr>\n",
       "  </thead>\n",
       "  <tbody>\n",
       "    <tr>\n",
       "      <td>0</td>\n",
       "      <td>Afghanistan</td>\n",
       "      <td>AFG</td>\n",
       "      <td>A woman can apply for a passport in the same w...</td>\n",
       "      <td>SG.APL.PSPT.EQ</td>\n",
       "      <td>0</td>\n",
       "      <td>0</td>\n",
       "      <td>0</td>\n",
       "      <td>0</td>\n",
       "      <td>0</td>\n",
       "      <td>0</td>\n",
       "      <td>0</td>\n",
       "      <td>0</td>\n",
       "      <td>0</td>\n",
       "      <td>0</td>\n",
       "      <td>0</td>\n",
       "      <td>1</td>\n",
       "      <td>1</td>\n",
       "      <td>1</td>\n",
       "      <td>1</td>\n",
       "    </tr>\n",
       "    <tr>\n",
       "      <td>1</td>\n",
       "      <td>Afghanistan</td>\n",
       "      <td>AFG</td>\n",
       "      <td>A woman can be head of household in the same w...</td>\n",
       "      <td>SG.HLD.HEAD.EQ</td>\n",
       "      <td>1</td>\n",
       "      <td>1</td>\n",
       "      <td>1</td>\n",
       "      <td>1</td>\n",
       "      <td>1</td>\n",
       "      <td>1</td>\n",
       "      <td>1</td>\n",
       "      <td>1</td>\n",
       "      <td>1</td>\n",
       "      <td>1</td>\n",
       "      <td>1</td>\n",
       "      <td>1</td>\n",
       "      <td>1</td>\n",
       "      <td>1</td>\n",
       "      <td>1</td>\n",
       "    </tr>\n",
       "    <tr>\n",
       "      <td>2</td>\n",
       "      <td>Afghanistan</td>\n",
       "      <td>AFG</td>\n",
       "      <td>A woman can choose where to live in the same w...</td>\n",
       "      <td>SG.LOC.LIVE.EQ</td>\n",
       "      <td>0</td>\n",
       "      <td>0</td>\n",
       "      <td>0</td>\n",
       "      <td>0</td>\n",
       "      <td>0</td>\n",
       "      <td>0</td>\n",
       "      <td>0</td>\n",
       "      <td>0</td>\n",
       "      <td>0</td>\n",
       "      <td>0</td>\n",
       "      <td>0</td>\n",
       "      <td>0</td>\n",
       "      <td>0</td>\n",
       "      <td>0</td>\n",
       "      <td>0</td>\n",
       "    </tr>\n",
       "    <tr>\n",
       "      <td>3</td>\n",
       "      <td>Afghanistan</td>\n",
       "      <td>AFG</td>\n",
       "      <td>A woman can get a job in the same way as a man...</td>\n",
       "      <td>SG.GET.JOBS.EQ</td>\n",
       "      <td>1</td>\n",
       "      <td>1</td>\n",
       "      <td>1</td>\n",
       "      <td>1</td>\n",
       "      <td>1</td>\n",
       "      <td>1</td>\n",
       "      <td>1</td>\n",
       "      <td>1</td>\n",
       "      <td>1</td>\n",
       "      <td>1</td>\n",
       "      <td>1</td>\n",
       "      <td>1</td>\n",
       "      <td>1</td>\n",
       "      <td>1</td>\n",
       "      <td>1</td>\n",
       "    </tr>\n",
       "    <tr>\n",
       "      <td>4</td>\n",
       "      <td>Afghanistan</td>\n",
       "      <td>AFG</td>\n",
       "      <td>A woman can obtain a judgment of divorce in th...</td>\n",
       "      <td>SG.OBT.DVRC.EQ</td>\n",
       "      <td>0</td>\n",
       "      <td>0</td>\n",
       "      <td>0</td>\n",
       "      <td>0</td>\n",
       "      <td>0</td>\n",
       "      <td>0</td>\n",
       "      <td>0</td>\n",
       "      <td>0</td>\n",
       "      <td>0</td>\n",
       "      <td>0</td>\n",
       "      <td>0</td>\n",
       "      <td>0</td>\n",
       "      <td>0</td>\n",
       "      <td>0</td>\n",
       "      <td>0</td>\n",
       "    </tr>\n",
       "    <tr>\n",
       "      <td>5</td>\n",
       "      <td>Afghanistan</td>\n",
       "      <td>AFG</td>\n",
       "      <td>A woman can open a bank account in the same wa...</td>\n",
       "      <td>SG.OPN.BANK.EQ</td>\n",
       "      <td>1</td>\n",
       "      <td>1</td>\n",
       "      <td>1</td>\n",
       "      <td>1</td>\n",
       "      <td>1</td>\n",
       "      <td>1</td>\n",
       "      <td>1</td>\n",
       "      <td>1</td>\n",
       "      <td>1</td>\n",
       "      <td>1</td>\n",
       "      <td>1</td>\n",
       "      <td>1</td>\n",
       "      <td>1</td>\n",
       "      <td>1</td>\n",
       "      <td>1</td>\n",
       "    </tr>\n",
       "    <tr>\n",
       "      <td>6</td>\n",
       "      <td>Afghanistan</td>\n",
       "      <td>AFG</td>\n",
       "      <td>A woman can register a business in the same wa...</td>\n",
       "      <td>SG.BUS.REGT.EQ</td>\n",
       "      <td>1</td>\n",
       "      <td>1</td>\n",
       "      <td>1</td>\n",
       "      <td>1</td>\n",
       "      <td>1</td>\n",
       "      <td>1</td>\n",
       "      <td>1</td>\n",
       "      <td>1</td>\n",
       "      <td>1</td>\n",
       "      <td>1</td>\n",
       "      <td>1</td>\n",
       "      <td>1</td>\n",
       "      <td>1</td>\n",
       "      <td>1</td>\n",
       "      <td>1</td>\n",
       "    </tr>\n",
       "    <tr>\n",
       "      <td>7</td>\n",
       "      <td>Afghanistan</td>\n",
       "      <td>AFG</td>\n",
       "      <td>A woman can sign a contract in the same way as...</td>\n",
       "      <td>SG.CNT.SIGN.EQ</td>\n",
       "      <td>1</td>\n",
       "      <td>1</td>\n",
       "      <td>1</td>\n",
       "      <td>1</td>\n",
       "      <td>1</td>\n",
       "      <td>1</td>\n",
       "      <td>1</td>\n",
       "      <td>1</td>\n",
       "      <td>1</td>\n",
       "      <td>1</td>\n",
       "      <td>1</td>\n",
       "      <td>1</td>\n",
       "      <td>1</td>\n",
       "      <td>1</td>\n",
       "      <td>1</td>\n",
       "    </tr>\n",
       "    <tr>\n",
       "      <td>8</td>\n",
       "      <td>Afghanistan</td>\n",
       "      <td>AFG</td>\n",
       "      <td>A woman can travel outside her home in the sam...</td>\n",
       "      <td>SG.HME.TRVL.EQ</td>\n",
       "      <td>0</td>\n",
       "      <td>0</td>\n",
       "      <td>0</td>\n",
       "      <td>0</td>\n",
       "      <td>0</td>\n",
       "      <td>0</td>\n",
       "      <td>0</td>\n",
       "      <td>0</td>\n",
       "      <td>0</td>\n",
       "      <td>0</td>\n",
       "      <td>0</td>\n",
       "      <td>0</td>\n",
       "      <td>0</td>\n",
       "      <td>0</td>\n",
       "      <td>0</td>\n",
       "    </tr>\n",
       "    <tr>\n",
       "      <td>9</td>\n",
       "      <td>Afghanistan</td>\n",
       "      <td>AFG</td>\n",
       "      <td>A woman can travel outside the country in the ...</td>\n",
       "      <td>SG.CTR.TRVL.EQ</td>\n",
       "      <td>1</td>\n",
       "      <td>1</td>\n",
       "      <td>1</td>\n",
       "      <td>1</td>\n",
       "      <td>1</td>\n",
       "      <td>1</td>\n",
       "      <td>1</td>\n",
       "      <td>1</td>\n",
       "      <td>1</td>\n",
       "      <td>1</td>\n",
       "      <td>1</td>\n",
       "      <td>1</td>\n",
       "      <td>1</td>\n",
       "      <td>1</td>\n",
       "      <td>1</td>\n",
       "    </tr>\n",
       "    <tr>\n",
       "      <td>10</td>\n",
       "      <td>Afghanistan</td>\n",
       "      <td>AFG</td>\n",
       "      <td>A woman has the same rights to remarry as a ma...</td>\n",
       "      <td>SG.REM.RIGT.EQ</td>\n",
       "      <td>0</td>\n",
       "      <td>0</td>\n",
       "      <td>0</td>\n",
       "      <td>0</td>\n",
       "      <td>0</td>\n",
       "      <td>0</td>\n",
       "      <td>0</td>\n",
       "      <td>0</td>\n",
       "      <td>0</td>\n",
       "      <td>0</td>\n",
       "      <td>0</td>\n",
       "      <td>0</td>\n",
       "      <td>0</td>\n",
       "      <td>0</td>\n",
       "      <td>0</td>\n",
       "    </tr>\n",
       "    <tr>\n",
       "      <td>11</td>\n",
       "      <td>Afghanistan</td>\n",
       "      <td>AFG</td>\n",
       "      <td>Access to anti-retroviral drugs, female (%)</td>\n",
       "      <td>SH.HIV.ARTC.FE.ZS</td>\n",
       "      <td>NaN</td>\n",
       "      <td>NaN</td>\n",
       "      <td>NaN</td>\n",
       "      <td>NaN</td>\n",
       "      <td>NaN</td>\n",
       "      <td>NaN</td>\n",
       "      <td>NaN</td>\n",
       "      <td>NaN</td>\n",
       "      <td>NaN</td>\n",
       "      <td>NaN</td>\n",
       "      <td>NaN</td>\n",
       "      <td>NaN</td>\n",
       "      <td>NaN</td>\n",
       "      <td>NaN</td>\n",
       "      <td>NaN</td>\n",
       "    </tr>\n",
       "  </tbody>\n",
       "</table>\n",
       "</div>"
      ],
      "text/plain": [
       "   Country Name Country Code  \\\n",
       "0   Afghanistan          AFG   \n",
       "1   Afghanistan          AFG   \n",
       "2   Afghanistan          AFG   \n",
       "3   Afghanistan          AFG   \n",
       "4   Afghanistan          AFG   \n",
       "5   Afghanistan          AFG   \n",
       "6   Afghanistan          AFG   \n",
       "7   Afghanistan          AFG   \n",
       "8   Afghanistan          AFG   \n",
       "9   Afghanistan          AFG   \n",
       "10  Afghanistan          AFG   \n",
       "11  Afghanistan          AFG   \n",
       "\n",
       "                                          Series Name        Series Code  \\\n",
       "0   A woman can apply for a passport in the same w...     SG.APL.PSPT.EQ   \n",
       "1   A woman can be head of household in the same w...     SG.HLD.HEAD.EQ   \n",
       "2   A woman can choose where to live in the same w...     SG.LOC.LIVE.EQ   \n",
       "3   A woman can get a job in the same way as a man...     SG.GET.JOBS.EQ   \n",
       "4   A woman can obtain a judgment of divorce in th...     SG.OBT.DVRC.EQ   \n",
       "5   A woman can open a bank account in the same wa...     SG.OPN.BANK.EQ   \n",
       "6   A woman can register a business in the same wa...     SG.BUS.REGT.EQ   \n",
       "7   A woman can sign a contract in the same way as...     SG.CNT.SIGN.EQ   \n",
       "8   A woman can travel outside her home in the sam...     SG.HME.TRVL.EQ   \n",
       "9   A woman can travel outside the country in the ...     SG.CTR.TRVL.EQ   \n",
       "10  A woman has the same rights to remarry as a ma...     SG.REM.RIGT.EQ   \n",
       "11        Access to anti-retroviral drugs, female (%)  SH.HIV.ARTC.FE.ZS   \n",
       "\n",
       "   2005 [YR2005] 2006 [YR2006] 2007 [YR2007] 2008 [YR2008] 2009 [YR2009]  \\\n",
       "0              0             0             0             0             0   \n",
       "1              1             1             1             1             1   \n",
       "2              0             0             0             0             0   \n",
       "3              1             1             1             1             1   \n",
       "4              0             0             0             0             0   \n",
       "5              1             1             1             1             1   \n",
       "6              1             1             1             1             1   \n",
       "7              1             1             1             1             1   \n",
       "8              0             0             0             0             0   \n",
       "9              1             1             1             1             1   \n",
       "10             0             0             0             0             0   \n",
       "11           NaN           NaN           NaN           NaN           NaN   \n",
       "\n",
       "   2010 [YR2010] 2011 [YR2011] 2012 [YR2012] 2013 [YR2013] 2014 [YR2014]  \\\n",
       "0              0             0             0             0             0   \n",
       "1              1             1             1             1             1   \n",
       "2              0             0             0             0             0   \n",
       "3              1             1             1             1             1   \n",
       "4              0             0             0             0             0   \n",
       "5              1             1             1             1             1   \n",
       "6              1             1             1             1             1   \n",
       "7              1             1             1             1             1   \n",
       "8              0             0             0             0             0   \n",
       "9              1             1             1             1             1   \n",
       "10             0             0             0             0             0   \n",
       "11           NaN           NaN           NaN           NaN           NaN   \n",
       "\n",
       "   2015 [YR2015] 2016 [YR2016] 2017 [YR2017] 2018 [YR2018] 2019 [YR2019]  \n",
       "0              0             1             1             1             1  \n",
       "1              1             1             1             1             1  \n",
       "2              0             0             0             0             0  \n",
       "3              1             1             1             1             1  \n",
       "4              0             0             0             0             0  \n",
       "5              1             1             1             1             1  \n",
       "6              1             1             1             1             1  \n",
       "7              1             1             1             1             1  \n",
       "8              0             0             0             0             0  \n",
       "9              1             1             1             1             1  \n",
       "10             0             0             0             0             0  \n",
       "11           NaN           NaN           NaN           NaN           NaN  "
      ]
     },
     "execution_count": 9,
     "metadata": {},
     "output_type": "execute_result"
    }
   ],
   "source": [
    "df=df.replace(to_replace=\"..\",value=np.nan)     # all .. values are converted to Nan as to check the count of missing values.\n",
    "df.head(n=12)"
   ]
  },
  {
   "cell_type": "code",
   "execution_count": 10,
   "metadata": {
    "colab": {
     "base_uri": "https://localhost:8080/",
     "height": 35
    },
    "colab_type": "code",
    "id": "zqmqhBVQ5buA",
    "outputId": "619fb4e9-5b32-494e-ba5b-7abf16bcda54"
   },
   "outputs": [
    {
     "data": {
      "text/plain": [
       "0"
      ]
     },
     "execution_count": 10,
     "metadata": {},
     "output_type": "execute_result"
    }
   ],
   "source": [
    "#checking if there is any repeated rows in dataframe\n",
    "a=df.duplicated()\n",
    "a[a==True].count() #0 returns that there are no repeated rows."
   ]
  },
  {
   "cell_type": "code",
   "execution_count": 11,
   "metadata": {
    "colab": {
     "base_uri": "https://localhost:8080/",
     "height": 86
    },
    "colab_type": "code",
    "id": "zKwRz-5F53wV",
    "outputId": "75b625d4-ca5b-4566-8ec3-66e6e0b4eb88"
   },
   "outputs": [
    {
     "data": {
      "text/html": [
       "<div>\n",
       "<style scoped>\n",
       "    .dataframe tbody tr th:only-of-type {\n",
       "        vertical-align: middle;\n",
       "    }\n",
       "\n",
       "    .dataframe tbody tr th {\n",
       "        vertical-align: top;\n",
       "    }\n",
       "\n",
       "    .dataframe thead th {\n",
       "        text-align: right;\n",
       "    }\n",
       "</style>\n",
       "<table border=\"1\" class=\"dataframe\">\n",
       "  <thead>\n",
       "    <tr style=\"text-align: right;\">\n",
       "      <th></th>\n",
       "      <th>Country Name</th>\n",
       "      <th>Country Code</th>\n",
       "      <th>Series Name</th>\n",
       "      <th>Series Code</th>\n",
       "      <th>2005 [YR2005]</th>\n",
       "      <th>2006 [YR2006]</th>\n",
       "      <th>2007 [YR2007]</th>\n",
       "      <th>2008 [YR2008]</th>\n",
       "      <th>2009 [YR2009]</th>\n",
       "      <th>2010 [YR2010]</th>\n",
       "      <th>2011 [YR2011]</th>\n",
       "      <th>2012 [YR2012]</th>\n",
       "      <th>2013 [YR2013]</th>\n",
       "      <th>2014 [YR2014]</th>\n",
       "      <th>2015 [YR2015]</th>\n",
       "      <th>2016 [YR2016]</th>\n",
       "      <th>2017 [YR2017]</th>\n",
       "      <th>2018 [YR2018]</th>\n",
       "      <th>2019 [YR2019]</th>\n",
       "    </tr>\n",
       "  </thead>\n",
       "  <tbody>\n",
       "  </tbody>\n",
       "</table>\n",
       "</div>"
      ],
      "text/plain": [
       "Empty DataFrame\n",
       "Columns: [Country Name, Country Code, Series Name, Series Code, 2005 [YR2005], 2006 [YR2006], 2007 [YR2007], 2008 [YR2008], 2009 [YR2009], 2010 [YR2010], 2011 [YR2011], 2012 [YR2012], 2013 [YR2013], 2014 [YR2014], 2015 [YR2015], 2016 [YR2016], 2017 [YR2017], 2018 [YR2018], 2019 [YR2019]]\n",
       "Index: []"
      ]
     },
     "execution_count": 11,
     "metadata": {},
     "output_type": "execute_result"
    }
   ],
   "source": [
    "duplicate_rows = df[df.duplicated()]\n",
    "duplicate_rows        #empty dataframe => means no repeated row."
   ]
  },
  {
   "cell_type": "code",
   "execution_count": 12,
   "metadata": {
    "colab": {
     "base_uri": "https://localhost:8080/",
     "height": 390
    },
    "colab_type": "code",
    "id": "QKMTXGPH56Y5",
    "outputId": "76faf3b4-5f68-4ef7-b5a1-0515224c260c"
   },
   "outputs": [
    {
     "data": {
      "image/png": "[encoded data removed]",
      "text/plain": [
       "<Figure size 1080x432 with 1 Axes>"
      ]
     },
     "metadata": {
      "needs_background": "light"
     },
     "output_type": "display_data"
    }
   ],
   "source": [
    "#as we have total of 10,000 entries, we can take the return count as percentage.\n",
    "\n",
    "missing_data=df.isnull().sum()\n",
    "missing_data[missing_data>0].\\\n",
    "sort_values(ascending=True).\\\n",
    "plot(kind='barh',figsize=(15,6))\n",
    "plt.title('Percentage of missing value')\n",
    "plt.show()      #2019 has around 85% of data missing. => dropping this column."
   ]
  },
  {
   "cell_type": "code",
   "execution_count": 13,
   "metadata": {
    "colab": {
     "base_uri": "https://localhost:8080/",
     "height": 35
    },
    "colab_type": "code",
    "id": "ZFhSx17c5_0-",
    "outputId": "f58ea49e-4370-4c33-9155-66af0b7ef29a"
   },
   "outputs": [
    {
     "data": {
      "text/plain": [
       "(10000, 16)"
      ]
     },
     "execution_count": 13,
     "metadata": {},
     "output_type": "execute_result"
    }
   ],
   "source": [
    "#2019 and other non relevent features are deleted from the dataframe to make my df clean \n",
    "\n",
    "df.drop(['Country Code', 'Series Code','2019 [YR2019]'], axis = 1, inplace = True) \n",
    "df.shape"
   ]
  },
  {
   "cell_type": "code",
   "execution_count": 14,
   "metadata": {
    "colab": {
     "base_uri": "https://localhost:8080/",
     "height": 110
    },
    "colab_type": "code",
    "id": "2mD9W9ouioKQ",
    "outputId": "789d3dc4-c9a7-4dd9-85b9-93a80ff62a3c"
   },
   "outputs": [
    {
     "data": {
      "text/html": [
       "<div>\n",
       "<style scoped>\n",
       "    .dataframe tbody tr th:only-of-type {\n",
       "        vertical-align: middle;\n",
       "    }\n",
       "\n",
       "    .dataframe tbody tr th {\n",
       "        vertical-align: top;\n",
       "    }\n",
       "\n",
       "    .dataframe thead th {\n",
       "        text-align: right;\n",
       "    }\n",
       "</style>\n",
       "<table border=\"1\" class=\"dataframe\">\n",
       "  <thead>\n",
       "    <tr style=\"text-align: right;\">\n",
       "      <th></th>\n",
       "      <th>Country Name</th>\n",
       "      <th>Series Name</th>\n",
       "      <th>2005</th>\n",
       "      <th>2006</th>\n",
       "      <th>2007</th>\n",
       "      <th>2008</th>\n",
       "      <th>2009</th>\n",
       "      <th>2010</th>\n",
       "      <th>2011</th>\n",
       "      <th>2012</th>\n",
       "      <th>2013</th>\n",
       "      <th>2014</th>\n",
       "      <th>2015</th>\n",
       "      <th>2016</th>\n",
       "      <th>2017</th>\n",
       "      <th>2018</th>\n",
       "    </tr>\n",
       "  </thead>\n",
       "  <tbody>\n",
       "    <tr>\n",
       "      <td>0</td>\n",
       "      <td>Afghanistan</td>\n",
       "      <td>A woman can apply for a passport in the same w...</td>\n",
       "      <td>0</td>\n",
       "      <td>0</td>\n",
       "      <td>0</td>\n",
       "      <td>0</td>\n",
       "      <td>0</td>\n",
       "      <td>0</td>\n",
       "      <td>0</td>\n",
       "      <td>0</td>\n",
       "      <td>0</td>\n",
       "      <td>0</td>\n",
       "      <td>0</td>\n",
       "      <td>1</td>\n",
       "      <td>1</td>\n",
       "      <td>1</td>\n",
       "    </tr>\n",
       "    <tr>\n",
       "      <td>1</td>\n",
       "      <td>Afghanistan</td>\n",
       "      <td>A woman can be head of household in the same w...</td>\n",
       "      <td>1</td>\n",
       "      <td>1</td>\n",
       "      <td>1</td>\n",
       "      <td>1</td>\n",
       "      <td>1</td>\n",
       "      <td>1</td>\n",
       "      <td>1</td>\n",
       "      <td>1</td>\n",
       "      <td>1</td>\n",
       "      <td>1</td>\n",
       "      <td>1</td>\n",
       "      <td>1</td>\n",
       "      <td>1</td>\n",
       "      <td>1</td>\n",
       "    </tr>\n",
       "  </tbody>\n",
       "</table>\n",
       "</div>"
      ],
      "text/plain": [
       "  Country Name                                        Series Name 2005 2006  \\\n",
       "0  Afghanistan  A woman can apply for a passport in the same w...    0    0   \n",
       "1  Afghanistan  A woman can be head of household in the same w...    1    1   \n",
       "\n",
       "  2007 2008 2009 2010 2011 2012 2013 2014 2015 2016 2017 2018  \n",
       "0    0    0    0    0    0    0    0    0    0    1    1    1  \n",
       "1    1    1    1    1    1    1    1    1    1    1    1    1  "
      ]
     },
     "execution_count": 14,
     "metadata": {},
     "output_type": "execute_result"
    }
   ],
   "source": [
    "#Renaming the column names into shorter for easy access e.g 2005 [YR2005] => 2005\n",
    "\n",
    "df.rename(columns={\"2005 [YR2005]\": \"2005\" ,\n",
    "                   \"2006 [YR2006]\" : \"2006\",\n",
    "                   \"2007 [YR2007]\" : \"2007\",\n",
    "                   \"2008 [YR2008]\" : \"2008\",\n",
    "                   \"2009 [YR2009]\" : \"2009\",\n",
    "                   \"2010 [YR2010]\" : \"2010\",\n",
    "                   \"2011 [YR2011]\" : \"2011\",\n",
    "                   \"2012 [YR2012]\" : \"2012\",\n",
    "                   \"2013 [YR2013]\" : \"2013\",\n",
    "                   \"2014 [YR2014]\" : \"2014\",\n",
    "                   \"2015 [YR2015]\" : \"2015\",\n",
    "                   \"2016 [YR2016]\" : \"2016\" ,\n",
    "                   \"2017 [YR2017]\" : \"2017\",\n",
    "                   \"2018 [YR2018]\" : \"2018\",\n",
    "                  }, inplace=True)\n",
    "df.head(n=2)"
   ]
  },
  {
   "cell_type": "markdown",
   "metadata": {
    "colab_type": "text",
    "id": "6fbQvpKEi0a-"
   },
   "source": [
    "## Label Encoding"
   ]
  },
  {
   "cell_type": "code",
   "execution_count": 15,
   "metadata": {
    "colab": {
     "base_uri": "https://localhost:8080/",
     "height": 233
    },
    "colab_type": "code",
    "id": "4KTrESHyir83",
    "outputId": "2436b074-5d6c-47a3-9b2d-7035423b12a2"
   },
   "outputs": [
    {
     "data": {
      "text/html": [
       "<div>\n",
       "<style scoped>\n",
       "    .dataframe tbody tr th:only-of-type {\n",
       "        vertical-align: middle;\n",
       "    }\n",
       "\n",
       "    .dataframe tbody tr th {\n",
       "        vertical-align: top;\n",
       "    }\n",
       "\n",
       "    .dataframe thead th {\n",
       "        text-align: right;\n",
       "    }\n",
       "</style>\n",
       "<table border=\"1\" class=\"dataframe\">\n",
       "  <thead>\n",
       "    <tr style=\"text-align: right;\">\n",
       "      <th></th>\n",
       "      <th>Series Name</th>\n",
       "    </tr>\n",
       "    <tr>\n",
       "      <th>encoded nubmer</th>\n",
       "      <th></th>\n",
       "    </tr>\n",
       "  </thead>\n",
       "  <tbody>\n",
       "    <tr>\n",
       "      <td>0</td>\n",
       "      <td>A woman can apply for a passport in the same w...</td>\n",
       "    </tr>\n",
       "    <tr>\n",
       "      <td>1</td>\n",
       "      <td>A woman can be head of household in the same w...</td>\n",
       "    </tr>\n",
       "    <tr>\n",
       "      <td>2</td>\n",
       "      <td>A woman can choose where to live in the same w...</td>\n",
       "    </tr>\n",
       "    <tr>\n",
       "      <td>3</td>\n",
       "      <td>A woman can get a job in the same way as a man...</td>\n",
       "    </tr>\n",
       "    <tr>\n",
       "      <td>4</td>\n",
       "      <td>A woman can obtain a judgment of divorce in th...</td>\n",
       "    </tr>\n",
       "  </tbody>\n",
       "</table>\n",
       "</div>"
      ],
      "text/plain": [
       "                                                      Series Name\n",
       "encoded nubmer                                                   \n",
       "0               A woman can apply for a passport in the same w...\n",
       "1               A woman can be head of household in the same w...\n",
       "2               A woman can choose where to live in the same w...\n",
       "3               A woman can get a job in the same way as a man...\n",
       "4               A woman can obtain a judgment of divorce in th..."
      ]
     },
     "execution_count": 15,
     "metadata": {},
     "output_type": "execute_result"
    }
   ],
   "source": [
    "# a new dataframe dfseries_encoded is to be built to store the series and its corresponding encoded value by label encoding so that i\n",
    "# can later fetch the actual name of the encoded series.\n",
    "\n",
    "column_values = df[[\"Series Name\"]].values\n",
    "unique_series =  np.unique(column_values) \n",
    "dfseries_encoded=pd.DataFrame(unique_series)\n",
    "\n",
    "\n",
    "dfseries_encoded.head()\n",
    "from sklearn.preprocessing import LabelEncoder\n",
    "encode=LabelEncoder()\n",
    "df['Series Name']=encode.fit_transform(df['Series Name'])\n",
    "dfseries_encoded['encoded nubmer']=df['Series Name']\n",
    "dfseries_encoded.rename(columns={ 0:'Series Name'}, inplace=True)\n",
    "dfseries_encoded.set_index(\"encoded nubmer\",inplace=True)\n",
    "dfseries_encoded.head()"
   ]
  },
  {
   "cell_type": "markdown",
   "metadata": {
    "colab_type": "text",
    "id": "1TNPspV8jHkj"
   },
   "source": [
    "## Changing the index"
   ]
  },
  {
   "cell_type": "code",
   "execution_count": 16,
   "metadata": {
    "colab": {
     "base_uri": "https://localhost:8080/",
     "height": 233
    },
    "colab_type": "code",
    "id": "e_iSY0qy6Oet",
    "outputId": "9c10d20e-f32e-402e-bcd9-e7c3310b82c7"
   },
   "outputs": [
    {
     "data": {
      "text/html": [
       "<div>\n",
       "<style scoped>\n",
       "    .dataframe tbody tr th:only-of-type {\n",
       "        vertical-align: middle;\n",
       "    }\n",
       "\n",
       "    .dataframe tbody tr th {\n",
       "        vertical-align: top;\n",
       "    }\n",
       "\n",
       "    .dataframe thead th {\n",
       "        text-align: right;\n",
       "    }\n",
       "</style>\n",
       "<table border=\"1\" class=\"dataframe\">\n",
       "  <thead>\n",
       "    <tr style=\"text-align: right;\">\n",
       "      <th></th>\n",
       "      <th>Country Name</th>\n",
       "      <th>2005</th>\n",
       "      <th>2006</th>\n",
       "      <th>2007</th>\n",
       "      <th>2008</th>\n",
       "      <th>2009</th>\n",
       "      <th>2010</th>\n",
       "      <th>2011</th>\n",
       "      <th>2012</th>\n",
       "      <th>2013</th>\n",
       "      <th>2014</th>\n",
       "      <th>2015</th>\n",
       "      <th>2016</th>\n",
       "      <th>2017</th>\n",
       "      <th>2018</th>\n",
       "    </tr>\n",
       "    <tr>\n",
       "      <th>Series Name</th>\n",
       "      <th></th>\n",
       "      <th></th>\n",
       "      <th></th>\n",
       "      <th></th>\n",
       "      <th></th>\n",
       "      <th></th>\n",
       "      <th></th>\n",
       "      <th></th>\n",
       "      <th></th>\n",
       "      <th></th>\n",
       "      <th></th>\n",
       "      <th></th>\n",
       "      <th></th>\n",
       "      <th></th>\n",
       "      <th></th>\n",
       "    </tr>\n",
       "  </thead>\n",
       "  <tbody>\n",
       "    <tr>\n",
       "      <td>0</td>\n",
       "      <td>Afghanistan</td>\n",
       "      <td>0</td>\n",
       "      <td>0</td>\n",
       "      <td>0</td>\n",
       "      <td>0</td>\n",
       "      <td>0</td>\n",
       "      <td>0</td>\n",
       "      <td>0</td>\n",
       "      <td>0</td>\n",
       "      <td>0</td>\n",
       "      <td>0</td>\n",
       "      <td>0</td>\n",
       "      <td>1</td>\n",
       "      <td>1</td>\n",
       "      <td>1</td>\n",
       "    </tr>\n",
       "    <tr>\n",
       "      <td>1</td>\n",
       "      <td>Afghanistan</td>\n",
       "      <td>1</td>\n",
       "      <td>1</td>\n",
       "      <td>1</td>\n",
       "      <td>1</td>\n",
       "      <td>1</td>\n",
       "      <td>1</td>\n",
       "      <td>1</td>\n",
       "      <td>1</td>\n",
       "      <td>1</td>\n",
       "      <td>1</td>\n",
       "      <td>1</td>\n",
       "      <td>1</td>\n",
       "      <td>1</td>\n",
       "      <td>1</td>\n",
       "    </tr>\n",
       "    <tr>\n",
       "      <td>2</td>\n",
       "      <td>Afghanistan</td>\n",
       "      <td>0</td>\n",
       "      <td>0</td>\n",
       "      <td>0</td>\n",
       "      <td>0</td>\n",
       "      <td>0</td>\n",
       "      <td>0</td>\n",
       "      <td>0</td>\n",
       "      <td>0</td>\n",
       "      <td>0</td>\n",
       "      <td>0</td>\n",
       "      <td>0</td>\n",
       "      <td>0</td>\n",
       "      <td>0</td>\n",
       "      <td>0</td>\n",
       "    </tr>\n",
       "    <tr>\n",
       "      <td>3</td>\n",
       "      <td>Afghanistan</td>\n",
       "      <td>1</td>\n",
       "      <td>1</td>\n",
       "      <td>1</td>\n",
       "      <td>1</td>\n",
       "      <td>1</td>\n",
       "      <td>1</td>\n",
       "      <td>1</td>\n",
       "      <td>1</td>\n",
       "      <td>1</td>\n",
       "      <td>1</td>\n",
       "      <td>1</td>\n",
       "      <td>1</td>\n",
       "      <td>1</td>\n",
       "      <td>1</td>\n",
       "    </tr>\n",
       "    <tr>\n",
       "      <td>4</td>\n",
       "      <td>Afghanistan</td>\n",
       "      <td>0</td>\n",
       "      <td>0</td>\n",
       "      <td>0</td>\n",
       "      <td>0</td>\n",
       "      <td>0</td>\n",
       "      <td>0</td>\n",
       "      <td>0</td>\n",
       "      <td>0</td>\n",
       "      <td>0</td>\n",
       "      <td>0</td>\n",
       "      <td>0</td>\n",
       "      <td>0</td>\n",
       "      <td>0</td>\n",
       "      <td>0</td>\n",
       "    </tr>\n",
       "  </tbody>\n",
       "</table>\n",
       "</div>"
      ],
      "text/plain": [
       "            Country Name 2005 2006 2007 2008 2009 2010 2011 2012 2013 2014  \\\n",
       "Series Name                                                                  \n",
       "0            Afghanistan    0    0    0    0    0    0    0    0    0    0   \n",
       "1            Afghanistan    1    1    1    1    1    1    1    1    1    1   \n",
       "2            Afghanistan    0    0    0    0    0    0    0    0    0    0   \n",
       "3            Afghanistan    1    1    1    1    1    1    1    1    1    1   \n",
       "4            Afghanistan    0    0    0    0    0    0    0    0    0    0   \n",
       "\n",
       "            2015 2016 2017 2018  \n",
       "Series Name                      \n",
       "0              0    1    1    1  \n",
       "1              1    1    1    1  \n",
       "2              0    0    0    0  \n",
       "3              1    1    1    1  \n",
       "4              0    0    0    0  "
      ]
     },
     "execution_count": 16,
     "metadata": {},
     "output_type": "execute_result"
    }
   ],
   "source": [
    "data = df      #changed the index to series name.\n",
    "data.set_index('Series Name',inplace=True)\n",
    "data.head()"
   ]
  },
  {
   "cell_type": "code",
   "execution_count": 17,
   "metadata": {
    "colab": {
     "base_uri": "https://localhost:8080/",
     "height": 171
    },
    "colab_type": "code",
    "id": "xSsR1B7K6RkM",
    "outputId": "01066321-4e00-47d2-ac1f-67f1cb07e4b0"
   },
   "outputs": [
    {
     "data": {
      "text/html": [
       "<div>\n",
       "<style scoped>\n",
       "    .dataframe tbody tr th:only-of-type {\n",
       "        vertical-align: middle;\n",
       "    }\n",
       "\n",
       "    .dataframe tbody tr th {\n",
       "        vertical-align: top;\n",
       "    }\n",
       "\n",
       "    .dataframe thead th {\n",
       "        text-align: right;\n",
       "    }\n",
       "</style>\n",
       "<table border=\"1\" class=\"dataframe\">\n",
       "  <thead>\n",
       "    <tr style=\"text-align: right;\">\n",
       "      <th></th>\n",
       "      <th>Country Name</th>\n",
       "      <th>2005</th>\n",
       "      <th>2006</th>\n",
       "      <th>2007</th>\n",
       "      <th>2008</th>\n",
       "      <th>2009</th>\n",
       "      <th>2010</th>\n",
       "      <th>2011</th>\n",
       "      <th>2012</th>\n",
       "      <th>2013</th>\n",
       "      <th>2014</th>\n",
       "      <th>2015</th>\n",
       "      <th>2016</th>\n",
       "      <th>2017</th>\n",
       "      <th>2018</th>\n",
       "    </tr>\n",
       "  </thead>\n",
       "  <tbody>\n",
       "    <tr>\n",
       "      <td>count</td>\n",
       "      <td>10000</td>\n",
       "      <td>2846</td>\n",
       "      <td>2527</td>\n",
       "      <td>2516</td>\n",
       "      <td>2611</td>\n",
       "      <td>2762</td>\n",
       "      <td>3331</td>\n",
       "      <td>2884</td>\n",
       "      <td>2668</td>\n",
       "      <td>2609</td>\n",
       "      <td>2831</td>\n",
       "      <td>3304</td>\n",
       "      <td>3327</td>\n",
       "      <td>2962</td>\n",
       "      <td>2614</td>\n",
       "    </tr>\n",
       "    <tr>\n",
       "      <td>unique</td>\n",
       "      <td>17</td>\n",
       "      <td>2080</td>\n",
       "      <td>1910</td>\n",
       "      <td>1929</td>\n",
       "      <td>2017</td>\n",
       "      <td>2147</td>\n",
       "      <td>2428</td>\n",
       "      <td>2261</td>\n",
       "      <td>2047</td>\n",
       "      <td>2009</td>\n",
       "      <td>2203</td>\n",
       "      <td>2457</td>\n",
       "      <td>2393</td>\n",
       "      <td>2356</td>\n",
       "      <td>1971</td>\n",
       "    </tr>\n",
       "    <tr>\n",
       "      <td>top</td>\n",
       "      <td>Algeria</td>\n",
       "      <td>1</td>\n",
       "      <td>1</td>\n",
       "      <td>1</td>\n",
       "      <td>1</td>\n",
       "      <td>1</td>\n",
       "      <td>1</td>\n",
       "      <td>1</td>\n",
       "      <td>1</td>\n",
       "      <td>1</td>\n",
       "      <td>1</td>\n",
       "      <td>1</td>\n",
       "      <td>1</td>\n",
       "      <td>1</td>\n",
       "      <td>1</td>\n",
       "    </tr>\n",
       "    <tr>\n",
       "      <td>freq</td>\n",
       "      <td>616</td>\n",
       "      <td>286</td>\n",
       "      <td>289</td>\n",
       "      <td>293</td>\n",
       "      <td>291</td>\n",
       "      <td>294</td>\n",
       "      <td>297</td>\n",
       "      <td>300</td>\n",
       "      <td>302</td>\n",
       "      <td>308</td>\n",
       "      <td>307</td>\n",
       "      <td>309</td>\n",
       "      <td>315</td>\n",
       "      <td>316</td>\n",
       "      <td>318</td>\n",
       "    </tr>\n",
       "  </tbody>\n",
       "</table>\n",
       "</div>"
      ],
      "text/plain": [
       "       Country Name  2005  2006  2007  2008  2009  2010  2011  2012  2013  \\\n",
       "count         10000  2846  2527  2516  2611  2762  3331  2884  2668  2609   \n",
       "unique           17  2080  1910  1929  2017  2147  2428  2261  2047  2009   \n",
       "top         Algeria     1     1     1     1     1     1     1     1     1   \n",
       "freq            616   286   289   293   291   294   297   300   302   308   \n",
       "\n",
       "        2014  2015  2016  2017  2018  \n",
       "count   2831  3304  3327  2962  2614  \n",
       "unique  2203  2457  2393  2356  1971  \n",
       "top        1     1     1     1     1  \n",
       "freq     307   309   315   316   318  "
      ]
     },
     "execution_count": 17,
     "metadata": {},
     "output_type": "execute_result"
    }
   ],
   "source": [
    "data.describe()      #almost all the years column have missing data."
   ]
  },
  {
   "cell_type": "code",
   "execution_count": 18,
   "metadata": {
    "colab": {
     "base_uri": "https://localhost:8080/",
     "height": 446
    },
    "colab_type": "code",
    "id": "U0aUKbJU6c9r",
    "outputId": "7759dc8a-9653-4808-88dd-abb7ac017e94"
   },
   "outputs": [
    {
     "data": {
      "text/html": [
       "<div>\n",
       "<style scoped>\n",
       "    .dataframe tbody tr th:only-of-type {\n",
       "        vertical-align: middle;\n",
       "    }\n",
       "\n",
       "    .dataframe tbody tr th {\n",
       "        vertical-align: top;\n",
       "    }\n",
       "\n",
       "    .dataframe thead th {\n",
       "        text-align: right;\n",
       "    }\n",
       "</style>\n",
       "<table border=\"1\" class=\"dataframe\">\n",
       "  <thead>\n",
       "    <tr style=\"text-align: right;\">\n",
       "      <th></th>\n",
       "      <th>Country Name</th>\n",
       "      <th>count</th>\n",
       "    </tr>\n",
       "    <tr>\n",
       "      <th>Series Name</th>\n",
       "      <th></th>\n",
       "      <th></th>\n",
       "    </tr>\n",
       "  </thead>\n",
       "  <tbody>\n",
       "    <tr>\n",
       "      <td>11</td>\n",
       "      <td>Afghanistan</td>\n",
       "      <td>14</td>\n",
       "    </tr>\n",
       "    <tr>\n",
       "      <td>12</td>\n",
       "      <td>Afghanistan</td>\n",
       "      <td>14</td>\n",
       "    </tr>\n",
       "    <tr>\n",
       "      <td>13</td>\n",
       "      <td>Afghanistan</td>\n",
       "      <td>11</td>\n",
       "    </tr>\n",
       "    <tr>\n",
       "      <td>14</td>\n",
       "      <td>Afghanistan</td>\n",
       "      <td>11</td>\n",
       "    </tr>\n",
       "    <tr>\n",
       "      <td>15</td>\n",
       "      <td>Afghanistan</td>\n",
       "      <td>14</td>\n",
       "    </tr>\n",
       "    <tr>\n",
       "      <td>...</td>\n",
       "      <td>...</td>\n",
       "      <td>...</td>\n",
       "    </tr>\n",
       "    <tr>\n",
       "      <td>142</td>\n",
       "      <td>Bangladesh</td>\n",
       "      <td>10</td>\n",
       "    </tr>\n",
       "    <tr>\n",
       "      <td>138</td>\n",
       "      <td>Bangladesh</td>\n",
       "      <td>11</td>\n",
       "    </tr>\n",
       "    <tr>\n",
       "      <td>139</td>\n",
       "      <td>Bangladesh</td>\n",
       "      <td>11</td>\n",
       "    </tr>\n",
       "    <tr>\n",
       "      <td>140</td>\n",
       "      <td>Bangladesh</td>\n",
       "      <td>10</td>\n",
       "    </tr>\n",
       "    <tr>\n",
       "      <td>143</td>\n",
       "      <td>Bangladesh</td>\n",
       "      <td>14</td>\n",
       "    </tr>\n",
       "  </tbody>\n",
       "</table>\n",
       "<p>7404 rows × 2 columns</p>\n",
       "</div>"
      ],
      "text/plain": [
       "            Country Name  count\n",
       "Series Name                    \n",
       "11           Afghanistan     14\n",
       "12           Afghanistan     14\n",
       "13           Afghanistan     11\n",
       "14           Afghanistan     11\n",
       "15           Afghanistan     14\n",
       "...                  ...    ...\n",
       "142           Bangladesh     10\n",
       "138           Bangladesh     11\n",
       "139           Bangladesh     11\n",
       "140           Bangladesh     10\n",
       "143           Bangladesh     14\n",
       "\n",
       "[7404 rows x 2 columns]"
      ]
     },
     "execution_count": 18,
     "metadata": {},
     "output_type": "execute_result"
    }
   ],
   "source": [
    "# checking number of missing values in each row. In this cell, i have computed row-wise null value sums, so that the countries that have \n",
    "# more than half of the years NAN should be deleted from the dataset. \n",
    "\n",
    "row_null_values=[]\n",
    "\n",
    "for i in range(len(data.index)) :\n",
    "     row_null_values.append(data.iloc[i].isnull().sum() ) #row_wise null values sum\n",
    "\n",
    "\n",
    "null_df=pd.DataFrame(row_null_values)\n",
    "series_wise_null_values=data[['Country Name']].copy()      #a new series_wise_null_values df is maintained that stores series number,\n",
    "                                                           #country name and total NAN in each row .\n",
    "\n",
    "\n",
    "series_wise_null_values['count']=row_null_values\n",
    "row_to_delete=series_wise_null_values[series_wise_null_values['count']>data.shape[1]/2]           #condition applied so that only those indexes \n",
    "                                                                                                  #are left that have more than half missing data\n",
    "                                                                                                  \n",
    "row_to_delete       #these series has more than half missing values.  => out of 15 years."
   ]
  },
  {
   "cell_type": "code",
   "execution_count": 19,
   "metadata": {
    "colab": {
     "base_uri": "https://localhost:8080/",
     "height": 35
    },
    "colab_type": "code",
    "id": "DdiIy3tF6vbi",
    "outputId": "e3d6a795-871b-440f-8afb-da71203bce2a"
   },
   "outputs": [
    {
     "data": {
      "text/plain": [
       "(2596, 16)"
      ]
     },
     "execution_count": 19,
     "metadata": {},
     "output_type": "execute_result"
    }
   ],
   "source": [
    "data['missing count']=row_null_values\n",
    "df_removed=data[data['missing count']<data.shape[1]/2]\n",
    "df_removed.shape                                                #now series with more than half missing values are removed."
   ]
  },
  {
   "cell_type": "markdown",
   "metadata": {
    "colab_type": "text",
    "id": "i7MgwSXs6-E0"
   },
   "source": [
    "## Changing datatypes for plotting numeric features. "
   ]
  },
  {
   "cell_type": "code",
   "execution_count": 20,
   "metadata": {
    "colab": {},
    "colab_type": "code",
    "id": "kOG_lOE4kuCX"
   },
   "outputs": [],
   "source": [
    "df_removed.drop(['missing count'],axis=1, inplace=True)       #removing the additional missing count variable created to store NAn count."
   ]
  },
  {
   "cell_type": "code",
   "execution_count": 21,
   "metadata": {
    "colab": {
     "base_uri": "https://localhost:8080/",
     "height": 1000
    },
    "colab_type": "code",
    "id": "AWM7h5mEkxUK",
    "outputId": "8b2102da-f95f-4eed-da4d-e1fe37bbd868"
   },
   "outputs": [],
   "source": [
    "#changing the dataype from object to float for visualization\n",
    "\n",
    "df_removed[\"2005\"] = df_removed[\"2005\"].astype(str).astype(float)\n",
    "df_removed[\"2006\"] = df_removed[\"2006\"].astype(str).astype(float)\n",
    "df_removed[\"2007\"] = df_removed[\"2007\"].astype(str).astype(float)\n",
    "df_removed[\"2008\"] = df_removed[\"2008\"].astype(str).astype(float)\n",
    "df_removed[\"2009\"] = df_removed[\"2009\"].astype(str).astype(float)\n",
    "df_removed[\"2010\"] = df_removed[\"2010\"].astype(str).astype(float)\n",
    "df_removed[\"2011\"] = df_removed[\"2011\"].astype(str).astype(float)\n",
    "df_removed[\"2012\"] = df_removed[\"2012\"].astype(str).astype(float)\n",
    "df_removed[\"2013\"] = df_removed[\"2013\"].astype(str).astype(float)\n",
    "df_removed[\"2014\"] = df_removed[\"2014\"].astype(str).astype(float)\n",
    "df_removed[\"2015\"] = df_removed[\"2015\"].astype(str).astype(float)\n",
    "df_removed[\"2016\"] = df_removed[\"2016\"].astype(str).astype(float)\n",
    "df_removed[\"2017\"] = df_removed[\"2017\"].astype(str).astype(float)\n",
    "df_removed[\"2018\"] = df_removed[\"2018\"].astype(str).astype(float)"
   ]
  },
  {
   "cell_type": "code",
   "execution_count": 22,
   "metadata": {
    "colab": {
     "base_uri": "https://localhost:8080/",
     "height": 295
    },
    "colab_type": "code",
    "id": "haVdW76d7KI2",
    "outputId": "18394aaa-4277-458f-e840-3132d1a6a2ad"
   },
   "outputs": [
    {
     "data": {
      "text/plain": [
       "Country Name     object\n",
       "2005            float64\n",
       "2006            float64\n",
       "2007            float64\n",
       "2008            float64\n",
       "2009            float64\n",
       "2010            float64\n",
       "2011            float64\n",
       "2012            float64\n",
       "2013            float64\n",
       "2014            float64\n",
       "2015            float64\n",
       "2016            float64\n",
       "2017            float64\n",
       "2018            float64\n",
       "dtype: object"
      ]
     },
     "execution_count": 22,
     "metadata": {},
     "output_type": "execute_result"
    }
   ],
   "source": [
    "df_removed.dtypes                 #Rechecking the datatypes."
   ]
  },
  {
   "cell_type": "markdown",
   "metadata": {
    "colab_type": "text",
    "id": "amxT5jDelLld"
   },
   "source": [
    "## Dealing with remaining Nan values."
   ]
  },
  {
   "cell_type": "code",
   "execution_count": 23,
   "metadata": {
    "colab": {
     "base_uri": "https://localhost:8080/",
     "height": 399
    },
    "colab_type": "code",
    "id": "gJWNSzxN7whD",
    "outputId": "02c12976-6f4b-4d15-a61a-3d98388810f8"
   },
   "outputs": [
    {
     "data": {
      "text/plain": [
       "<matplotlib.axes._subplots.AxesSubplot at 0x23c76696a08>"
      ]
     },
     "execution_count": 23,
     "metadata": {},
     "output_type": "execute_result"
    },
    {
     "data": {
      "image/png": "[encoded data removed]",
      "text/plain": [
       "<Figure size 864x360 with 1 Axes>"
      ]
     },
     "metadata": {},
     "output_type": "display_data"
    }
   ],
   "source": [
    "sns.set_style('whitegrid')\n",
    "fig, ax = plt.subplots(figsize=(12,5))\n",
    "sns.heatmap(df_removed.isnull(),yticklabels=False,cbar=False,cmap='viridis',ax=ax) \n",
    "\n",
    "#almost every column has some Nan values. "
   ]
  },
  {
   "cell_type": "code",
   "execution_count": 24,
   "metadata": {
    "colab": {
     "base_uri": "https://localhost:8080/",
     "height": 121
    },
    "colab_type": "code",
    "id": "ovqlpeT_lR5C",
    "outputId": "a0afa0f5-8118-4b2e-abf3-5f35d4b67ce3"
   },
   "outputs": [],
   "source": [
    "# to remove the remaining Nan values from the dataframe, i will be using mean and mode method.\n",
    "#those series which have answers in Y/N => 0/1 will be using mode method to replace NAn\n",
    "#those series which have numeric value will be using mean method for replacing Nan.\n",
    "\n",
    "#unique count column is added that shows the total unique values in each row. if its 2(0 and 1) that means mode is to be used to replace Nan.\n",
    "\n",
    "df_removed[\"unique_count\"]=df_removed.T.nunique()\n",
    "dummy=df_removed.iloc[:,1:]                   #dummy df is craeted to store the numeric columns only (discarded Country Name)\n",
    "\n",
    "for i in range(dummy.shape[0]):\n",
    "    if(dummy.iloc[i]['unique_count']>2):\n",
    "        row_avgs = dummy.mean(axis=1).values.reshape(-1,1)\n",
    "        dummy = dummy.fillna(0) + dummy.isna().values * row_avgs\n",
    "    else:\n",
    "        mode=df_removed.iloc[i].mode()\n",
    "        df_removed.iloc[i].fillna(mode)    \n",
    "   "
   ]
  },
  {
   "cell_type": "code",
   "execution_count": 25,
   "metadata": {
    "colab": {
     "base_uri": "https://localhost:8080/",
     "height": 295
    },
    "colab_type": "code",
    "id": "02UHGDkWlahq",
    "outputId": "5ac4f681-0d49-48d4-a606-af1b94400e96"
   },
   "outputs": [
    {
     "data": {
      "text/plain": [
       "2005            0\n",
       "2006            0\n",
       "2007            0\n",
       "2008            0\n",
       "2009            0\n",
       "2010            0\n",
       "2011            0\n",
       "2012            0\n",
       "2013            0\n",
       "2014            0\n",
       "2015            0\n",
       "2016            0\n",
       "2017            0\n",
       "2018            0\n",
       "unique_count    0\n",
       "dtype: int64"
      ]
     },
     "execution_count": 25,
     "metadata": {},
     "output_type": "execute_result"
    }
   ],
   "source": [
    "dummy.isnull().sum()             #to check any Nan"
   ]
  },
  {
   "cell_type": "code",
   "execution_count": 26,
   "metadata": {
    "colab": {
     "base_uri": "https://localhost:8080/",
     "height": 319
    },
    "colab_type": "code",
    "id": "s4HabN5ImHXL",
    "outputId": "e0244e5c-a579-47ea-e1cd-0910114e7268"
   },
   "outputs": [
    {
     "data": {
      "text/html": [
       "<div>\n",
       "<style scoped>\n",
       "    .dataframe tbody tr th:only-of-type {\n",
       "        vertical-align: middle;\n",
       "    }\n",
       "\n",
       "    .dataframe tbody tr th {\n",
       "        vertical-align: top;\n",
       "    }\n",
       "\n",
       "    .dataframe thead th {\n",
       "        text-align: right;\n",
       "    }\n",
       "</style>\n",
       "<table border=\"1\" class=\"dataframe\">\n",
       "  <thead>\n",
       "    <tr style=\"text-align: right;\">\n",
       "      <th></th>\n",
       "      <th>Country Name</th>\n",
       "      <th>2005</th>\n",
       "      <th>2006</th>\n",
       "      <th>2007</th>\n",
       "      <th>2008</th>\n",
       "      <th>2009</th>\n",
       "      <th>2010</th>\n",
       "      <th>2011</th>\n",
       "      <th>2012</th>\n",
       "      <th>2013</th>\n",
       "      <th>2014</th>\n",
       "      <th>2015</th>\n",
       "      <th>2016</th>\n",
       "      <th>2017</th>\n",
       "      <th>2018</th>\n",
       "      <th>unique_count</th>\n",
       "    </tr>\n",
       "    <tr>\n",
       "      <th>Series Name</th>\n",
       "      <th></th>\n",
       "      <th></th>\n",
       "      <th></th>\n",
       "      <th></th>\n",
       "      <th></th>\n",
       "      <th></th>\n",
       "      <th></th>\n",
       "      <th></th>\n",
       "      <th></th>\n",
       "      <th></th>\n",
       "      <th></th>\n",
       "      <th></th>\n",
       "      <th></th>\n",
       "      <th></th>\n",
       "      <th></th>\n",
       "      <th></th>\n",
       "    </tr>\n",
       "  </thead>\n",
       "  <tbody>\n",
       "    <tr>\n",
       "      <td>0</td>\n",
       "      <td>Afghanistan</td>\n",
       "      <td>0.0</td>\n",
       "      <td>0.0</td>\n",
       "      <td>0.0</td>\n",
       "      <td>0.0</td>\n",
       "      <td>0.0</td>\n",
       "      <td>0.0</td>\n",
       "      <td>0.0</td>\n",
       "      <td>0.0</td>\n",
       "      <td>0.0</td>\n",
       "      <td>0.0</td>\n",
       "      <td>0.0</td>\n",
       "      <td>1.0</td>\n",
       "      <td>1.0</td>\n",
       "      <td>1.0</td>\n",
       "      <td>3.0</td>\n",
       "    </tr>\n",
       "    <tr>\n",
       "      <td>1</td>\n",
       "      <td>Afghanistan</td>\n",
       "      <td>1.0</td>\n",
       "      <td>1.0</td>\n",
       "      <td>1.0</td>\n",
       "      <td>1.0</td>\n",
       "      <td>1.0</td>\n",
       "      <td>1.0</td>\n",
       "      <td>1.0</td>\n",
       "      <td>1.0</td>\n",
       "      <td>1.0</td>\n",
       "      <td>1.0</td>\n",
       "      <td>1.0</td>\n",
       "      <td>1.0</td>\n",
       "      <td>1.0</td>\n",
       "      <td>1.0</td>\n",
       "      <td>2.0</td>\n",
       "    </tr>\n",
       "    <tr>\n",
       "      <td>2</td>\n",
       "      <td>Afghanistan</td>\n",
       "      <td>0.0</td>\n",
       "      <td>0.0</td>\n",
       "      <td>0.0</td>\n",
       "      <td>0.0</td>\n",
       "      <td>0.0</td>\n",
       "      <td>0.0</td>\n",
       "      <td>0.0</td>\n",
       "      <td>0.0</td>\n",
       "      <td>0.0</td>\n",
       "      <td>0.0</td>\n",
       "      <td>0.0</td>\n",
       "      <td>0.0</td>\n",
       "      <td>0.0</td>\n",
       "      <td>0.0</td>\n",
       "      <td>2.0</td>\n",
       "    </tr>\n",
       "    <tr>\n",
       "      <td>3</td>\n",
       "      <td>Afghanistan</td>\n",
       "      <td>1.0</td>\n",
       "      <td>1.0</td>\n",
       "      <td>1.0</td>\n",
       "      <td>1.0</td>\n",
       "      <td>1.0</td>\n",
       "      <td>1.0</td>\n",
       "      <td>1.0</td>\n",
       "      <td>1.0</td>\n",
       "      <td>1.0</td>\n",
       "      <td>1.0</td>\n",
       "      <td>1.0</td>\n",
       "      <td>1.0</td>\n",
       "      <td>1.0</td>\n",
       "      <td>1.0</td>\n",
       "      <td>2.0</td>\n",
       "    </tr>\n",
       "    <tr>\n",
       "      <td>4</td>\n",
       "      <td>Afghanistan</td>\n",
       "      <td>0.0</td>\n",
       "      <td>0.0</td>\n",
       "      <td>0.0</td>\n",
       "      <td>0.0</td>\n",
       "      <td>0.0</td>\n",
       "      <td>0.0</td>\n",
       "      <td>0.0</td>\n",
       "      <td>0.0</td>\n",
       "      <td>0.0</td>\n",
       "      <td>0.0</td>\n",
       "      <td>0.0</td>\n",
       "      <td>0.0</td>\n",
       "      <td>0.0</td>\n",
       "      <td>0.0</td>\n",
       "      <td>2.0</td>\n",
       "    </tr>\n",
       "  </tbody>\n",
       "</table>\n",
       "</div>"
      ],
      "text/plain": [
       "            Country Name  2005  2006  2007  2008  2009  2010  2011  2012  \\\n",
       "Series Name                                                                \n",
       "0            Afghanistan   0.0   0.0   0.0   0.0   0.0   0.0   0.0   0.0   \n",
       "1            Afghanistan   1.0   1.0   1.0   1.0   1.0   1.0   1.0   1.0   \n",
       "2            Afghanistan   0.0   0.0   0.0   0.0   0.0   0.0   0.0   0.0   \n",
       "3            Afghanistan   1.0   1.0   1.0   1.0   1.0   1.0   1.0   1.0   \n",
       "4            Afghanistan   0.0   0.0   0.0   0.0   0.0   0.0   0.0   0.0   \n",
       "\n",
       "             2013  2014  2015  2016  2017  2018  unique_count  \n",
       "Series Name                                                    \n",
       "0             0.0   0.0   0.0   1.0   1.0   1.0           3.0  \n",
       "1             1.0   1.0   1.0   1.0   1.0   1.0           2.0  \n",
       "2             0.0   0.0   0.0   0.0   0.0   0.0           2.0  \n",
       "3             1.0   1.0   1.0   1.0   1.0   1.0           2.0  \n",
       "4             0.0   0.0   0.0   0.0   0.0   0.0           2.0  "
      ]
     },
     "execution_count": 26,
     "metadata": {},
     "output_type": "execute_result"
    }
   ],
   "source": [
    "df_removed.drop(['2005', '2006','2007','2008','2009','2010','2011','2012','2013','2014','2015'\n",
    "                 ,'2016','2017','2018',\"unique_count\"], axis = 1, inplace = True) \n",
    "\n",
    "data=pd.concat([df_removed, dummy], axis=1)\n",
    "data.head()                                                   #a new df data is created to concatenate the new dummy(Nan replaced) df and \n",
    "                                                              #country names together. "
   ]
  },
  {
   "cell_type": "code",
   "execution_count": 27,
   "metadata": {
    "colab": {
     "base_uri": "https://localhost:8080/",
     "height": 141
    },
    "colab_type": "code",
    "id": "iY9qArnLmZkl",
    "outputId": "ef67cb44-c384-419a-afd1-0b9ea384f839"
   },
   "outputs": [
    {
     "data": {
      "text/html": [
       "<div>\n",
       "<style scoped>\n",
       "    .dataframe tbody tr th:only-of-type {\n",
       "        vertical-align: middle;\n",
       "    }\n",
       "\n",
       "    .dataframe tbody tr th {\n",
       "        vertical-align: top;\n",
       "    }\n",
       "\n",
       "    .dataframe thead th {\n",
       "        text-align: right;\n",
       "    }\n",
       "</style>\n",
       "<table border=\"1\" class=\"dataframe\">\n",
       "  <thead>\n",
       "    <tr style=\"text-align: right;\">\n",
       "      <th></th>\n",
       "      <th>Country Name</th>\n",
       "      <th>2005</th>\n",
       "      <th>2006</th>\n",
       "      <th>2007</th>\n",
       "      <th>2008</th>\n",
       "      <th>2009</th>\n",
       "      <th>2010</th>\n",
       "      <th>2011</th>\n",
       "      <th>2012</th>\n",
       "      <th>2013</th>\n",
       "      <th>2014</th>\n",
       "      <th>2015</th>\n",
       "      <th>2016</th>\n",
       "      <th>2017</th>\n",
       "      <th>2018</th>\n",
       "    </tr>\n",
       "    <tr>\n",
       "      <th>Series Name</th>\n",
       "      <th></th>\n",
       "      <th></th>\n",
       "      <th></th>\n",
       "      <th></th>\n",
       "      <th></th>\n",
       "      <th></th>\n",
       "      <th></th>\n",
       "      <th></th>\n",
       "      <th></th>\n",
       "      <th></th>\n",
       "      <th></th>\n",
       "      <th></th>\n",
       "      <th></th>\n",
       "      <th></th>\n",
       "      <th></th>\n",
       "    </tr>\n",
       "  </thead>\n",
       "  <tbody>\n",
       "    <tr>\n",
       "      <td>0</td>\n",
       "      <td>Afghanistan</td>\n",
       "      <td>0.0</td>\n",
       "      <td>0.0</td>\n",
       "      <td>0.0</td>\n",
       "      <td>0.0</td>\n",
       "      <td>0.0</td>\n",
       "      <td>0.0</td>\n",
       "      <td>0.0</td>\n",
       "      <td>0.0</td>\n",
       "      <td>0.0</td>\n",
       "      <td>0.0</td>\n",
       "      <td>0.0</td>\n",
       "      <td>1.0</td>\n",
       "      <td>1.0</td>\n",
       "      <td>1.0</td>\n",
       "    </tr>\n",
       "    <tr>\n",
       "      <td>1</td>\n",
       "      <td>Afghanistan</td>\n",
       "      <td>1.0</td>\n",
       "      <td>1.0</td>\n",
       "      <td>1.0</td>\n",
       "      <td>1.0</td>\n",
       "      <td>1.0</td>\n",
       "      <td>1.0</td>\n",
       "      <td>1.0</td>\n",
       "      <td>1.0</td>\n",
       "      <td>1.0</td>\n",
       "      <td>1.0</td>\n",
       "      <td>1.0</td>\n",
       "      <td>1.0</td>\n",
       "      <td>1.0</td>\n",
       "      <td>1.0</td>\n",
       "    </tr>\n",
       "  </tbody>\n",
       "</table>\n",
       "</div>"
      ],
      "text/plain": [
       "            Country Name  2005  2006  2007  2008  2009  2010  2011  2012  \\\n",
       "Series Name                                                                \n",
       "0            Afghanistan   0.0   0.0   0.0   0.0   0.0   0.0   0.0   0.0   \n",
       "1            Afghanistan   1.0   1.0   1.0   1.0   1.0   1.0   1.0   1.0   \n",
       "\n",
       "             2013  2014  2015  2016  2017  2018  \n",
       "Series Name                                      \n",
       "0             0.0   0.0   0.0   1.0   1.0   1.0  \n",
       "1             1.0   1.0   1.0   1.0   1.0   1.0  "
      ]
     },
     "execution_count": 27,
     "metadata": {},
     "output_type": "execute_result"
    }
   ],
   "source": [
    "data.drop(['unique_count'], axis = 1, inplace = True)\n",
    "data.head(n=2)"
   ]
  },
  {
   "cell_type": "markdown",
   "metadata": {
    "colab_type": "text",
    "id": "FwL22QAtm4rN"
   },
   "source": [
    "## As there are more than 100 series , i will working with a few ones to provide proper analysis"
   ]
  },
  {
   "cell_type": "code",
   "execution_count": 28,
   "metadata": {
    "colab": {
     "base_uri": "https://localhost:8080/",
     "height": 52
    },
    "colab_type": "code",
    "id": "R5zE7OsCnCT5",
    "outputId": "3e055f61-83b2-4362-938c-61eef60163b5"
   },
   "outputs": [
    {
     "data": {
      "text/plain": [
       "Series Name    A woman can be head of household in the same way as a man (1=yes; 0=no)\n",
       "Name: 1, dtype: object"
      ]
     },
     "execution_count": 28,
     "metadata": {},
     "output_type": "execute_result"
    }
   ],
   "source": [
    "pd.options.display.max_colwidth = 120\n",
    "dfseries_encoded.iloc[1]"
   ]
  },
  {
   "cell_type": "code",
   "execution_count": 29,
   "metadata": {
    "colab": {
     "base_uri": "https://localhost:8080/",
     "height": 233
    },
    "colab_type": "code",
    "id": "DWw6a9CwnF4O",
    "outputId": "db1da0aa-c532-4274-c11c-c47d1dee4a21"
   },
   "outputs": [
    {
     "data": {
      "text/html": [
       "<div>\n",
       "<style scoped>\n",
       "    .dataframe tbody tr th:only-of-type {\n",
       "        vertical-align: middle;\n",
       "    }\n",
       "\n",
       "    .dataframe tbody tr th {\n",
       "        vertical-align: top;\n",
       "    }\n",
       "\n",
       "    .dataframe thead th {\n",
       "        text-align: right;\n",
       "    }\n",
       "</style>\n",
       "<table border=\"1\" class=\"dataframe\">\n",
       "  <thead>\n",
       "    <tr style=\"text-align: right;\">\n",
       "      <th></th>\n",
       "      <th>2005</th>\n",
       "      <th>2006</th>\n",
       "      <th>2007</th>\n",
       "      <th>2008</th>\n",
       "      <th>2009</th>\n",
       "      <th>2010</th>\n",
       "      <th>2011</th>\n",
       "      <th>2012</th>\n",
       "      <th>2013</th>\n",
       "      <th>2014</th>\n",
       "      <th>2015</th>\n",
       "      <th>2016</th>\n",
       "      <th>2017</th>\n",
       "      <th>2018</th>\n",
       "    </tr>\n",
       "    <tr>\n",
       "      <th>Country Name</th>\n",
       "      <th></th>\n",
       "      <th></th>\n",
       "      <th></th>\n",
       "      <th></th>\n",
       "      <th></th>\n",
       "      <th></th>\n",
       "      <th></th>\n",
       "      <th></th>\n",
       "      <th></th>\n",
       "      <th></th>\n",
       "      <th></th>\n",
       "      <th></th>\n",
       "      <th></th>\n",
       "      <th></th>\n",
       "    </tr>\n",
       "  </thead>\n",
       "  <tbody>\n",
       "    <tr>\n",
       "      <td>Afghanistan</td>\n",
       "      <td>0.0</td>\n",
       "      <td>0.0</td>\n",
       "      <td>0.0</td>\n",
       "      <td>0.0</td>\n",
       "      <td>0.0</td>\n",
       "      <td>0.0</td>\n",
       "      <td>0.0</td>\n",
       "      <td>0.0</td>\n",
       "      <td>0.0</td>\n",
       "      <td>0.0</td>\n",
       "      <td>0.0</td>\n",
       "      <td>1.0</td>\n",
       "      <td>1.0</td>\n",
       "      <td>1.0</td>\n",
       "    </tr>\n",
       "    <tr>\n",
       "      <td>Albania</td>\n",
       "      <td>1.0</td>\n",
       "      <td>1.0</td>\n",
       "      <td>1.0</td>\n",
       "      <td>1.0</td>\n",
       "      <td>1.0</td>\n",
       "      <td>1.0</td>\n",
       "      <td>1.0</td>\n",
       "      <td>1.0</td>\n",
       "      <td>1.0</td>\n",
       "      <td>1.0</td>\n",
       "      <td>1.0</td>\n",
       "      <td>1.0</td>\n",
       "      <td>1.0</td>\n",
       "      <td>1.0</td>\n",
       "    </tr>\n",
       "    <tr>\n",
       "      <td>Algeria</td>\n",
       "      <td>0.0</td>\n",
       "      <td>0.0</td>\n",
       "      <td>0.0</td>\n",
       "      <td>0.0</td>\n",
       "      <td>0.0</td>\n",
       "      <td>0.0</td>\n",
       "      <td>0.0</td>\n",
       "      <td>0.0</td>\n",
       "      <td>0.0</td>\n",
       "      <td>0.0</td>\n",
       "      <td>0.0</td>\n",
       "      <td>0.0</td>\n",
       "      <td>0.0</td>\n",
       "      <td>0.0</td>\n",
       "    </tr>\n",
       "    <tr>\n",
       "      <td>Angola</td>\n",
       "      <td>1.0</td>\n",
       "      <td>1.0</td>\n",
       "      <td>1.0</td>\n",
       "      <td>1.0</td>\n",
       "      <td>1.0</td>\n",
       "      <td>1.0</td>\n",
       "      <td>1.0</td>\n",
       "      <td>1.0</td>\n",
       "      <td>1.0</td>\n",
       "      <td>1.0</td>\n",
       "      <td>1.0</td>\n",
       "      <td>1.0</td>\n",
       "      <td>1.0</td>\n",
       "      <td>1.0</td>\n",
       "    </tr>\n",
       "    <tr>\n",
       "      <td>Antigua and Barbuda</td>\n",
       "      <td>1.0</td>\n",
       "      <td>1.0</td>\n",
       "      <td>1.0</td>\n",
       "      <td>1.0</td>\n",
       "      <td>1.0</td>\n",
       "      <td>1.0</td>\n",
       "      <td>1.0</td>\n",
       "      <td>1.0</td>\n",
       "      <td>1.0</td>\n",
       "      <td>1.0</td>\n",
       "      <td>1.0</td>\n",
       "      <td>1.0</td>\n",
       "      <td>1.0</td>\n",
       "      <td>1.0</td>\n",
       "    </tr>\n",
       "  </tbody>\n",
       "</table>\n",
       "</div>"
      ],
      "text/plain": [
       "                     2005  2006  2007  2008  2009  2010  2011  2012  2013  \\\n",
       "Country Name                                                                \n",
       "Afghanistan           0.0   0.0   0.0   0.0   0.0   0.0   0.0   0.0   0.0   \n",
       "Albania               1.0   1.0   1.0   1.0   1.0   1.0   1.0   1.0   1.0   \n",
       "Algeria               0.0   0.0   0.0   0.0   0.0   0.0   0.0   0.0   0.0   \n",
       "Angola                1.0   1.0   1.0   1.0   1.0   1.0   1.0   1.0   1.0   \n",
       "Antigua and Barbuda   1.0   1.0   1.0   1.0   1.0   1.0   1.0   1.0   1.0   \n",
       "\n",
       "                     2014  2015  2016  2017  2018  \n",
       "Country Name                                       \n",
       "Afghanistan           0.0   0.0   1.0   1.0   1.0  \n",
       "Albania               1.0   1.0   1.0   1.0   1.0  \n",
       "Algeria               0.0   0.0   0.0   0.0   0.0  \n",
       "Angola                1.0   1.0   1.0   1.0   1.0  \n",
       "Antigua and Barbuda   1.0   1.0   1.0   1.0   1.0  "
      ]
     },
     "execution_count": 29,
     "metadata": {},
     "output_type": "execute_result"
    }
   ],
   "source": [
    "#a new df series1 is created to store the countries and values of series 1 only having the actual value as \n",
    "#\"A woman can be head of household in the same way as a man (1=yes; 0=no)\"\n",
    "\n",
    "series1=data.loc[0]\n",
    "series1.set_index('Country Name',inplace=True)\n",
    "series1.head()                                #this dataset has no outliers."
   ]
  },
  {
   "cell_type": "code",
   "execution_count": 30,
   "metadata": {
    "colab": {
     "base_uri": "https://localhost:8080/",
     "height": 350
    },
    "colab_type": "code",
    "id": "RFMcP_RepMJV",
    "outputId": "961f829d-7a13-4c32-e4c4-a3da4a857ffd"
   },
   "outputs": [
    {
     "data": {
      "image/png": "[encoded data removed]",
      "text/plain": [
       "<Figure size 1296x360 with 1 Axes>"
      ]
     },
     "metadata": {},
     "output_type": "display_data"
    }
   ],
   "source": [
    "series11=series1.T\n",
    "plt.figure(figsize=(18,5))\n",
    "\n",
    "sns.countplot(x=\"Country Name\", hue=\"value\", \n",
    "              data=pd.melt(series11),).set(title='A woman can be head of household in the same way as a man (1=yes; 0=no)')\n",
    "\n",
    "plt.show()                                    #here we can compare the number of yes and no in each country over the years.\n",
    "                                              #Agola, Antigua and Barduda , Argentina , Armenia , Austrailia, Austria, Azerbaijan\n",
    "                                              #bahamas and Bangladesh have no 0s in their entries = > A woman can be head of \n",
    "                                              #household in the same way as a man"
   ]
  },
  {
   "cell_type": "code",
   "execution_count": 31,
   "metadata": {
    "colab": {
     "base_uri": "https://localhost:8080/",
     "height": 374
    },
    "colab_type": "code",
    "id": "6sHFwrT-mYFn",
    "outputId": "22050d14-38a7-43b4-ffda-5a892343c3a5"
   },
   "outputs": [
    {
     "data": {
      "image/png": "[encoded data removed]",
      "text/plain": [
       "<Figure size 864x432 with 1 Axes>"
      ]
     },
     "metadata": {},
     "output_type": "display_data"
    }
   ],
   "source": [
    "#working with other series(choosing non categorical)\n",
    "\n",
    "# working with other series \" Adjusted net enrollment rate, primary, female (% of primary school age children)\" that is encoded as 15 , created \n",
    "# a df of this series only.\n",
    "\n",
    "series15=data.loc[15]\n",
    "series15_T = series15.set_index('Country Name').T      #transppose taken to check outliers w.r.t countries.\n",
    " \n",
    "plt.figure(figsize=(12,6))\n",
    "series15_T.boxplot()                                 #using boxplot visualization to detect outliers.\n",
    "plt.show()\n",
    "\n",
    "#It can be seen that there are 2 outliers in Arab World, 1 in Austria and 1 in Azerbaijan  => will be replacing them in the next cells.\n",
    "#i did series-wise outlier analysis for my better understanding."
   ]
  },
  {
   "cell_type": "markdown",
   "metadata": {
    "colab_type": "text",
    "id": "ifBUpDwurUuo"
   },
   "source": [
    "## Outlier Handling in series 15"
   ]
  },
  {
   "cell_type": "code",
   "execution_count": 32,
   "metadata": {
    "colab": {
     "base_uri": "https://localhost:8080/",
     "height": 485
    },
    "colab_type": "code",
    "id": "M9a870worwT1",
    "outputId": "1447f76a-fb92-421e-fa63-e3c1e61ba5d8"
   },
   "outputs": [
    {
     "name": "stdout",
     "output_type": "stream",
     "text": [
      "count    14.000000\n",
      "mean     82.609559\n",
      "std       1.700469\n",
      "min      79.109460\n",
      "25%      82.225397\n",
      "50%      83.281665\n",
      "75%      83.753407\n",
      "max      84.252780\n",
      "Name: Arab World, dtype: float64\n",
      "count    14.000000\n",
      "mean     87.916915\n",
      "std       2.196190\n",
      "min      82.922454\n",
      "25%      87.956222\n",
      "50%      88.772310\n",
      "75%      88.998587\n",
      "max      89.722290\n",
      "Name: Austria, dtype: float64\n",
      "count    14.000000\n",
      "mean     85.483760\n",
      "std       5.496221\n",
      "min      80.584842\n",
      "25%      81.014032\n",
      "50%      83.867090\n",
      "75%      87.571465\n",
      "max      98.761920\n",
      "Name: Azerbaijan, dtype: float64\n"
     ]
    }
   ],
   "source": [
    "#using the describe function to check the upper and lower quartile of the distrubution.\n",
    "\n",
    "print(series15_T['Arab World'].describe())\n",
    "print(series15_T['Austria'].describe())\n",
    "print(series15_T['Azerbaijan'].describe())                #Arab World 1 quartile=82.(outlier lies below 1st quartile)\n",
    "                                                          #Austria 1 quartile = 88 (outlier lies below 1st quartile)\n",
    "                                                          #Azerbaijan 3 quartile = 87 (outlier lies above 3rd quartile)"
   ]
  },
  {
   "cell_type": "code",
   "execution_count": 33,
   "metadata": {
    "colab": {},
    "colab_type": "code",
    "id": "c31YrZ1CsnSI"
   },
   "outputs": [],
   "source": [
    "series15_T['Arab World'] = np.where(series15_T['Arab World'] <82, 82,series15_T['Arab World'])\n",
    "series15_T['Austria'] = np.where(series15_T['Austria'] <88, 88,series15_T['Austria'])\n",
    "series15_T['Azerbaijan'] = np.where(series15_T['Azerbaijan'] >87, 87,series15_T['Azerbaijan'])"
   ]
  },
  {
   "cell_type": "code",
   "execution_count": 34,
   "metadata": {
    "colab": {
     "base_uri": "https://localhost:8080/",
     "height": 388
    },
    "colab_type": "code",
    "id": "sgPmd4K-ssFk",
    "outputId": "06d71e20-8b26-4f28-e10f-18e244e989f4"
   },
   "outputs": [
    {
     "data": {
      "image/png": "[encoded data removed]",
      "text/plain": [
       "<Figure size 864x432 with 1 Axes>"
      ]
     },
     "metadata": {},
     "output_type": "display_data"
    }
   ],
   "source": [
    "plt.figure(figsize=(12,6))\n",
    "plt.show()                                        #plotting the boxplot again to make sure that outliers are replaced."
   ]
  },
  {
   "cell_type": "code",
   "execution_count": 35,
   "metadata": {
    "colab": {
     "base_uri": "https://localhost:8080/",
     "height": 490
    },
    "colab_type": "code",
    "id": "hmOyzCh5sxsB",
    "outputId": "d20f64c5-8eaf-4960-a699-ed0bfc19da0f"
   },
   "outputs": [
    {
     "data": {
      "image/png": "[encoded data removed]",
      "text/plain": [
       "<Figure size 1440x576 with 1 Axes>"
      ]
     },
     "metadata": {},
     "output_type": "display_data"
    }
   ],
   "source": [
    "series15_countries=series15_T.T.index\n",
    "\n",
    "\n",
    "fig=plt.figure(figsize=(20, 8))\n",
    "colors = ['g-','b-','k-','c-','r-','y-','m-']\n",
    "for c in range(len(series15_countries)):\n",
    "    row = series15_T.T.loc[series15_countries[c], :]\n",
    "    plt.plot(row, colors[c%len(colors)], label=series15_countries[c], linewidth=2, marker='o')\n",
    "    plt.xticks(rotation=90)\n",
    "    plt.legend(loc='upper left',prop={'size': 14})\n",
    "    plt.ylabel('fertility rate',fontsize=18)\n",
    "    plt.title(\"Adolescent fertility rate (births per 1,000 women ages 15-19)\",fontsize=20)\n",
    "    plt.xlabel('year',fontsize=18)\n",
    "\n",
    "\n",
    "\n",
    "lgd = plt.legend(loc='center left', bbox_to_anchor=(1, 0.7),fancybox = True, shadow = True)    #to place the legend outside the graph\n",
    "plt.show()\n",
    "\n",
    "#line plot is created for series 15 i.e \"Adjusted net enrollment rate, primary, female (% of primary school age children)\"\n",
    "#to check the distribution among each countries. It can be seen that Arab World has somewhat a smooth and steady line whereas\n",
    "#A sharp and fluctuated decrease can be seen for Bahamas."
   ]
  },
  {
   "cell_type": "code",
   "execution_count": 36,
   "metadata": {
    "colab": {},
    "colab_type": "code",
    "id": "C2zBApbduS83"
   },
   "outputs": [],
   "source": [
    "series15.set_index('Country Name',inplace=True)"
   ]
  },
  {
   "cell_type": "code",
   "execution_count": 37,
   "metadata": {
    "colab": {
     "base_uri": "https://localhost:8080/",
     "height": 514
    },
    "colab_type": "code",
    "id": "YGqiEn6UuVMM",
    "outputId": "924f616f-35ac-46e8-b5df-28e76649b54f"
   },
   "outputs": [
    {
     "data": {
      "image/png": "[encoded data removed]",
      "text/plain": [
       "<Figure size 1296x576 with 1 Axes>"
      ]
     },
     "metadata": {},
     "output_type": "display_data"
    }
   ],
   "source": [
    "series15_new = series15[series15.columns[::2]]  #introducing two year gap.\n",
    "\n",
    "series15_new.T.plot(kind='bar',figsize=(18, 8),\n",
    "                title=\"Adjusted net enrollment rate, primary, female (% of primary school age children)\")\n",
    "lgd = plt.legend(loc='center left', bbox_to_anchor=(1, 0.7),fancybox = True, shadow = True)    \n",
    "\n",
    "\n",
    "#here i can introuced 2 year gaps to compare the overall results of each country for the series \"Adjusted net enrollment rate, primary, \n",
    "#female (% of primary school age children)\" It can be seen that Armenia has a steady increase, however Azerbaijan reached the peak of around\n",
    "# 98% in 2016"
   ]
  },
  {
   "cell_type": "markdown",
   "metadata": {},
   "source": [
    "## Analysis based on Countries"
   ]
  },
  {
   "cell_type": "code",
   "execution_count": 54,
   "metadata": {},
   "outputs": [
    {
     "data": {
      "text/plain": [
       "unique_count    17\n",
       "dtype: int64"
      ]
     },
     "execution_count": 54,
     "metadata": {},
     "output_type": "execute_result"
    }
   ],
   "source": [
    "dummy.groupby(\"Series Name\").count()    # unique count column is storing the number of countries against each series.\n",
    "dummy[['unique_count']].idxmax()        #i would be fetching the series with greatest number of countries to split them \n",
    "                                        #into regions and continents.\n",
    "                                        \n",
    "                                        #series number 17 has the maximum number of countries."
   ]
  },
  {
   "cell_type": "code",
   "execution_count": 51,
   "metadata": {},
   "outputs": [
    {
     "data": {
      "text/plain": [
       "unique_count    17\n",
       "dtype: int64"
      ]
     },
     "execution_count": 51,
     "metadata": {},
     "output_type": "execute_result"
    }
   ],
   "source": [
    "dummy[['unique_count']].idxmax() "
   ]
  },
  {
   "cell_type": "code",
   "execution_count": 63,
   "metadata": {},
   "outputs": [
    {
     "data": {
      "text/html": [
       "<div>\n",
       "<style scoped>\n",
       "    .dataframe tbody tr th:only-of-type {\n",
       "        vertical-align: middle;\n",
       "    }\n",
       "\n",
       "    .dataframe tbody tr th {\n",
       "        vertical-align: top;\n",
       "    }\n",
       "\n",
       "    .dataframe thead th {\n",
       "        text-align: right;\n",
       "    }\n",
       "</style>\n",
       "<table border=\"1\" class=\"dataframe\">\n",
       "  <thead>\n",
       "    <tr style=\"text-align: right;\">\n",
       "      <th>Country Name</th>\n",
       "      <th>Afghanistan</th>\n",
       "      <th>Albania</th>\n",
       "      <th>Algeria</th>\n",
       "      <th>Angola</th>\n",
       "      <th>Antigua and Barbuda</th>\n",
       "      <th>Arab World</th>\n",
       "      <th>Argentina</th>\n",
       "      <th>Armenia</th>\n",
       "      <th>Aruba</th>\n",
       "      <th>Australia</th>\n",
       "      <th>Austria</th>\n",
       "      <th>Azerbaijan</th>\n",
       "      <th>Bahamas, The</th>\n",
       "      <th>Bahrain</th>\n",
       "      <th>Bangladesh</th>\n",
       "    </tr>\n",
       "  </thead>\n",
       "  <tbody>\n",
       "    <tr>\n",
       "      <td>2005</td>\n",
       "      <td>138.4284</td>\n",
       "      <td>18.611</td>\n",
       "      <td>9.6842</td>\n",
       "      <td>185.8702</td>\n",
       "      <td>54.5768</td>\n",
       "      <td>51.212963</td>\n",
       "      <td>63.386</td>\n",
       "      <td>29.6282</td>\n",
       "      <td>36.7648</td>\n",
       "      <td>17.0276</td>\n",
       "      <td>12.0146</td>\n",
       "      <td>36.1402</td>\n",
       "      <td>41.3192</td>\n",
       "      <td>15.5862</td>\n",
       "      <td>98.8674</td>\n",
       "    </tr>\n",
       "    <tr>\n",
       "      <td>2006</td>\n",
       "      <td>135.7602</td>\n",
       "      <td>18.534</td>\n",
       "      <td>9.6856</td>\n",
       "      <td>183.5496</td>\n",
       "      <td>52.8684</td>\n",
       "      <td>50.839601</td>\n",
       "      <td>63.162</td>\n",
       "      <td>28.7066</td>\n",
       "      <td>35.3134</td>\n",
       "      <td>17.0638</td>\n",
       "      <td>11.5708</td>\n",
       "      <td>37.3126</td>\n",
       "      <td>40.3916</td>\n",
       "      <td>15.1866</td>\n",
       "      <td>96.4842</td>\n",
       "    </tr>\n",
       "  </tbody>\n",
       "</table>\n",
       "</div>"
      ],
      "text/plain": [
       "Country Name  Afghanistan  Albania  Algeria    Angola  Antigua and Barbuda  \\\n",
       "2005             138.4284   18.611   9.6842  185.8702              54.5768   \n",
       "2006             135.7602   18.534   9.6856  183.5496              52.8684   \n",
       "\n",
       "Country Name  Arab World  Argentina  Armenia    Aruba  Australia  Austria  \\\n",
       "2005           51.212963     63.386  29.6282  36.7648    17.0276  12.0146   \n",
       "2006           50.839601     63.162  28.7066  35.3134    17.0638  11.5708   \n",
       "\n",
       "Country Name  Azerbaijan  Bahamas, The  Bahrain  Bangladesh  \n",
       "2005             36.1402       41.3192  15.5862     98.8674  \n",
       "2006             37.3126       40.3916  15.1866     96.4842  "
      ]
     },
     "execution_count": 63,
     "metadata": {},
     "output_type": "execute_result"
    }
   ],
   "source": [
    "# a new df is created for series number 17 => \"Adolescent fertility rate (births per 1,000 women ages 15-19)\" \n",
    "                                               #for analysis with max. no of countries.\n",
    "series17=data.loc[17]\n",
    "series17_T = series17.set_index('Country Name').T\n",
    "series17_T.head(n=2)"
   ]
  },
  {
   "cell_type": "code",
   "execution_count": 65,
   "metadata": {},
   "outputs": [
    {
     "data": {
      "text/html": [
       "<div>\n",
       "<style scoped>\n",
       "    .dataframe tbody tr th:only-of-type {\n",
       "        vertical-align: middle;\n",
       "    }\n",
       "\n",
       "    .dataframe tbody tr th {\n",
       "        vertical-align: top;\n",
       "    }\n",
       "\n",
       "    .dataframe thead th {\n",
       "        text-align: right;\n",
       "    }\n",
       "</style>\n",
       "<table border=\"1\" class=\"dataframe\">\n",
       "  <thead>\n",
       "    <tr style=\"text-align: right;\">\n",
       "      <th>Country Name</th>\n",
       "      <th>Afghanistan</th>\n",
       "      <th>Albania</th>\n",
       "      <th>Algeria</th>\n",
       "      <th>Angola</th>\n",
       "      <th>Antigua and Barbuda</th>\n",
       "      <th>Arab World</th>\n",
       "      <th>Argentina</th>\n",
       "      <th>Armenia</th>\n",
       "      <th>Aruba</th>\n",
       "      <th>Australia</th>\n",
       "      <th>Austria</th>\n",
       "      <th>Azerbaijan</th>\n",
       "      <th>Bahamas, The</th>\n",
       "      <th>Bahrain</th>\n",
       "      <th>Bangladesh</th>\n",
       "    </tr>\n",
       "  </thead>\n",
       "  <tbody>\n",
       "    <tr>\n",
       "      <td>count</td>\n",
       "      <td>14.000000</td>\n",
       "      <td>14.000000</td>\n",
       "      <td>14.000000</td>\n",
       "      <td>14.000000</td>\n",
       "      <td>14.000000</td>\n",
       "      <td>14.000000</td>\n",
       "      <td>14.000000</td>\n",
       "      <td>14.000000</td>\n",
       "      <td>14.000000</td>\n",
       "      <td>14.00000</td>\n",
       "      <td>14.000000</td>\n",
       "      <td>14.000000</td>\n",
       "      <td>14.000000</td>\n",
       "      <td>14.000000</td>\n",
       "      <td>14.000000</td>\n",
       "    </tr>\n",
       "    <tr>\n",
       "      <td>mean</td>\n",
       "      <td>103.532971</td>\n",
       "      <td>19.618886</td>\n",
       "      <td>10.446971</td>\n",
       "      <td>167.831629</td>\n",
       "      <td>47.578729</td>\n",
       "      <td>49.235640</td>\n",
       "      <td>63.150600</td>\n",
       "      <td>25.089700</td>\n",
       "      <td>28.958557</td>\n",
       "      <td>13.81230</td>\n",
       "      <td>9.167914</td>\n",
       "      <td>47.079957</td>\n",
       "      <td>34.522586</td>\n",
       "      <td>14.174414</td>\n",
       "      <td>89.419886</td>\n",
       "    </tr>\n",
       "    <tr>\n",
       "      <td>std</td>\n",
       "      <td>25.313353</td>\n",
       "      <td>0.751366</td>\n",
       "      <td>0.637618</td>\n",
       "      <td>12.479158</td>\n",
       "      <td>3.833950</td>\n",
       "      <td>1.575902</td>\n",
       "      <td>0.277163</td>\n",
       "      <td>2.723227</td>\n",
       "      <td>4.830819</td>\n",
       "      <td>2.24343</td>\n",
       "      <td>1.657574</td>\n",
       "      <td>7.079045</td>\n",
       "      <td>4.079606</td>\n",
       "      <td>0.697085</td>\n",
       "      <td>5.070296</td>\n",
       "    </tr>\n",
       "    <tr>\n",
       "      <td>min</td>\n",
       "      <td>65.141000</td>\n",
       "      <td>18.457000</td>\n",
       "      <td>9.684200</td>\n",
       "      <td>147.958000</td>\n",
       "      <td>41.831000</td>\n",
       "      <td>46.005049</td>\n",
       "      <td>62.565400</td>\n",
       "      <td>20.886000</td>\n",
       "      <td>21.173600</td>\n",
       "      <td>11.32580</td>\n",
       "      <td>7.044400</td>\n",
       "      <td>36.140200</td>\n",
       "      <td>29.225400</td>\n",
       "      <td>13.239000</td>\n",
       "      <td>82.312800</td>\n",
       "    </tr>\n",
       "    <tr>\n",
       "      <td>25%</td>\n",
       "      <td>83.285000</td>\n",
       "      <td>19.025250</td>\n",
       "      <td>9.890550</td>\n",
       "      <td>158.119300</td>\n",
       "      <td>44.680100</td>\n",
       "      <td>48.423219</td>\n",
       "      <td>62.970200</td>\n",
       "      <td>22.998400</td>\n",
       "      <td>25.301100</td>\n",
       "      <td>11.97915</td>\n",
       "      <td>7.845800</td>\n",
       "      <td>41.173750</td>\n",
       "      <td>31.259200</td>\n",
       "      <td>13.649250</td>\n",
       "      <td>85.501350</td>\n",
       "    </tr>\n",
       "    <tr>\n",
       "      <td>50%</td>\n",
       "      <td>104.026500</td>\n",
       "      <td>19.731400</td>\n",
       "      <td>10.401300</td>\n",
       "      <td>168.782900</td>\n",
       "      <td>47.416000</td>\n",
       "      <td>49.828858</td>\n",
       "      <td>63.175800</td>\n",
       "      <td>25.136300</td>\n",
       "      <td>29.047000</td>\n",
       "      <td>12.78180</td>\n",
       "      <td>8.730300</td>\n",
       "      <td>48.164500</td>\n",
       "      <td>33.463700</td>\n",
       "      <td>14.072400</td>\n",
       "      <td>89.154600</td>\n",
       "    </tr>\n",
       "    <tr>\n",
       "      <td>75%</td>\n",
       "      <td>125.018250</td>\n",
       "      <td>20.225850</td>\n",
       "      <td>10.923600</td>\n",
       "      <td>177.771750</td>\n",
       "      <td>50.120000</td>\n",
       "      <td>50.258766</td>\n",
       "      <td>63.368350</td>\n",
       "      <td>27.049250</td>\n",
       "      <td>32.524500</td>\n",
       "      <td>15.90050</td>\n",
       "      <td>10.461250</td>\n",
       "      <td>52.868900</td>\n",
       "      <td>37.797250</td>\n",
       "      <td>14.588500</td>\n",
       "      <td>92.727000</td>\n",
       "    </tr>\n",
       "    <tr>\n",
       "      <td>max</td>\n",
       "      <td>138.428400</td>\n",
       "      <td>20.730000</td>\n",
       "      <td>11.556000</td>\n",
       "      <td>185.870200</td>\n",
       "      <td>54.576800</td>\n",
       "      <td>51.212963</td>\n",
       "      <td>63.567000</td>\n",
       "      <td>29.628200</td>\n",
       "      <td>36.764800</td>\n",
       "      <td>17.10000</td>\n",
       "      <td>12.014600</td>\n",
       "      <td>56.497600</td>\n",
       "      <td>41.319200</td>\n",
       "      <td>15.586200</td>\n",
       "      <td>98.867400</td>\n",
       "    </tr>\n",
       "  </tbody>\n",
       "</table>\n",
       "</div>"
      ],
      "text/plain": [
       "Country Name  Afghanistan    Albania    Algeria      Angola  \\\n",
       "count           14.000000  14.000000  14.000000   14.000000   \n",
       "mean           103.532971  19.618886  10.446971  167.831629   \n",
       "std             25.313353   0.751366   0.637618   12.479158   \n",
       "min             65.141000  18.457000   9.684200  147.958000   \n",
       "25%             83.285000  19.025250   9.890550  158.119300   \n",
       "50%            104.026500  19.731400  10.401300  168.782900   \n",
       "75%            125.018250  20.225850  10.923600  177.771750   \n",
       "max            138.428400  20.730000  11.556000  185.870200   \n",
       "\n",
       "Country Name  Antigua and Barbuda  Arab World  Argentina    Armenia  \\\n",
       "count                   14.000000   14.000000  14.000000  14.000000   \n",
       "mean                    47.578729   49.235640  63.150600  25.089700   \n",
       "std                      3.833950    1.575902   0.277163   2.723227   \n",
       "min                     41.831000   46.005049  62.565400  20.886000   \n",
       "25%                     44.680100   48.423219  62.970200  22.998400   \n",
       "50%                     47.416000   49.828858  63.175800  25.136300   \n",
       "75%                     50.120000   50.258766  63.368350  27.049250   \n",
       "max                     54.576800   51.212963  63.567000  29.628200   \n",
       "\n",
       "Country Name      Aruba  Australia    Austria  Azerbaijan  Bahamas, The  \\\n",
       "count         14.000000   14.00000  14.000000   14.000000     14.000000   \n",
       "mean          28.958557   13.81230   9.167914   47.079957     34.522586   \n",
       "std            4.830819    2.24343   1.657574    7.079045      4.079606   \n",
       "min           21.173600   11.32580   7.044400   36.140200     29.225400   \n",
       "25%           25.301100   11.97915   7.845800   41.173750     31.259200   \n",
       "50%           29.047000   12.78180   8.730300   48.164500     33.463700   \n",
       "75%           32.524500   15.90050  10.461250   52.868900     37.797250   \n",
       "max           36.764800   17.10000  12.014600   56.497600     41.319200   \n",
       "\n",
       "Country Name    Bahrain  Bangladesh  \n",
       "count         14.000000   14.000000  \n",
       "mean          14.174414   89.419886  \n",
       "std            0.697085    5.070296  \n",
       "min           13.239000   82.312800  \n",
       "25%           13.649250   85.501350  \n",
       "50%           14.072400   89.154600  \n",
       "75%           14.588500   92.727000  \n",
       "max           15.586200   98.867400  "
      ]
     },
     "execution_count": 65,
     "metadata": {},
     "output_type": "execute_result"
    }
   ],
   "source": [
    "series17_T_describe=series17_T.describe()\n",
    "series17_T_describe                                        #here we can see that none of the country has any Nan value.\n",
    "                                                           #Lets plot the boxplot to check the outliers in each country."
   ]
  },
  {
   "cell_type": "code",
   "execution_count": 68,
   "metadata": {},
   "outputs": [
    {
     "data": {
      "image/png": "[encoded data removed]",
      "text/plain": [
       "<Figure size 1296x576 with 1 Axes>"
      ]
     },
     "metadata": {},
     "output_type": "display_data"
    }
   ],
   "source": [
    "plt.figure(figsize=(18,8))\n",
    "series17_T.boxplot()                                 #using boxplot visualization to detect outliers.\n",
    "plt.show()                                           #it can be seen that no outiers present. so, moving to next step."
   ]
  },
  {
   "cell_type": "code",
   "execution_count": 82,
   "metadata": {},
   "outputs": [
    {
     "name": "stdout",
     "output_type": "stream",
     "text": [
      "The country with the highest mean is :  Angola\n",
      "The country with the lowest mean is :  Austria\n"
     ]
    }
   ],
   "source": [
    "#ploting the countries with max and min mean to compare the results.\n",
    "print(\"The country with the highest mean is : \" ,series17_T.mean().idxmax())\n",
    "print(\"The country with the lowest mean is : \" ,series17_T.mean().idxmin())\n",
    "\n",
    "#Angola has the highest mean whereas, Austria has the lowest."
   ]
  },
  {
   "cell_type": "code",
   "execution_count": 99,
   "metadata": {},
   "outputs": [
    {
     "data": {
      "text/plain": [
       "<matplotlib.axes._subplots.AxesSubplot at 0x23c7951de88>"
      ]
     },
     "execution_count": 99,
     "metadata": {},
     "output_type": "execute_result"
    },
    {
     "data": {
      "image/png": "[encoded data removed]",
      "text/plain": [
       "<Figure size 864x432 with 1 Axes>"
      ]
     },
     "metadata": {},
     "output_type": "display_data"
    }
   ],
   "source": [
    "#A clear difference in altitudes can be seen between these two countries.\n",
    "\n",
    "series17=series17.set_index('Country Name')\n",
    "dummy_17=  series17.loc[[series17_T.mean().idxmax(),series17_T.mean().idxmin()],:]\n",
    "dummy_17.T.plot(kind='bar',figsize=(12, 6), title=\"Adolescent fertility rate (births per 1,000 women ages 15-19)\")"
   ]
  },
  {
   "cell_type": "code",
   "execution_count": 100,
   "metadata": {},
   "outputs": [
    {
     "data": {
      "text/plain": [
       "Index(['Afghanistan', 'Albania', 'Algeria', 'Angola', 'Antigua and Barbuda',\n",
       "       'Arab World', 'Argentina', 'Armenia', 'Aruba', 'Australia', 'Austria',\n",
       "       'Azerbaijan', 'Bahamas, The', 'Bahrain', 'Bangladesh'],\n",
       "      dtype='object', name='Country Name')"
      ]
     },
     "execution_count": 100,
     "metadata": {},
     "output_type": "execute_result"
    }
   ],
   "source": [
    "series17.index            #to check countries in this series in order to seperate them according to their continents."
   ]
  },
  {
   "cell_type": "markdown",
   "metadata": {},
   "source": [
    "## Comparison based on Continents"
   ]
  },
  {
   "cell_type": "code",
   "execution_count": 102,
   "metadata": {},
   "outputs": [],
   "source": [
    "#i divided the countries of series 17 into continents to explore their trend over the years.\n",
    "\n",
    "Asia= ['Afghanistan','Bangladesh','Arab World','Bahrain' ]\n",
    "Europe =['Albania','Austria','Azerbaijan' ]\n",
    "Africa =['Algeria', 'Angola']\n",
    "America =['Antigua and Barbuda','Argentina','Aruba','Bahamas, The',]"
   ]
  },
  {
   "cell_type": "code",
   "execution_count": 125,
   "metadata": {
    "scrolled": false
   },
   "outputs": [
    {
     "data": {
      "image/png": "[encoded data removed]",
      "text/plain": [
       "<Figure size 864x288 with 1 Axes>"
      ]
     },
     "metadata": {},
     "output_type": "display_data"
    },
    {
     "data": {
      "image/png": "[encoded data removed]",
      "text/plain": [
       "<Figure size 864x288 with 1 Axes>"
      ]
     },
     "metadata": {},
     "output_type": "display_data"
    },
    {
     "data": {
      "image/png": "[encoded data removed]",
      "text/plain": [
       "<Figure size 864x288 with 1 Axes>"
      ]
     },
     "metadata": {},
     "output_type": "display_data"
    },
    {
     "data": {
      "image/png": "[encoded data removed]",
      "text/plain": [
       "<Figure size 864x288 with 1 Axes>"
      ]
     },
     "metadata": {},
     "output_type": "display_data"
    }
   ],
   "source": [
    "# Lets create a bar graph for Asian Countries\n",
    "plt.style.use('seaborn-darkgrid')\n",
    "\n",
    "\n",
    "Asia_df = series17.loc[  Asia, : ]\n",
    "Asia_df.T.plot(kind='bar',figsize=(12, 4))           #the trend of overall Asia continent is decreasing. However,Behrain has a\n",
    "                                                     #constant value of 17 throughout the years.\n",
    "lgd = plt.legend(loc='center left', bbox_to_anchor=(1, 0.7),fancybox = True, shadow = True)    \n",
    "plt.show()\n",
    "\n",
    "Europe_df = series17.loc[  Europe, : ]\n",
    "Europe_df.T.plot(kind='bar',figsize=(12, 4))         #the trend of overall Europe continent  is increasing. However,Albania\n",
    "                                                     #has somewhat constant value around 20 throughout the years.\n",
    "lgd = plt.legend(loc='center left', bbox_to_anchor=(1, 0.7),fancybox = True, shadow = True)    \n",
    "plt.show()\n",
    "\n",
    "Africa_df = series17.loc[  Africa, : ]\n",
    "Africa_df.T.plot(kind='bar',figsize=(12, 4))           #the trend of overall Africacontinent is decreasing.Angola shows a steady \n",
    "                                                       #decrease and Algeria has a constant value.\n",
    "lgd = plt.legend(loc='center left', bbox_to_anchor=(1, 0.7),fancybox = True, shadow = True)    \n",
    "plt.show()\n",
    "\n",
    "America_df = series17.loc[  America, : ]\n",
    "America_df.T.plot(kind='bar',figsize=(12, 4))          #the trend of overall Ameria  continent is almost constant. Slight\n",
    "                                                       #fluctuations can be seen in all countries.\n",
    "lgd = plt.legend(loc='center left', bbox_to_anchor=(1, 0.7),fancybox = True, shadow = True)        \n",
    "plt.show()"
   ]
  },
  {
   "cell_type": "markdown",
   "metadata": {},
   "source": [
    "## lets check the skewness of each country."
   ]
  },
  {
   "cell_type": "code",
   "execution_count": 136,
   "metadata": {},
   "outputs": [
    {
     "data": {
      "text/plain": [
       "Index(['Afghanistan', 'Albania', 'Algeria', 'Angola', 'Antigua and Barbuda',\n",
       "       'Arab World', 'Argentina', 'Armenia', 'Aruba', 'Australia', 'Austria',\n",
       "       'Azerbaijan', 'Bahamas, The', 'Bahrain', 'Bangladesh'],\n",
       "      dtype='object', name='Country Name')"
      ]
     },
     "execution_count": 136,
     "metadata": {},
     "output_type": "execute_result"
    }
   ],
   "source": [
    "series17.index               #to get countries of series17"
   ]
  },
  {
   "cell_type": "code",
   "execution_count": 183,
   "metadata": {},
   "outputs": [
    {
     "name": "stdout",
     "output_type": "stream",
     "text": [
      "Country Name\n",
      "Afghanistan           -0.085386\n",
      "Albania               -0.305498\n",
      "Algeria                0.285704\n",
      "Angola                -0.154528\n",
      "Antigua and Barbuda    0.253167\n",
      "Arab World            -0.909003\n",
      "Argentina             -0.579727\n",
      "Armenia                0.051921\n",
      "Aruba                 -0.006897\n",
      "Australia              0.527302\n",
      "Austria                0.453504\n",
      "Azerbaijan            -0.233265\n",
      "Bahamas, The           0.414386\n",
      "Bahrain                0.597649\n",
      "Bangladesh             0.324715\n",
      "dtype: float64\n"
     ]
    },
    {
     "data": {
      "image/png": "[encoded data removed]",
      "text/plain": [
       "<Figure size 1080x360 with 6 Axes>"
      ]
     },
     "metadata": {},
     "output_type": "display_data"
    },
    {
     "data": {
      "image/png": "[encoded data removed]",
      "text/plain": [
       "<Figure size 1080x360 with 6 Axes>"
      ]
     },
     "metadata": {},
     "output_type": "display_data"
    },
    {
     "data": {
      "image/png": "[encoded data removed]",
      "text/plain": [
       "<Figure size 324x360 with 2 Axes>"
      ]
     },
     "metadata": {},
     "output_type": "display_data"
    }
   ],
   "source": [
    "#finding the skewness of each country to  check their distribution and if they are right or left skewed\n",
    "#then need to make them normally distrbiuted.\n",
    "\n",
    "\n",
    "skewValue = series17.skew(axis=1)\n",
    "print(skewValue)\n",
    "\n",
    "fig, axes= plt.subplots(1, 6,figsize=(15,5))\n",
    "\n",
    "axes[0].hist(series17_T.Afghanistan, bins=8)\n",
    "axes[0].title.set_text('Afghanistan')\n",
    "\n",
    "axes[1].hist(series17_T.Albania, bins=8)\n",
    "axes[1].title.set_text('Albania')\n",
    "\n",
    "axes[2].hist(series17_T.Algeria, bins=8)\n",
    "axes[2].title.set_text('Algeria')\n",
    "\n",
    "axes[3].hist(series17_T.Angola, bins=8)\n",
    "axes[3].title.set_text('Angola')\n",
    "\n",
    "axes[4].hist(series17_T['Antigua and Barbuda'], bins=8)\n",
    "axes[4].title.set_text('Antigua and Barbuda')\n",
    "\n",
    "axes[5].hist(series17_T['Arab World'], bins=8)\n",
    "axes[5].title.set_text('Arab World')\n",
    "\n",
    "\n",
    "fig, axes= plt.subplots(1, 6,figsize=(15,5))\n",
    "axes[0].hist(series17_T.Argentina, bins=8)\n",
    "axes[0].title.set_text('Argentina')\n",
    "\n",
    "axes[1].hist(series17_T.Armenia, bins=8)\n",
    "axes[1].title.set_text('Armenia')\n",
    "\n",
    "axes[2].hist(series17_T.Australia, bins=8)\n",
    "axes[2].title.set_text('Australia')\n",
    "\n",
    "axes[3].hist(series17_T.Austria, bins=8)\n",
    "axes[3].title.set_text('Austria')\n",
    "\n",
    "axes[4].hist(series17_T['Azerbaijan'], bins=8)\n",
    "axes[4].title.set_text('Azerbaijan')\n",
    "\n",
    "axes[5].hist(series17_T['Bahamas, The'], bins=8)\n",
    "axes[5].title.set_text('Bahamas, The')\n",
    "\n",
    "fig, axes= plt.subplots(1, 2,figsize=(4.5,5))\n",
    "axes[0].hist(series17_T.Bahrain, bins=8)\n",
    "axes[0].title.set_text('Bahrain')\n",
    "\n",
    "axes[1].hist(series17_T.Bangladesh, bins=8)\n",
    "axes[1].title.set_text('Bangladesh')\n",
    "\n",
    "#Almost every country is either right skewed or left, would be apply log function to make them normally distributed."
   ]
  },
  {
   "cell_type": "code",
   "execution_count": 189,
   "metadata": {
    "scrolled": true
   },
   "outputs": [
    {
     "data": {
      "text/html": [
       "<div>\n",
       "<style scoped>\n",
       "    .dataframe tbody tr th:only-of-type {\n",
       "        vertical-align: middle;\n",
       "    }\n",
       "\n",
       "    .dataframe tbody tr th {\n",
       "        vertical-align: top;\n",
       "    }\n",
       "\n",
       "    .dataframe thead th {\n",
       "        text-align: right;\n",
       "    }\n",
       "</style>\n",
       "<table border=\"1\" class=\"dataframe\">\n",
       "  <thead>\n",
       "    <tr style=\"text-align: right;\">\n",
       "      <th>Country Name</th>\n",
       "      <th>Afghanistan</th>\n",
       "      <th>Albania</th>\n",
       "      <th>Algeria</th>\n",
       "      <th>Angola</th>\n",
       "      <th>Antigua and Barbuda</th>\n",
       "      <th>Arab World</th>\n",
       "      <th>Argentina</th>\n",
       "      <th>Armenia</th>\n",
       "      <th>Aruba</th>\n",
       "      <th>Australia</th>\n",
       "      <th>Austria</th>\n",
       "      <th>Azerbaijan</th>\n",
       "      <th>Bahamas, The</th>\n",
       "      <th>Bahrain</th>\n",
       "      <th>Bangladesh</th>\n",
       "    </tr>\n",
       "  </thead>\n",
       "  <tbody>\n",
       "    <tr>\n",
       "      <td>2005</td>\n",
       "      <td>1.430577</td>\n",
       "      <td>-1.392041</td>\n",
       "      <td>-1.241442</td>\n",
       "      <td>1.500062</td>\n",
       "      <td>1.894193</td>\n",
       "      <td>1.302089</td>\n",
       "      <td>0.881382</td>\n",
       "      <td>1.729501</td>\n",
       "      <td>1.676925</td>\n",
       "      <td>1.487309</td>\n",
       "      <td>1.782210</td>\n",
       "      <td>-1.603708</td>\n",
       "      <td>1.728887</td>\n",
       "      <td>2.101722</td>\n",
       "      <td>1.933644</td>\n",
       "    </tr>\n",
       "    <tr>\n",
       "      <td>2006</td>\n",
       "      <td>1.321191</td>\n",
       "      <td>-1.498389</td>\n",
       "      <td>-1.239163</td>\n",
       "      <td>1.307084</td>\n",
       "      <td>1.431774</td>\n",
       "      <td>1.056227</td>\n",
       "      <td>0.042684</td>\n",
       "      <td>1.378304</td>\n",
       "      <td>1.365138</td>\n",
       "      <td>1.504054</td>\n",
       "      <td>1.504363</td>\n",
       "      <td>-1.431841</td>\n",
       "      <td>1.492929</td>\n",
       "      <td>1.506838</td>\n",
       "      <td>1.445869</td>\n",
       "    </tr>\n",
       "    <tr>\n",
       "      <td>2007</td>\n",
       "      <td>1.211805</td>\n",
       "      <td>-1.604738</td>\n",
       "      <td>-1.236885</td>\n",
       "      <td>1.114106</td>\n",
       "      <td>0.969356</td>\n",
       "      <td>0.845462</td>\n",
       "      <td>-0.796015</td>\n",
       "      <td>1.027107</td>\n",
       "      <td>1.053350</td>\n",
       "      <td>1.520799</td>\n",
       "      <td>1.226515</td>\n",
       "      <td>-1.259973</td>\n",
       "      <td>1.256971</td>\n",
       "      <td>0.911955</td>\n",
       "      <td>0.958094</td>\n",
       "    </tr>\n",
       "    <tr>\n",
       "      <td>2008</td>\n",
       "      <td>0.947011</td>\n",
       "      <td>-0.976867</td>\n",
       "      <td>-0.628510</td>\n",
       "      <td>0.884106</td>\n",
       "      <td>0.744155</td>\n",
       "      <td>0.704374</td>\n",
       "      <td>-0.324996</td>\n",
       "      <td>0.802807</td>\n",
       "      <td>0.823494</td>\n",
       "      <td>1.076915</td>\n",
       "      <td>0.893073</td>\n",
       "      <td>-0.944649</td>\n",
       "      <td>0.917788</td>\n",
       "      <td>0.675550</td>\n",
       "      <td>0.733119</td>\n",
       "    </tr>\n",
       "    <tr>\n",
       "      <td>2009</td>\n",
       "      <td>0.682217</td>\n",
       "      <td>-0.348997</td>\n",
       "      <td>-0.020135</td>\n",
       "      <td>0.654106</td>\n",
       "      <td>0.518955</td>\n",
       "      <td>0.581838</td>\n",
       "      <td>0.146023</td>\n",
       "      <td>0.578507</td>\n",
       "      <td>0.593639</td>\n",
       "      <td>0.633030</td>\n",
       "      <td>0.559631</td>\n",
       "      <td>-0.629324</td>\n",
       "      <td>0.578605</td>\n",
       "      <td>0.439145</td>\n",
       "      <td>0.508143</td>\n",
       "    </tr>\n",
       "  </tbody>\n",
       "</table>\n",
       "</div>"
      ],
      "text/plain": [
       "Country Name  Afghanistan   Albania   Algeria    Angola  Antigua and Barbuda  \\\n",
       "2005             1.430577 -1.392041 -1.241442  1.500062             1.894193   \n",
       "2006             1.321191 -1.498389 -1.239163  1.307084             1.431774   \n",
       "2007             1.211805 -1.604738 -1.236885  1.114106             0.969356   \n",
       "2008             0.947011 -0.976867 -0.628510  0.884106             0.744155   \n",
       "2009             0.682217 -0.348997 -0.020135  0.654106             0.518955   \n",
       "\n",
       "Country Name  Arab World  Argentina   Armenia     Aruba  Australia   Austria  \\\n",
       "2005            1.302089   0.881382  1.729501  1.676925   1.487309  1.782210   \n",
       "2006            1.056227   0.042684  1.378304  1.365138   1.504054  1.504363   \n",
       "2007            0.845462  -0.796015  1.027107  1.053350   1.520799  1.226515   \n",
       "2008            0.704374  -0.324996  0.802807  0.823494   1.076915  0.893073   \n",
       "2009            0.581838   0.146023  0.578507  0.593639   0.633030  0.559631   \n",
       "\n",
       "Country Name  Azerbaijan  Bahamas, The   Bahrain  Bangladesh  \n",
       "2005           -1.603708      1.728887  2.101722    1.933644  \n",
       "2006           -1.431841      1.492929  1.506838    1.445869  \n",
       "2007           -1.259973      1.256971  0.911955    0.958094  \n",
       "2008           -0.944649      0.917788  0.675550    0.733119  \n",
       "2009           -0.629324      0.578605  0.439145    0.508143  "
      ]
     },
     "execution_count": 189,
     "metadata": {},
     "output_type": "execute_result"
    }
   ],
   "source": [
    "#As analysed above, the data was not normalized, here by creating an onject of standardscalar, i normalized the series17 \n",
    "#dataframe.\n",
    "\n",
    "from sklearn.preprocessing import StandardScaler\n",
    "scaler = StandardScaler()\n",
    "\n",
    "series17_T.iloc[:,0:] = scaler.fit_transform(series17_T.iloc[:,0:].to_numpy())\n",
    "series17_T.head()\n"
   ]
  },
  {
   "cell_type": "code",
   "execution_count": null,
   "metadata": {},
   "outputs": [],
   "source": []
  }
 ],
 "metadata": {
  "colab": {
   "collapsed_sections": [],
   "name": "EDA task 2.ipynb",
   "provenance": []
  },
  "kernelspec": {
   "display_name": "Python 3",
   "language": "python",
   "name": "python3"
  },
  "language_info": {
   "codemirror_mode": {
    "name": "ipython",
    "version": 3
   },
   "file_extension": ".py",
   "mimetype": "text/x-python",
   "name": "python",
   "nbconvert_exporter": "python",
   "pygments_lexer": "ipython3",
   "version": "3.7.4"
  }
 },
 "nbformat": 4,
 "nbformat_minor": 1
}
